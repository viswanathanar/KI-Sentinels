{
 "cells": [
  {
   "cell_type": "markdown",
   "id": "943a45e9",
   "metadata": {
    "papermill": {
     "duration": 0.017448,
     "end_time": "2023-11-27T00:05:45.651753",
     "exception": false,
     "start_time": "2023-11-27T00:05:45.634305",
     "status": "completed"
    },
    "tags": []
   },
   "source": [
    "<h1 style=\"text-align: center\">Traffic Sign Classifier using CNN</h1>"
   ]
  },
  {
   "cell_type": "markdown",
   "id": "e2d286ef",
   "metadata": {
    "papermill": {
     "duration": 0.018298,
     "end_time": "2023-11-27T00:05:45.686518",
     "exception": false,
     "start_time": "2023-11-27T00:05:45.668220",
     "status": "completed"
    },
    "tags": []
   },
   "source": [
    "<img\n",
    "    style=\"display: block; \n",
    "           margin-left: auto;\n",
    "           margin-right: auto;\n",
    "           width: 70%;\"\n",
    "    src=\"https://www.nevron.com/NIMG.axd?i=Diagram/Shapes/TrafficSignsShapes/Traffic_signs_shapes.png\" \n",
    "    alt=\"Image Description\">\n",
    "</img>"
   ]
  },
  {
   "cell_type": "markdown",
   "id": "2de61ba3",
   "metadata": {
    "execution": {
     "iopub.execute_input": "2023-11-23T21:51:44.461965Z",
     "iopub.status.busy": "2023-11-23T21:51:44.461124Z",
     "iopub.status.idle": "2023-11-23T21:51:44.509146Z",
     "shell.execute_reply": "2023-11-23T21:51:44.506461Z",
     "shell.execute_reply.started": "2023-11-23T21:51:44.461806Z"
    },
    "papermill": {
     "duration": 0.015969,
     "end_time": "2023-11-27T00:05:45.719247",
     "exception": false,
     "start_time": "2023-11-27T00:05:45.703278",
     "status": "completed"
    },
    "tags": []
   },
   "source": [
    "# Description\n",
    "\n",
    "In this notebook, we will build a **deep learning model** to classify german traffic signs. \n",
    "Model is written **tensorflow keras** framework.\n",
    "On this model, we will perform different kind of adversarial attacks.\n",
    "Further we will perform adversarial trainings against these attacks to make to models more robust in real-life scenarios\n",
    "\n",
    "\n",
    "## Data\n",
    "\n",
    "We have use dataset on Kaggle. It's GTSRB - German Traffic Sign Recognition Benchmark. \n",
    "This dataset consist of 43 labels for 43 different type of traffic signs. We have around 50k images."
   ]
  },
  {
   "cell_type": "markdown",
   "id": "68f81797",
   "metadata": {
    "papermill": {
     "duration": 0.015977,
     "end_time": "2023-11-27T00:05:45.751488",
     "exception": false,
     "start_time": "2023-11-27T00:05:45.735511",
     "status": "completed"
    },
    "tags": []
   },
   "source": [
    "# 1. Import lib"
   ]
  },
  {
   "cell_type": "code",
   "execution_count": 1,
   "id": "9ba6b37f",
   "metadata": {
    "execution": {
     "iopub.execute_input": "2023-11-27T00:05:45.786766Z",
     "iopub.status.busy": "2023-11-27T00:05:45.786343Z",
     "iopub.status.idle": "2023-11-27T00:05:53.305886Z",
     "shell.execute_reply": "2023-11-27T00:05:53.304820Z"
    },
    "papermill": {
     "duration": 7.540461,
     "end_time": "2023-11-27T00:05:53.308723",
     "exception": false,
     "start_time": "2023-11-27T00:05:45.768262",
     "status": "completed"
    },
    "tags": []
   },
   "outputs": [],
   "source": [
    "import os\n",
    "import numpy as np\n",
    "import pandas as pd\n",
    "import matplotlib.pyplot as plt\n",
    "from PIL import Image\n",
    "from sklearn.model_selection import train_test_split\n",
    "import tensorflow as tf\n",
    "from tensorflow.keras.utils import to_categorical\n",
    "from tensorflow.keras.models import Sequential\n",
    "from keras.layers import Conv2D, Dense, Flatten, MaxPool2D, Dropout\n",
    "from keras.models import load_model\n",
    "from sklearn.metrics import accuracy_score"
   ]
  },
  {
   "cell_type": "markdown",
   "id": "3bee5000",
   "metadata": {
    "papermill": {
     "duration": 0.015934,
     "end_time": "2023-11-27T00:05:53.341605",
     "exception": false,
     "start_time": "2023-11-27T00:05:53.325671",
     "status": "completed"
    },
    "tags": []
   },
   "source": [
    "# 2. Utility Functions"
   ]
  },
  {
   "cell_type": "code",
   "execution_count": 2,
   "id": "b0bd6ece",
   "metadata": {
    "execution": {
     "iopub.execute_input": "2023-11-27T00:05:53.376903Z",
     "iopub.status.busy": "2023-11-27T00:05:53.376340Z",
     "iopub.status.idle": "2023-11-27T00:05:53.384856Z",
     "shell.execute_reply": "2023-11-27T00:05:53.383750Z"
    },
    "papermill": {
     "duration": 0.028864,
     "end_time": "2023-11-27T00:05:53.387252",
     "exception": false,
     "start_time": "2023-11-27T00:05:53.358388",
     "status": "completed"
    },
    "tags": []
   },
   "outputs": [],
   "source": [
    "def generate_data(csv_path, img_path, df = None, custom_data = 0):\n",
    "    if custom_data == 0:\n",
    "        #csv_path = \"/kaggle/input/gtsrb-german-traffic-sign/Test.csv\"\n",
    "        #img_path = \"/kaggle/input/gtsrb-german-traffic-sign\"\n",
    "        valid = pd.read_csv(csv_path)\n",
    "    elif custom_data == 1:\n",
    "        valid = df \n",
    "    \n",
    "    valid_labels = valid['ClassId'].values.tolist()\n",
    "    valid_img_path = img_path\n",
    "    valid_imgs = valid['Path'].values\n",
    "    valid_data = []\n",
    "    for img in valid_imgs:\n",
    "        im = Image.open(valid_img_path + '/' + img)\n",
    "        im = im.resize((30,30))\n",
    "        im = np.array(im)\n",
    "        valid_data.append(im)\n",
    "    valid_data = np.array(valid_data)\n",
    "    valid_data = valid_data.astype('float32')\n",
    "    return(valid_data,valid_labels,valid_imgs)"
   ]
  },
  {
   "cell_type": "code",
   "execution_count": 3,
   "id": "e30f378e",
   "metadata": {
    "execution": {
     "iopub.execute_input": "2023-11-27T00:05:53.420652Z",
     "iopub.status.busy": "2023-11-27T00:05:53.420345Z",
     "iopub.status.idle": "2023-11-27T00:05:53.428933Z",
     "shell.execute_reply": "2023-11-27T00:05:53.428034Z"
    },
    "papermill": {
     "duration": 0.027537,
     "end_time": "2023-11-27T00:05:53.430924",
     "exception": false,
     "start_time": "2023-11-27T00:05:53.403387",
     "status": "completed"
    },
    "tags": []
   },
   "outputs": [],
   "source": [
    "## Function to plot the Original image vs Predicted Image\n",
    "def show_original_vs_prediction(data,model,n):\n",
    "    predictions = model.predict(data)\n",
    "    classes_x = np.argmax(predictions, axis = 1).tolist()\n",
    "    classes_x = np.array([classes_x]).tolist()[0]\n",
    "    number_of_image = n ##number of the image in the test/validation set\n",
    "    image_name = images[number_of_image]\n",
    "    print(image_name)\n",
    "    image_label = label[number_of_image]\n",
    "    print(image_label)\n",
    "    plt.figure(0)\n",
    "    path = img_path + '/' + image_name\n",
    "    print(path)\n",
    "    img = Image.open(path)\n",
    "    plt.imshow(img)\n",
    "    plt.title(\"Original Image\")\n",
    "    plt.figure(1)\n",
    "    img_pre = Image.open('/kaggle/input/gtsrb-german-traffic-sign/Meta/' + str(classes_x[number_of_image]) + '.png')\n",
    "    plt.imshow(img_pre)\n",
    "    plt.title(\"Predict Image\")\n",
    "    plt.show()"
   ]
  },
  {
   "cell_type": "code",
   "execution_count": 4,
   "id": "7bd34e8b",
   "metadata": {
    "execution": {
     "iopub.execute_input": "2023-11-27T00:05:53.464945Z",
     "iopub.status.busy": "2023-11-27T00:05:53.464424Z",
     "iopub.status.idle": "2023-11-27T00:05:53.469950Z",
     "shell.execute_reply": "2023-11-27T00:05:53.469028Z"
    },
    "papermill": {
     "duration": 0.02523,
     "end_time": "2023-11-27T00:05:53.472425",
     "exception": false,
     "start_time": "2023-11-27T00:05:53.447195",
     "status": "completed"
    },
    "tags": []
   },
   "outputs": [],
   "source": [
    "def get_index(pred):\n",
    "    compare_df = pd.DataFrame({'y_test': y_test.argmax(axis=1), 'pred': pred})\n",
    "    final_result = compare_df[compare_df['y_test']!=compare_df['pred']]\n",
    "    index = final_result.index\n",
    "    return(index)"
   ]
  },
  {
   "cell_type": "code",
   "execution_count": 5,
   "id": "0c45ebb4",
   "metadata": {
    "execution": {
     "iopub.execute_input": "2023-11-27T00:05:53.505963Z",
     "iopub.status.busy": "2023-11-27T00:05:53.505683Z",
     "iopub.status.idle": "2023-11-27T00:05:53.514355Z",
     "shell.execute_reply": "2023-11-27T00:05:53.513382Z"
    },
    "papermill": {
     "duration": 0.0277,
     "end_time": "2023-11-27T00:05:53.516846",
     "exception": false,
     "start_time": "2023-11-27T00:05:53.489146",
     "status": "completed"
    },
    "tags": []
   },
   "outputs": [],
   "source": [
    "def plot_original_vs_predicted_after_attack(n,idx,pred):\n",
    "     # Assuming y_test and pred are your arrays/lists\n",
    "    img_path = \"/kaggle/input/gtsrb-german-traffic-sign\"\n",
    "    csv_path = \"/kaggle/input/gtsrb-german-traffic-sign/Train.csv\"\n",
    "    df = pd.read_csv(csv_path)\n",
    "    result_to_plot = df[df.index.isin(idx)]\n",
    "    file_name = result_to_plot['Path'].values\n",
    "    plt.figure(0)\n",
    "    path = img_path + '/' + file_name\n",
    "    if n is None:\n",
    "        n = idx[0]\n",
    "    print(path[n])\n",
    "    img = Image.open(path[n])\n",
    "    plt.imshow(img)\n",
    "    plt.title(\"Test Image\")\n",
    "    plt.figure(1)\n",
    "    img_pre = Image.open('/kaggle/input/gtsrb-german-traffic-sign/Meta/' + str(pred[n]) + '.png')\n",
    "    plt.imshow(img_pre)\n",
    "    plt.title(\"Predict Image\")\n",
    "    plt.show()"
   ]
  },
  {
   "cell_type": "code",
   "execution_count": 6,
   "id": "85810412",
   "metadata": {
    "execution": {
     "iopub.execute_input": "2023-11-27T00:05:53.551816Z",
     "iopub.status.busy": "2023-11-27T00:05:53.551524Z",
     "iopub.status.idle": "2023-11-27T00:05:53.557157Z",
     "shell.execute_reply": "2023-11-27T00:05:53.555955Z"
    },
    "papermill": {
     "duration": 0.025218,
     "end_time": "2023-11-27T00:05:53.559335",
     "exception": false,
     "start_time": "2023-11-27T00:05:53.534117",
     "status": "completed"
    },
    "tags": []
   },
   "outputs": [],
   "source": [
    "def show_plot(n,pred):\n",
    "    idx = get_index(pred)\n",
    "    print(idx)\n",
    "    plot_original_vs_predicted_after_attack(n,idx,pred)\n",
    "    #else:\n",
    "    #    raise TypeError(\"The number is not in the list!\")    "
   ]
  },
  {
   "cell_type": "code",
   "execution_count": 7,
   "id": "ea68a26a",
   "metadata": {
    "execution": {
     "iopub.execute_input": "2023-11-27T00:05:53.592850Z",
     "iopub.status.busy": "2023-11-27T00:05:53.592513Z",
     "iopub.status.idle": "2023-11-27T00:05:53.600291Z",
     "shell.execute_reply": "2023-11-27T00:05:53.599408Z"
    },
    "papermill": {
     "duration": 0.02663,
     "end_time": "2023-11-27T00:05:53.602208",
     "exception": false,
     "start_time": "2023-11-27T00:05:53.575578",
     "status": "completed"
    },
    "tags": []
   },
   "outputs": [],
   "source": [
    "## Function to plot the original Test image vs Attacked image\n",
    "def plot_original_vs_attacked_img(x_test,model,n):\n",
    "    pred = model.predict(x_test)\n",
    "    classes_x = np.argmax(pred, axis = 1).tolist()\n",
    "    classes_x = np.array([classes_x]).tolist()[0]\n",
    "    number_of_image_test = n\n",
    "    test_image_name = test_imgs[number_of_image_test]\n",
    "    image_label = test_labels[number_of_image_test]\n",
    "    plt.figure(0)\n",
    "    img_path = test_img_path + '/' + test_image_name\n",
    "    img = Image.open(img_path)\n",
    "    plt.imshow(img)\n",
    "    plt.title(\"Test Image\")\n",
    "    plt.figure(1)\n",
    "    img_pre = Image.open('/kaggle/input/gtsrb-german-traffic-sign/Meta/' + str(classes_x[number_of_image_test]) + '.png')\n",
    "    plt.imshow(img_pre)\n",
    "    plt.title(\"Predict Image\")\n",
    "    plt.show()"
   ]
  },
  {
   "cell_type": "code",
   "execution_count": 8,
   "id": "1f07e6c3",
   "metadata": {
    "execution": {
     "iopub.execute_input": "2023-11-27T00:05:53.635210Z",
     "iopub.status.busy": "2023-11-27T00:05:53.634892Z",
     "iopub.status.idle": "2023-11-27T00:05:53.643416Z",
     "shell.execute_reply": "2023-11-27T00:05:53.642617Z"
    },
    "papermill": {
     "duration": 0.027262,
     "end_time": "2023-11-27T00:05:53.645525",
     "exception": false,
     "start_time": "2023-11-27T00:05:53.618263",
     "status": "completed"
    },
    "tags": []
   },
   "outputs": [],
   "source": [
    "label_mapping = {0: 'Speed limit (20km/h)', 1: 'Speed limit (30km/h)', 2: 'Speed limit (50km/h)', \n",
    "                     3: 'Speed limit (60km/h)', 4: 'Speed limit (70km/h)', 5: 'Speed limit (80km/h)', \n",
    "                     6: 'End of speed limit (80km/h)', 7: 'Speed limit (100km/h)', \n",
    "                     8: 'Speed limit (120km/h)', 9: 'No passing', \n",
    "                     10: 'No passing for vechiles over 3.5 metric tons', \n",
    "                     11: 'Right-of-way at the next intersection', 12: 'Priority road', 13: 'Yield', \n",
    "                     14: 'Stop', 15: 'No vechiles', 16: 'Vechiles over 3.5 metric tons prohibited', \n",
    "                     17: 'No entry', 18: 'General caution', 19: 'Dangerous curve to the left', \n",
    "                     20: 'Dangerous curve to the right', 21: 'Double curve', 22: 'Bumpy road', \n",
    "                     23: 'Slippery road', 24: 'Road narrows on the right', 25: 'Road work', \n",
    "                     26: 'Traffic signals', 27: 'Pedestrians', 28: 'Children crossing', \n",
    "                     29: 'Bicycles crossing', 30: 'Beware of ice/snow', 31: 'Wild animals crossing', \n",
    "                     32: 'End of all speed and passing limits', 33: 'Turn right ahead', \n",
    "                     34: 'Turn left ahead', 35: 'Ahead only', 36: 'Go straight or right', \n",
    "                     37: 'Go straight or left', 38: 'Keep right', 39: 'Keep left', \n",
    "                     40: 'Roundabout mandatory', 41: 'End of no passing', \n",
    "                     42: 'End of no passing by vechiles over 3.5 metric tons'}"
   ]
  },
  {
   "cell_type": "markdown",
   "id": "f5f66135",
   "metadata": {
    "papermill": {
     "duration": 0.015848,
     "end_time": "2023-11-27T00:05:53.677142",
     "exception": false,
     "start_time": "2023-11-27T00:05:53.661294",
     "status": "completed"
    },
    "tags": []
   },
   "source": [
    "# 3. Data processing(resize, change datatype, split train test, )"
   ]
  },
  {
   "cell_type": "code",
   "execution_count": 9,
   "id": "e8414188",
   "metadata": {
    "execution": {
     "iopub.execute_input": "2023-11-27T00:05:53.709678Z",
     "iopub.status.busy": "2023-11-27T00:05:53.709407Z",
     "iopub.status.idle": "2023-11-27T00:10:11.452747Z",
     "shell.execute_reply": "2023-11-27T00:10:11.451521Z"
    },
    "papermill": {
     "duration": 257.762306,
     "end_time": "2023-11-27T00:10:11.455598",
     "exception": false,
     "start_time": "2023-11-27T00:05:53.693292",
     "status": "completed"
    },
    "tags": []
   },
   "outputs": [],
   "source": [
    "imgs_path = \"/kaggle/input/gtsrb-german-traffic-sign/Train\"\n",
    "data = []\n",
    "labels = []\n",
    "CLASSES = 43\n",
    "# using for loop to access each image\n",
    "for i in range(CLASSES):\n",
    "    img_path = os.path.join(imgs_path, str(i)) #0-42\n",
    "    for img in os.listdir(img_path):\n",
    "        im = Image.open(imgs_path + '/' + str(i) + '/' + img)\n",
    "        im = im.resize((30,30))\n",
    "        im = np.array(im)\n",
    "        data.append(im)\n",
    "        labels.append(i)\n",
    "data = np.array(data)\n",
    "labels = np.array(labels)\n",
    "#print(\"data[0]: \",data[0])\n",
    "#print(\"labels[0: ]\",labels[0])"
   ]
  },
  {
   "cell_type": "code",
   "execution_count": 10,
   "id": "929fdf9c",
   "metadata": {
    "execution": {
     "iopub.execute_input": "2023-11-27T00:10:11.491554Z",
     "iopub.status.busy": "2023-11-27T00:10:11.491227Z",
     "iopub.status.idle": "2023-11-27T00:10:11.537131Z",
     "shell.execute_reply": "2023-11-27T00:10:11.535929Z"
    },
    "papermill": {
     "duration": 0.066503,
     "end_time": "2023-11-27T00:10:11.540089",
     "exception": false,
     "start_time": "2023-11-27T00:10:11.473586",
     "status": "completed"
    },
    "tags": []
   },
   "outputs": [
    {
     "name": "stdout",
     "output_type": "stream",
     "text": [
      "training shape:  (31367, 30, 30, 3) (31367,)\n",
      "testing shape:  (7842, 30, 30, 3) (7842,)\n",
      "[0. 0. 0. 0. 0. 0. 0. 0. 0. 0. 0. 0. 0. 0. 0. 0. 0. 0. 0. 0. 0. 0. 0. 0.\n",
      " 0. 0. 0. 0. 1. 0. 0. 0. 0. 0. 0. 0. 0. 0. 0. 0. 0. 0. 0.]\n"
     ]
    }
   ],
   "source": [
    "x_train, x_test, y_train, y_test = train_test_split(data, labels, test_size=0.2, random_state=42)\n",
    "print(\"training shape: \",x_train.shape, y_train.shape)\n",
    "print(\"testing shape: \",x_test.shape, y_test.shape)\n",
    "# convert interge label to one-hot data\n",
    "y_train = to_categorical(y_train, 43)\n",
    "y_test = to_categorical(y_test, 43)\n",
    "print(y_train[1])"
   ]
  },
  {
   "cell_type": "markdown",
   "id": "ca5eee4e",
   "metadata": {
    "papermill": {
     "duration": 0.015613,
     "end_time": "2023-11-27T00:10:11.572368",
     "exception": false,
     "start_time": "2023-11-27T00:10:11.556755",
     "status": "completed"
    },
    "tags": []
   },
   "source": [
    "# 4. Build model by Keras"
   ]
  },
  {
   "cell_type": "code",
   "execution_count": 11,
   "id": "82a34d64",
   "metadata": {
    "execution": {
     "iopub.execute_input": "2023-11-27T00:10:11.606189Z",
     "iopub.status.busy": "2023-11-27T00:10:11.605605Z",
     "iopub.status.idle": "2023-11-27T00:10:15.468742Z",
     "shell.execute_reply": "2023-11-27T00:10:15.467658Z"
    },
    "papermill": {
     "duration": 3.883538,
     "end_time": "2023-11-27T00:10:15.471539",
     "exception": false,
     "start_time": "2023-11-27T00:10:11.588001",
     "status": "completed"
    },
    "tags": []
   },
   "outputs": [
    {
     "name": "stdout",
     "output_type": "stream",
     "text": [
      "Model: \"sequential\"\n",
      "_________________________________________________________________\n",
      "Layer (type)                 Output Shape              Param #   \n",
      "=================================================================\n",
      "conv2d (Conv2D)              (None, 26, 26, 32)        2432      \n",
      "_________________________________________________________________\n",
      "conv2d_1 (Conv2D)            (None, 22, 22, 32)        25632     \n",
      "_________________________________________________________________\n",
      "max_pooling2d (MaxPooling2D) (None, 11, 11, 32)        0         \n",
      "_________________________________________________________________\n",
      "dropout (Dropout)            (None, 11, 11, 32)        0         \n",
      "_________________________________________________________________\n",
      "conv2d_2 (Conv2D)            (None, 9, 9, 64)          18496     \n",
      "_________________________________________________________________\n",
      "conv2d_3 (Conv2D)            (None, 7, 7, 64)          36928     \n",
      "_________________________________________________________________\n",
      "max_pooling2d_1 (MaxPooling2 (None, 3, 3, 64)          0         \n",
      "_________________________________________________________________\n",
      "dropout_1 (Dropout)          (None, 3, 3, 64)          0         \n",
      "_________________________________________________________________\n",
      "flatten (Flatten)            (None, 576)               0         \n",
      "_________________________________________________________________\n",
      "dense (Dense)                (None, 256)               147712    \n",
      "_________________________________________________________________\n",
      "dropout_2 (Dropout)          (None, 256)               0         \n",
      "_________________________________________________________________\n",
      "dense_1 (Dense)              (None, 43)                11051     \n",
      "=================================================================\n",
      "Total params: 242,251\n",
      "Trainable params: 242,251\n",
      "Non-trainable params: 0\n",
      "_________________________________________________________________\n"
     ]
    }
   ],
   "source": [
    "model = Sequential()\n",
    "model.add(Conv2D(filters=32, kernel_size=(5,5), activation=\"relu\", input_shape=x_train.shape[1:]))\n",
    "model.add(Conv2D(filters=32, kernel_size=(5,5), activation=\"relu\"))\n",
    "model.add(MaxPool2D(pool_size=(2,2)))\n",
    "model.add(Dropout(rate=0.25))\n",
    "model.add(Conv2D(filters=64, kernel_size=(3,3), activation=\"relu\"))\n",
    "model.add(Conv2D(filters=64, kernel_size=(3,3), activation=\"relu\"))\n",
    "model.add(MaxPool2D(pool_size=(2,2)))\n",
    "model.add(Dropout(rate=0.25))\n",
    "model.add(Flatten())\n",
    "model.add(Dense(256, activation=\"relu\"))\n",
    "model.add(Dropout(rate=0.5))\n",
    "model.add(Dense(43, activation=\"softmax\"))\n",
    "\n",
    "model.summary()"
   ]
  },
  {
   "cell_type": "markdown",
   "id": "ac9b7c24",
   "metadata": {
    "papermill": {
     "duration": 0.01645,
     "end_time": "2023-11-27T00:10:15.505329",
     "exception": false,
     "start_time": "2023-11-27T00:10:15.488879",
     "status": "completed"
    },
    "tags": []
   },
   "source": [
    "# 5. Train model"
   ]
  },
  {
   "cell_type": "code",
   "execution_count": 12,
   "id": "f4fb31b1",
   "metadata": {
    "execution": {
     "iopub.execute_input": "2023-11-27T00:10:15.540181Z",
     "iopub.status.busy": "2023-11-27T00:10:15.539728Z",
     "iopub.status.idle": "2023-11-27T00:10:15.553086Z",
     "shell.execute_reply": "2023-11-27T00:10:15.552053Z"
    },
    "papermill": {
     "duration": 0.033238,
     "end_time": "2023-11-27T00:10:15.555362",
     "exception": false,
     "start_time": "2023-11-27T00:10:15.522124",
     "status": "completed"
    },
    "tags": []
   },
   "outputs": [],
   "source": [
    "model.compile(loss=\"categorical_crossentropy\", optimizer=\"adam\", metrics=[\"accuracy\"])"
   ]
  },
  {
   "cell_type": "code",
   "execution_count": 13,
   "id": "f601f078",
   "metadata": {
    "execution": {
     "iopub.execute_input": "2023-11-27T00:10:15.589129Z",
     "iopub.status.busy": "2023-11-27T00:10:15.588820Z",
     "iopub.status.idle": "2023-11-27T00:11:38.372143Z",
     "shell.execute_reply": "2023-11-27T00:11:38.371048Z"
    },
    "papermill": {
     "duration": 82.803264,
     "end_time": "2023-11-27T00:11:38.375031",
     "exception": false,
     "start_time": "2023-11-27T00:10:15.571767",
     "status": "completed"
    },
    "tags": []
   },
   "outputs": [
    {
     "name": "stdout",
     "output_type": "stream",
     "text": [
      "Epoch 1/15\n",
      "491/491 [==============================] - 13s 6ms/step - loss: 2.1555 - accuracy: 0.4808 - val_loss: 0.3830 - val_accuracy: 0.9185\n",
      "Epoch 2/15\n",
      "491/491 [==============================] - 3s 5ms/step - loss: 0.6419 - accuracy: 0.8190 - val_loss: 0.2390 - val_accuracy: 0.9408\n",
      "Epoch 3/15\n",
      "491/491 [==============================] - 3s 5ms/step - loss: 0.4172 - accuracy: 0.8815 - val_loss: 0.1094 - val_accuracy: 0.9725\n",
      "Epoch 4/15\n",
      "491/491 [==============================] - 3s 6ms/step - loss: 0.3206 - accuracy: 0.9068 - val_loss: 0.0881 - val_accuracy: 0.9791\n",
      "Epoch 5/15\n",
      "491/491 [==============================] - 3s 5ms/step - loss: 0.2593 - accuracy: 0.9231 - val_loss: 0.0913 - val_accuracy: 0.9764\n",
      "Epoch 6/15\n",
      "491/491 [==============================] - 3s 5ms/step - loss: 0.2520 - accuracy: 0.9277 - val_loss: 0.0898 - val_accuracy: 0.9739\n",
      "Epoch 7/15\n",
      "491/491 [==============================] - 3s 5ms/step - loss: 0.2189 - accuracy: 0.9386 - val_loss: 0.0595 - val_accuracy: 0.9871\n",
      "Epoch 8/15\n",
      "491/491 [==============================] - 3s 5ms/step - loss: 0.2029 - accuracy: 0.9404 - val_loss: 0.0500 - val_accuracy: 0.9867\n",
      "Epoch 9/15\n",
      "491/491 [==============================] - 3s 5ms/step - loss: 0.1831 - accuracy: 0.9494 - val_loss: 0.0411 - val_accuracy: 0.9899\n",
      "Epoch 10/15\n",
      "491/491 [==============================] - 3s 5ms/step - loss: 0.1743 - accuracy: 0.9498 - val_loss: 0.0568 - val_accuracy: 0.9842\n",
      "Epoch 11/15\n",
      "491/491 [==============================] - 3s 5ms/step - loss: 0.1793 - accuracy: 0.9497 - val_loss: 0.0389 - val_accuracy: 0.9890\n",
      "Epoch 12/15\n",
      "491/491 [==============================] - 3s 5ms/step - loss: 0.1536 - accuracy: 0.9559 - val_loss: 0.0570 - val_accuracy: 0.9852\n",
      "Epoch 13/15\n",
      "491/491 [==============================] - 3s 5ms/step - loss: 0.1551 - accuracy: 0.9566 - val_loss: 0.0401 - val_accuracy: 0.9915\n",
      "Epoch 14/15\n",
      "491/491 [==============================] - 3s 5ms/step - loss: 0.1583 - accuracy: 0.9572 - val_loss: 0.0497 - val_accuracy: 0.9881\n",
      "Epoch 15/15\n",
      "491/491 [==============================] - 3s 5ms/step - loss: 0.1446 - accuracy: 0.9594 - val_loss: 0.0399 - val_accuracy: 0.9904\n"
     ]
    }
   ],
   "source": [
    "epochs = 15\n",
    "history = model.fit(x_train, y_train, epochs=epochs, batch_size=64, validation_data=(x_test, y_test))"
   ]
  },
  {
   "cell_type": "markdown",
   "id": "1797ee99",
   "metadata": {
    "papermill": {
     "duration": 0.066187,
     "end_time": "2023-11-27T00:11:38.507750",
     "exception": false,
     "start_time": "2023-11-27T00:11:38.441563",
     "status": "completed"
    },
    "tags": []
   },
   "source": [
    "# 6. Visualize loss and accuracy model"
   ]
  },
  {
   "cell_type": "code",
   "execution_count": 14,
   "id": "9d50ddcd",
   "metadata": {
    "execution": {
     "iopub.execute_input": "2023-11-27T00:11:38.648387Z",
     "iopub.status.busy": "2023-11-27T00:11:38.648006Z",
     "iopub.status.idle": "2023-11-27T00:11:39.244661Z",
     "shell.execute_reply": "2023-11-27T00:11:39.243748Z"
    },
    "papermill": {
     "duration": 0.669084,
     "end_time": "2023-11-27T00:11:39.246973",
     "exception": false,
     "start_time": "2023-11-27T00:11:38.577889",
     "status": "completed"
    },
    "tags": []
   },
   "outputs": [
    {
     "data": {
      "image/png": "[encoded data removed]",
      "text/plain": [
       "<Figure size 432x288 with 1 Axes>"
      ]
     },
     "metadata": {
      "needs_background": "light"
     },
     "output_type": "display_data"
    },
    {
     "data": {
      "image/png": "[encoded data removed]",
      "text/plain": [
       "<Figure size 432x288 with 1 Axes>"
      ]
     },
     "metadata": {
      "needs_background": "light"
     },
     "output_type": "display_data"
    }
   ],
   "source": [
    "plt.figure(0) #underfitting\n",
    "plt.plot(history.history['accuracy'], label=\"Training accuracy\")\n",
    "plt.plot(history.history['val_accuracy'], label=\"val accuracy\")\n",
    "plt.title(\"Accuracy\")\n",
    "plt.xlabel(\"epochs\")\n",
    "plt.ylabel(\"accuracy\")\n",
    "plt.legend()\n",
    "plt.savefig('Accuracy.png')\n",
    "plt.figure(1) #overfiting\n",
    "plt.plot(history.history['loss'], label=\"training loss\")\n",
    "plt.plot(history.history['val_loss'], label=\"val loss\")\n",
    "plt.title(\"Loss\")\n",
    "plt.xlabel(\"epochs\")\n",
    "plt.ylabel(\"Loss\")\n",
    "plt.legend()\n",
    "plt.savefig('Loss.png')\n",
    "plt.show()\n",
    "\n",
    "# 7. Test model"
   ]
  },
  {
   "cell_type": "code",
   "execution_count": 15,
   "id": "35d625b3",
   "metadata": {
    "execution": {
     "iopub.execute_input": "2023-11-27T00:11:39.386416Z",
     "iopub.status.busy": "2023-11-27T00:11:39.386093Z",
     "iopub.status.idle": "2023-11-27T00:13:20.081679Z",
     "shell.execute_reply": "2023-11-27T00:13:20.080674Z"
    },
    "papermill": {
     "duration": 100.834534,
     "end_time": "2023-11-27T00:13:20.151114",
     "exception": false,
     "start_time": "2023-11-27T00:11:39.316580",
     "status": "completed"
    },
    "tags": []
   },
   "outputs": [
    {
     "name": "stdout",
     "output_type": "stream",
     "text": [
      "accuracy:  0.9516231195566113\n"
     ]
    }
   ],
   "source": [
    "from sklearn.metrics import accuracy_score\n",
    "test = pd.read_csv(\"/kaggle/input/gtsrb-german-traffic-sign/Test.csv\")\n",
    "test_labels = test['ClassId'].values.tolist()\n",
    "\n",
    "test_img_path = \"/kaggle/input/gtsrb-german-traffic-sign\"\n",
    "test_imgs = test['Path'].values\n",
    "test_data = []\n",
    "\n",
    "for img in test_imgs:\n",
    "    im = Image.open(test_img_path + '/' + img)\n",
    "    im = im.resize((30,30))\n",
    "    im = np.array(im)\n",
    "    test_data.append(im)\n",
    "test_data = np.array(test_data)\n",
    "predictions = model.predict(test_data)\n",
    "classes_x = np.argmax(predictions, axis = 1).tolist()\n",
    "classes_x = np.array([classes_x]).tolist()[0]\n",
    "\n",
    "print(\"accuracy: \", accuracy_score(test_labels, classes_x))"
   ]
  },
  {
   "cell_type": "code",
   "execution_count": 16,
   "id": "7b33e44b",
   "metadata": {
    "execution": {
     "iopub.execute_input": "2023-11-27T00:13:20.287856Z",
     "iopub.status.busy": "2023-11-27T00:13:20.287501Z",
     "iopub.status.idle": "2023-11-27T00:13:20.693092Z",
     "shell.execute_reply": "2023-11-27T00:13:20.692079Z"
    },
    "papermill": {
     "duration": 0.478069,
     "end_time": "2023-11-27T00:13:20.695654",
     "exception": false,
     "start_time": "2023-11-27T00:13:20.217585",
     "status": "completed"
    },
    "tags": []
   },
   "outputs": [
    {
     "name": "stdout",
     "output_type": "stream",
     "text": [
      "/kaggle/input/gtsrb-german-traffic-sign/Test/00000.png\n",
      "16\n"
     ]
    },
    {
     "data": {
      "image/png": "[encoded data removed]",
      "text/plain": [
       "<Figure size 432x288 with 1 Axes>"
      ]
     },
     "metadata": {
      "needs_background": "light"
     },
     "output_type": "display_data"
    },
    {
     "data": {
      "image/png": "[encoded data removed]",
      "text/plain": [
       "<Figure size 432x288 with 1 Axes>"
      ]
     },
     "metadata": {
      "needs_background": "light"
     },
     "output_type": "display_data"
    }
   ],
   "source": [
    "number_of_image_test = 0 #20\n",
    "test_image_name = test_imgs[number_of_image_test]\n",
    "image_label = test_labels[number_of_image_test]\n",
    "plt.figure(0)\n",
    "img_path = test_img_path + '/' + test_image_name\n",
    "print(img_path)\n",
    "img = Image.open(img_path)\n",
    "plt.imshow(img)\n",
    "plt.title(\"Test Image\")\n",
    "plt.figure(1)\n",
    "print(classes_x[number_of_image_test])\n",
    "img_pre = Image.open('/kaggle/input/gtsrb-german-traffic-sign/Meta/' + str(classes_x[number_of_image_test]) + '.png')\n",
    "plt.imshow(img_pre)\n",
    "plt.title(\"Predict Image\")\n",
    "plt.show()"
   ]
  },
  {
   "cell_type": "markdown",
   "id": "c4e937fe",
   "metadata": {
    "papermill": {
     "duration": 0.070742,
     "end_time": "2023-11-27T00:13:20.839519",
     "exception": false,
     "start_time": "2023-11-27T00:13:20.768777",
     "status": "completed"
    },
    "tags": []
   },
   "source": [
    "# 8. Install Adversarial-Robustness-Toolbox Framework"
   ]
  },
  {
   "cell_type": "code",
   "execution_count": 17,
   "id": "e47f6e83",
   "metadata": {
    "execution": {
     "iopub.execute_input": "2023-11-27T00:13:20.975964Z",
     "iopub.status.busy": "2023-11-27T00:13:20.975201Z",
     "iopub.status.idle": "2023-11-27T00:13:35.856741Z",
     "shell.execute_reply": "2023-11-27T00:13:35.855676Z"
    },
    "papermill": {
     "duration": 14.953167,
     "end_time": "2023-11-27T00:13:35.859392",
     "exception": false,
     "start_time": "2023-11-27T00:13:20.906225",
     "status": "completed"
    },
    "tags": []
   },
   "outputs": [
    {
     "name": "stdout",
     "output_type": "stream",
     "text": [
      "Collecting adversarial-robustness-toolbox\r\n",
      "  Downloading adversarial_robustness_toolbox-1.16.0-py3-none-any.whl (1.6 MB)\r\n",
      "\u001b[2K     \u001b[90m━━━━━━━━━━━━━━━━━━━━━━━━━━━━━━━━━━━━━━━━\u001b[0m \u001b[32m1.6/1.6 MB\u001b[0m \u001b[31m21.8 MB/s\u001b[0m eta \u001b[36m0:00:00\u001b[0m\r\n",
      "\u001b[?25hRequirement already satisfied: torch in /opt/conda/lib/python3.7/site-packages (1.11.0)\r\n",
      "Requirement already satisfied: torchvision in /opt/conda/lib/python3.7/site-packages (0.12.0)\r\n",
      "Requirement already satisfied: scikit-learn<1.2.0,>=0.22.2 in /opt/conda/lib/python3.7/site-packages (from adversarial-robustness-toolbox) (1.0.2)\r\n",
      "Requirement already satisfied: scipy>=1.4.1 in /opt/conda/lib/python3.7/site-packages (from adversarial-robustness-toolbox) (1.7.3)\r\n",
      "Requirement already satisfied: numpy>=1.18.0 in /opt/conda/lib/python3.7/site-packages (from adversarial-robustness-toolbox) (1.21.6)\r\n",
      "Requirement already satisfied: setuptools in /opt/conda/lib/python3.7/site-packages (from adversarial-robustness-toolbox) (59.8.0)\r\n",
      "Requirement already satisfied: six in /opt/conda/lib/python3.7/site-packages (from adversarial-robustness-toolbox) (1.15.0)\r\n",
      "Requirement already satisfied: tqdm in /opt/conda/lib/python3.7/site-packages (from adversarial-robustness-toolbox) (4.64.0)\r\n",
      "Requirement already satisfied: typing-extensions in /opt/conda/lib/python3.7/site-packages (from torch) (4.1.1)\r\n",
      "Requirement already satisfied: requests in /opt/conda/lib/python3.7/site-packages (from torchvision) (2.28.1)\r\n",
      "Requirement already satisfied: pillow!=8.3.*,>=5.3.0 in /opt/conda/lib/python3.7/site-packages (from torchvision) (9.1.1)\r\n",
      "Requirement already satisfied: threadpoolctl>=2.0.0 in /opt/conda/lib/python3.7/site-packages (from scikit-learn<1.2.0,>=0.22.2->adversarial-robustness-toolbox) (3.1.0)\r\n",
      "Requirement already satisfied: joblib>=0.11 in /opt/conda/lib/python3.7/site-packages (from scikit-learn<1.2.0,>=0.22.2->adversarial-robustness-toolbox) (1.0.1)\r\n",
      "Requirement already satisfied: charset-normalizer<3,>=2 in /opt/conda/lib/python3.7/site-packages (from requests->torchvision) (2.1.0)\r\n",
      "Requirement already satisfied: urllib3<1.27,>=1.21.1 in /opt/conda/lib/python3.7/site-packages (from requests->torchvision) (1.26.14)\r\n",
      "Requirement already satisfied: certifi>=2017.4.17 in /opt/conda/lib/python3.7/site-packages (from requests->torchvision) (2022.12.7)\r\n",
      "Requirement already satisfied: idna<4,>=2.5 in /opt/conda/lib/python3.7/site-packages (from requests->torchvision) (3.3)\r\n",
      "Installing collected packages: adversarial-robustness-toolbox\r\n",
      "Successfully installed adversarial-robustness-toolbox-1.16.0\r\n",
      "\u001b[33mWARNING: Running pip as the 'root' user can result in broken permissions and conflicting behaviour with the system package manager. It is recommended to use a virtual environment instead: https://pip.pypa.io/warnings/venv\u001b[0m\u001b[33m\r\n",
      "\u001b[0m"
     ]
    }
   ],
   "source": [
    "!pip install adversarial-robustness-toolbox torch torchvision"
   ]
  },
  {
   "cell_type": "markdown",
   "id": "dc9e8e4b",
   "metadata": {
    "papermill": {
     "duration": 0.06804,
     "end_time": "2023-11-27T00:13:35.996475",
     "exception": false,
     "start_time": "2023-11-27T00:13:35.928435",
     "status": "completed"
    },
    "tags": []
   },
   "source": [
    "## 8.1 Using ART Framework Train the Model"
   ]
  },
  {
   "cell_type": "code",
   "execution_count": 18,
   "id": "ec2f9819",
   "metadata": {
    "execution": {
     "iopub.execute_input": "2023-11-27T00:13:36.136110Z",
     "iopub.status.busy": "2023-11-27T00:13:36.135532Z",
     "iopub.status.idle": "2023-11-27T00:13:36.141772Z",
     "shell.execute_reply": "2023-11-27T00:13:36.141008Z"
    },
    "papermill": {
     "duration": 0.07961,
     "end_time": "2023-11-27T00:13:36.143841",
     "exception": false,
     "start_time": "2023-11-27T00:13:36.064231",
     "status": "completed"
    },
    "tags": []
   },
   "outputs": [],
   "source": [
    "import tensorflow as tf\n",
    "tf.compat.v1.disable_eager_execution()"
   ]
  },
  {
   "cell_type": "code",
   "execution_count": 19,
   "id": "48e9d2a3",
   "metadata": {
    "execution": {
     "iopub.execute_input": "2023-11-27T00:13:36.285833Z",
     "iopub.status.busy": "2023-11-27T00:13:36.285140Z",
     "iopub.status.idle": "2023-11-27T00:13:39.548172Z",
     "shell.execute_reply": "2023-11-27T00:13:39.547277Z"
    },
    "papermill": {
     "duration": 3.337194,
     "end_time": "2023-11-27T00:13:39.551087",
     "exception": false,
     "start_time": "2023-11-27T00:13:36.213893",
     "status": "completed"
    },
    "tags": []
   },
   "outputs": [],
   "source": [
    "## Importing the ART framework\n",
    "from art.attacks.evasion import FastGradientMethod, ProjectedGradientDescent, DeepFool, HopSkipJump\n",
    "from art.defences.trainer import AdversarialTrainer\n",
    "from art.estimators.classification import KerasClassifier\n",
    "from keras.models import model_from_json"
   ]
  },
  {
   "cell_type": "code",
   "execution_count": 20,
   "id": "898e0114",
   "metadata": {
    "execution": {
     "iopub.execute_input": "2023-11-27T00:13:39.704817Z",
     "iopub.status.busy": "2023-11-27T00:13:39.704472Z",
     "iopub.status.idle": "2023-11-27T00:13:40.104734Z",
     "shell.execute_reply": "2023-11-27T00:13:40.103962Z"
    },
    "papermill": {
     "duration": 0.477465,
     "end_time": "2023-11-27T00:13:40.107221",
     "exception": false,
     "start_time": "2023-11-27T00:13:39.629756",
     "status": "completed"
    },
    "tags": []
   },
   "outputs": [],
   "source": [
    "model_json = model.to_json()\n",
    "model = model_from_json(model_json)\n",
    "#model.compile(loss='SparseCategoricalCrossentropy', optimizer='adam', metrics=['accuracy'])\n",
    "#model.compile(Adam(learning_rate = 0.001), loss = 'categorical_crossentropy', metrics = ['accuracy'])\n",
    "model.compile(loss=\"categorical_crossentropy\", optimizer=\"adam\", metrics=[\"accuracy\"])\n",
    "classifier = KerasClassifier(model=model,clip_values=(0, 1), use_logits=False)"
   ]
  },
  {
   "cell_type": "code",
   "execution_count": 21,
   "id": "33aa3192",
   "metadata": {
    "execution": {
     "iopub.execute_input": "2023-11-27T00:13:40.247067Z",
     "iopub.status.busy": "2023-11-27T00:13:40.246452Z",
     "iopub.status.idle": "2023-11-27T00:15:05.522354Z",
     "shell.execute_reply": "2023-11-27T00:15:05.521050Z"
    },
    "papermill": {
     "duration": 85.347895,
     "end_time": "2023-11-27T00:15:05.524875",
     "exception": false,
     "start_time": "2023-11-27T00:13:40.176980",
     "status": "completed"
    },
    "tags": []
   },
   "outputs": [
    {
     "name": "stdout",
     "output_type": "stream",
     "text": [
      "Train on 31367 samples\n",
      "Epoch 1/15\n",
      "31367/31367 [==============================] - 6s 180us/sample - loss: 1.8185 - accuracy: 0.5296\n",
      "Epoch 2/15\n",
      "31367/31367 [==============================] - 5s 168us/sample - loss: 0.6660 - accuracy: 0.8064\n",
      "Epoch 3/15\n",
      "31367/31367 [==============================] - 5s 168us/sample - loss: 0.4898 - accuracy: 0.8577\n",
      "Epoch 4/15\n",
      "31367/31367 [==============================] - 5s 167us/sample - loss: 0.3846 - accuracy: 0.8866\n",
      "Epoch 5/15\n",
      "31367/31367 [==============================] - 5s 168us/sample - loss: 0.3463 - accuracy: 0.8988\n",
      "Epoch 6/15\n",
      "31367/31367 [==============================] - 5s 175us/sample - loss: 0.3152 - accuracy: 0.9083\n",
      "Epoch 7/15\n",
      "31367/31367 [==============================] - 5s 168us/sample - loss: 0.2988 - accuracy: 0.9134\n",
      "Epoch 8/15\n",
      "31367/31367 [==============================] - 5s 169us/sample - loss: 0.2694 - accuracy: 0.9234\n",
      "Epoch 9/15\n",
      "31367/31367 [==============================] - 5s 168us/sample - loss: 0.2688 - accuracy: 0.9236\n",
      "Epoch 10/15\n",
      "31367/31367 [==============================] - 5s 169us/sample - loss: 0.2574 - accuracy: 0.9269\n",
      "Epoch 11/15\n",
      "31367/31367 [==============================] - 5s 175us/sample - loss: 0.2363 - accuracy: 0.9336\n",
      "Epoch 12/15\n",
      "31367/31367 [==============================] - 5s 173us/sample - loss: 0.2359 - accuracy: 0.9346\n",
      "Epoch 13/15\n",
      "31367/31367 [==============================] - 5s 169us/sample - loss: 0.2624 - accuracy: 0.9281\n",
      "Epoch 14/15\n",
      "31367/31367 [==============================] - 5s 169us/sample - loss: 0.2388 - accuracy: 0.9338\n",
      "Epoch 15/15\n",
      "31367/31367 [==============================] - 5s 169us/sample - loss: 0.2477 - accuracy: 0.9343\n"
     ]
    }
   ],
   "source": [
    "x_train = x_train.astype('float32')\n",
    "classifier.fit(x_train, y_train, nb_epochs=15, batch_size=32)"
   ]
  },
  {
   "cell_type": "code",
   "execution_count": 22,
   "id": "c0d25139",
   "metadata": {
    "execution": {
     "iopub.execute_input": "2023-11-27T00:15:05.974320Z",
     "iopub.status.busy": "2023-11-27T00:15:05.973432Z",
     "iopub.status.idle": "2023-11-27T00:15:06.122794Z",
     "shell.execute_reply": "2023-11-27T00:15:06.121961Z"
    },
    "papermill": {
     "duration": 0.34168,
     "end_time": "2023-11-27T00:15:06.125057",
     "exception": false,
     "start_time": "2023-11-27T00:15:05.783377",
     "status": "completed"
    },
    "tags": []
   },
   "outputs": [],
   "source": [
    "model.save('my_model.h5')"
   ]
  },
  {
   "cell_type": "code",
   "execution_count": 23,
   "id": "29019469",
   "metadata": {
    "execution": {
     "iopub.execute_input": "2023-11-27T00:15:06.506400Z",
     "iopub.status.busy": "2023-11-27T00:15:06.505581Z",
     "iopub.status.idle": "2023-11-27T00:15:18.211028Z",
     "shell.execute_reply": "2023-11-27T00:15:18.210127Z"
    },
    "papermill": {
     "duration": 11.904904,
     "end_time": "2023-11-27T00:15:18.213407",
     "exception": false,
     "start_time": "2023-11-27T00:15:06.308503",
     "status": "completed"
    },
    "tags": []
   },
   "outputs": [
    {
     "name": "stderr",
     "output_type": "stream",
     "text": [
      "/opt/conda/lib/python3.7/site-packages/keras/engine/training.py:2470: UserWarning: `Model.state_updates` will be removed in a future version. This property should not be used in TensorFlow 2.0, as `updates` are applied automatically.\n",
      "  warnings.warn('`Model.state_updates` will be removed in a future version. '\n"
     ]
    },
    {
     "name": "stdout",
     "output_type": "stream",
     "text": [
      "Test/00003.png\n",
      "33\n",
      "/kaggle/input/gtsrb-german-traffic-sign/Test/00003.png\n"
     ]
    },
    {
     "data": {
      "image/png": "[encoded data removed]",
      "text/plain": [
       "<Figure size 432x288 with 1 Axes>"
      ]
     },
     "metadata": {
      "needs_background": "light"
     },
     "output_type": "display_data"
    },
    {
     "data": {
      "image/png": "[encoded data removed]",
      "text/plain": [
       "<Figure size 432x288 with 1 Axes>"
      ]
     },
     "metadata": {
      "needs_background": "light"
     },
     "output_type": "display_data"
    }
   ],
   "source": [
    "csv_path = \"/kaggle/input/gtsrb-german-traffic-sign/Test.csv\"\n",
    "img_path = \"/kaggle/input/gtsrb-german-traffic-sign\"\n",
    "data,label,images = generate_data(csv_path, img_path,custom_data = 0) \n",
    "show_original_vs_prediction(data=data,model=classifier,n=3)"
   ]
  },
  {
   "cell_type": "markdown",
   "id": "9e345bb7",
   "metadata": {
    "papermill": {
     "duration": 0.193036,
     "end_time": "2023-11-27T00:15:18.596490",
     "exception": false,
     "start_time": "2023-11-27T00:15:18.403454",
     "status": "completed"
    },
    "tags": []
   },
   "source": [
    "## Attack 1 : Projected Gradient Descent"
   ]
  },
  {
   "cell_type": "code",
   "execution_count": 24,
   "id": "698d745c",
   "metadata": {
    "execution": {
     "iopub.execute_input": "2023-11-27T00:15:18.979098Z",
     "iopub.status.busy": "2023-11-27T00:15:18.978240Z",
     "iopub.status.idle": "2023-11-27T00:17:47.782800Z",
     "shell.execute_reply": "2023-11-27T00:17:47.781666Z"
    },
    "papermill": {
     "duration": 148.99763,
     "end_time": "2023-11-27T00:17:47.785780",
     "exception": false,
     "start_time": "2023-11-27T00:15:18.788150",
     "status": "completed"
    },
    "tags": []
   },
   "outputs": [],
   "source": [
    "x_test = x_test.astype('float32')\n",
    "# Perform an evasion attack (PGD) on the test samples\n",
    "attack1 = ProjectedGradientDescent(estimator=classifier,eps=0.5,verbose=False,)\n",
    "x_test_adv1 = attack1.generate(x=x_test,verbose=True)"
   ]
  },
  {
   "cell_type": "code",
   "execution_count": 25,
   "id": "129f0ac2",
   "metadata": {
    "execution": {
     "iopub.execute_input": "2023-11-27T00:17:48.164365Z",
     "iopub.status.busy": "2023-11-27T00:17:48.163976Z",
     "iopub.status.idle": "2023-11-27T00:17:48.450245Z",
     "shell.execute_reply": "2023-11-27T00:17:48.448934Z"
    },
    "papermill": {
     "duration": 0.471912,
     "end_time": "2023-11-27T00:17:48.452577",
     "exception": false,
     "start_time": "2023-11-27T00:17:47.980665",
     "status": "completed"
    },
    "tags": []
   },
   "outputs": [
    {
     "name": "stdout",
     "output_type": "stream",
     "text": [
      "Adversarial test data accuracy: 98.10%\n",
      "Adversarial Attack Success Rate: 1.90%\n"
     ]
    }
   ],
   "source": [
    "# Test the model's accuracy on the adversarial test samples\n",
    "predictions_adv1 = classifier.predict(x_test_adv1)\n",
    "predictions_adv1 = predictions_adv1.argmax(axis=1)\n",
    "accuracy_adv = accuracy_score(y_test.argmax(axis=1), predictions_adv1)\n",
    "print(f\"Adversarial test data accuracy: {accuracy_adv * 100:.2f}%\")\n",
    "print(f\"Adversarial Attack Success Rate: {(1-accuracy_adv) * 100:.2f}%\")"
   ]
  },
  {
   "cell_type": "code",
   "execution_count": 26,
   "id": "d49a9d49",
   "metadata": {
    "execution": {
     "iopub.execute_input": "2023-11-27T00:17:48.827664Z",
     "iopub.status.busy": "2023-11-27T00:17:48.827277Z",
     "iopub.status.idle": "2023-11-27T00:17:49.174888Z",
     "shell.execute_reply": "2023-11-27T00:17:49.173947Z"
    },
    "papermill": {
     "duration": 0.537361,
     "end_time": "2023-11-27T00:17:49.177238",
     "exception": false,
     "start_time": "2023-11-27T00:17:48.639877",
     "status": "completed"
    },
    "tags": []
   },
   "outputs": [
    {
     "name": "stdout",
     "output_type": "stream",
     "text": [
      "Int64Index([  88,  100,  119,  136,  147,  164,  176,  238,  259,  509,\n",
      "            ...\n",
      "            7458, 7479, 7488, 7499, 7650, 7672, 7772, 7775, 7801, 7815],\n",
      "           dtype='int64', length=149)\n",
      "/kaggle/input/gtsrb-german-traffic-sign/Train/3/00003_00002_00013.png\n"
     ]
    },
    {
     "data": {
      "image/png": "[encoded data removed]",
      "text/plain": [
       "<Figure size 432x288 with 1 Axes>"
      ]
     },
     "metadata": {
      "needs_background": "light"
     },
     "output_type": "display_data"
    },
    {
     "data": {
      "image/png": "[encoded data removed]",
      "text/plain": [
       "<Figure size 432x288 with 1 Axes>"
      ]
     },
     "metadata": {
      "needs_background": "light"
     },
     "output_type": "display_data"
    }
   ],
   "source": [
    "show_plot(None,predictions_adv1)"
   ]
  },
  {
   "cell_type": "markdown",
   "id": "ca096820",
   "metadata": {
    "papermill": {
     "duration": 0.194793,
     "end_time": "2023-11-27T00:17:49.560159",
     "exception": false,
     "start_time": "2023-11-27T00:17:49.365366",
     "status": "completed"
    },
    "tags": []
   },
   "source": [
    "## Attack 2 : Fast Gradient Method"
   ]
  },
  {
   "cell_type": "code",
   "execution_count": 27,
   "id": "b5b8e40d",
   "metadata": {
    "execution": {
     "iopub.execute_input": "2023-11-27T00:17:49.978301Z",
     "iopub.status.busy": "2023-11-27T00:17:49.977896Z",
     "iopub.status.idle": "2023-11-27T00:17:52.334174Z",
     "shell.execute_reply": "2023-11-27T00:17:52.332928Z"
    },
    "papermill": {
     "duration": 2.590278,
     "end_time": "2023-11-27T00:17:52.336485",
     "exception": false,
     "start_time": "2023-11-27T00:17:49.746207",
     "status": "completed"
    },
    "tags": []
   },
   "outputs": [
    {
     "name": "stdout",
     "output_type": "stream",
     "text": [
      "Adversarial test data accuracy: 98.07%\n",
      "Adversarial Attack Success Rate: 1.93%\n"
     ]
    }
   ],
   "source": [
    "x_test = x_test.astype('float32')\n",
    "# Perform an evasion attack (FGM) on the test samples\n",
    "attack2 = FastGradientMethod(estimator=classifier, eps=0.9)\n",
    "x_test_adv2 = attack2.generate(x=x_test)\n",
    "# Test the model's accuracy on the adversarial test samples\n",
    "predictions_adv2 = classifier.predict(x_test_adv2)\n",
    "predictions_adv2 = predictions_adv2.argmax(axis=1)\n",
    "accuracy_adv = accuracy_score(y_test.argmax(axis=1), predictions_adv2)\n",
    "print(f\"Adversarial test data accuracy: {accuracy_adv * 100:.2f}%\") \n",
    "print(f\"Adversarial Attack Success Rate: {(1-accuracy_adv) * 100:.2f}%\")"
   ]
  },
  {
   "cell_type": "code",
   "execution_count": 28,
   "id": "5ff20c92",
   "metadata": {
    "execution": {
     "iopub.execute_input": "2023-11-27T00:17:52.790960Z",
     "iopub.status.busy": "2023-11-27T00:17:52.790517Z",
     "iopub.status.idle": "2023-11-27T00:17:53.241292Z",
     "shell.execute_reply": "2023-11-27T00:17:53.240345Z"
    },
    "papermill": {
     "duration": 0.69339,
     "end_time": "2023-11-27T00:17:53.243418",
     "exception": false,
     "start_time": "2023-11-27T00:17:52.550028",
     "status": "completed"
    },
    "tags": []
   },
   "outputs": [
    {
     "name": "stdout",
     "output_type": "stream",
     "text": [
      "Int64Index([  88,  100,  119,  136,  147,  164,  176,  238,  259,  509,\n",
      "            ...\n",
      "            7458, 7479, 7488, 7499, 7650, 7672, 7772, 7775, 7801, 7815],\n",
      "           dtype='int64', length=151)\n",
      "/kaggle/input/gtsrb-german-traffic-sign/Train/2/00002_00071_00025.png\n"
     ]
    },
    {
     "data": {
      "image/png": "[encoded data removed]",
      "text/plain": [
       "<Figure size 432x288 with 1 Axes>"
      ]
     },
     "metadata": {
      "needs_background": "light"
     },
     "output_type": "display_data"
    },
    {
     "data": {
      "image/png": "[encoded data removed]",
      "text/plain": [
       "<Figure size 432x288 with 1 Axes>"
      ]
     },
     "metadata": {
      "needs_background": "light"
     },
     "output_type": "display_data"
    }
   ],
   "source": [
    "show_plot(None,predictions_adv2)"
   ]
  },
  {
   "cell_type": "code",
   "execution_count": 29,
   "id": "a057cbc3",
   "metadata": {
    "execution": {
     "iopub.execute_input": "2023-11-27T00:17:53.629051Z",
     "iopub.status.busy": "2023-11-27T00:17:53.628097Z",
     "iopub.status.idle": "2023-11-27T00:17:53.632800Z",
     "shell.execute_reply": "2023-11-27T00:17:53.631728Z"
    },
    "papermill": {
     "duration": 0.19717,
     "end_time": "2023-11-27T00:17:53.635096",
     "exception": false,
     "start_time": "2023-11-27T00:17:53.437926",
     "status": "completed"
    },
    "tags": []
   },
   "outputs": [],
   "source": [
    "#compare_df = pd.DataFrame({'y_test': y_test.argmax(axis=1), 'pred': predictions_adv2})\n",
    "#final_result = compare_df[compare_df['y_test']!=compare_df['pred']]\n",
    "#final_result.head(10)"
   ]
  },
  {
   "cell_type": "markdown",
   "id": "4a01164b",
   "metadata": {
    "papermill": {
     "duration": 0.188447,
     "end_time": "2023-11-27T00:17:54.013573",
     "exception": false,
     "start_time": "2023-11-27T00:17:53.825126",
     "status": "completed"
    },
    "tags": []
   },
   "source": [
    "## Attack 3 : Hop Skip Jump "
   ]
  },
  {
   "cell_type": "code",
   "execution_count": 30,
   "id": "580de100",
   "metadata": {
    "execution": {
     "iopub.execute_input": "2023-11-27T00:17:54.405469Z",
     "iopub.status.busy": "2023-11-27T00:17:54.404545Z",
     "iopub.status.idle": "2023-11-27T00:21:30.420518Z",
     "shell.execute_reply": "2023-11-27T00:21:30.419123Z"
    },
    "papermill": {
     "duration": 216.216042,
     "end_time": "2023-11-27T00:21:30.422939",
     "exception": false,
     "start_time": "2023-11-27T00:17:54.206897",
     "status": "completed"
    },
    "tags": []
   },
   "outputs": [
    {
     "data": {
      "application/vnd.jupyter.widget-view+json": {
       "model_id": "fcd10b90c35e44909249cbe0e3a18c8b",
       "version_major": 2,
       "version_minor": 0
      },
      "text/plain": [
       "HopSkipJump:   0%|          | 0/7842 [00:00<?, ?it/s]"
      ]
     },
     "metadata": {},
     "output_type": "display_data"
    },
    {
     "name": "stdout",
     "output_type": "stream",
     "text": [
      "Adversarial test data accuracy: 93.80%\n",
      "Adversarial Attack Success Rate: 6.20%\n"
     ]
    }
   ],
   "source": [
    "# Perform an evasion attack (Hop Skip Jump) on the test samples\n",
    "attack3 = HopSkipJump(classifier=classifier, targeted=False, max_iter=0, max_eval=1000, init_eval=10)\n",
    "x_test_adv3 = attack3.generate(x=x_test, verbose=True)\n",
    "# Test the model's accuracy on the adversarial test samples\n",
    "predictions_adv3 = classifier.predict(x_test_adv3)\n",
    "predictions_adv3 = predictions_adv3.argmax(axis=1)\n",
    "accuracy_adv = accuracy_score(y_test.argmax(axis=1), predictions_adv3)\n",
    "print(f\"Adversarial test data accuracy: {accuracy_adv * 100:.2f}%\") \n",
    "print(f\"Adversarial Attack Success Rate: {(1-accuracy_adv) * 100:.2f}%\")"
   ]
  },
  {
   "cell_type": "code",
   "execution_count": 31,
   "id": "8931f7da",
   "metadata": {
    "execution": {
     "iopub.execute_input": "2023-11-27T00:21:30.800330Z",
     "iopub.status.busy": "2023-11-27T00:21:30.799562Z",
     "iopub.status.idle": "2023-11-27T00:21:30.817899Z",
     "shell.execute_reply": "2023-11-27T00:21:30.816908Z"
    },
    "papermill": {
     "duration": 0.206572,
     "end_time": "2023-11-27T00:21:30.819959",
     "exception": false,
     "start_time": "2023-11-27T00:21:30.613387",
     "status": "completed"
    },
    "tags": []
   },
   "outputs": [
    {
     "data": {
      "text/html": [
       "<div>\n",
       "<style scoped>\n",
       "    .dataframe tbody tr th:only-of-type {\n",
       "        vertical-align: middle;\n",
       "    }\n",
       "\n",
       "    .dataframe tbody tr th {\n",
       "        vertical-align: top;\n",
       "    }\n",
       "\n",
       "    .dataframe thead th {\n",
       "        text-align: right;\n",
       "    }\n",
       "</style>\n",
       "<table border=\"1\" class=\"dataframe\">\n",
       "  <thead>\n",
       "    <tr style=\"text-align: right;\">\n",
       "      <th></th>\n",
       "      <th>y_test</th>\n",
       "      <th>pred</th>\n",
       "    </tr>\n",
       "  </thead>\n",
       "  <tbody>\n",
       "    <tr>\n",
       "      <th>17</th>\n",
       "      <td>5</td>\n",
       "      <td>12</td>\n",
       "    </tr>\n",
       "    <tr>\n",
       "      <th>24</th>\n",
       "      <td>5</td>\n",
       "      <td>12</td>\n",
       "    </tr>\n",
       "    <tr>\n",
       "      <th>29</th>\n",
       "      <td>5</td>\n",
       "      <td>12</td>\n",
       "    </tr>\n",
       "    <tr>\n",
       "      <th>30</th>\n",
       "      <td>5</td>\n",
       "      <td>3</td>\n",
       "    </tr>\n",
       "    <tr>\n",
       "      <th>31</th>\n",
       "      <td>5</td>\n",
       "      <td>12</td>\n",
       "    </tr>\n",
       "    <tr>\n",
       "      <th>33</th>\n",
       "      <td>5</td>\n",
       "      <td>12</td>\n",
       "    </tr>\n",
       "    <tr>\n",
       "      <th>34</th>\n",
       "      <td>5</td>\n",
       "      <td>8</td>\n",
       "    </tr>\n",
       "    <tr>\n",
       "      <th>45</th>\n",
       "      <td>5</td>\n",
       "      <td>12</td>\n",
       "    </tr>\n",
       "    <tr>\n",
       "      <th>48</th>\n",
       "      <td>5</td>\n",
       "      <td>12</td>\n",
       "    </tr>\n",
       "    <tr>\n",
       "      <th>88</th>\n",
       "      <td>3</td>\n",
       "      <td>8</td>\n",
       "    </tr>\n",
       "    <tr>\n",
       "      <th>100</th>\n",
       "      <td>38</td>\n",
       "      <td>15</td>\n",
       "    </tr>\n",
       "    <tr>\n",
       "      <th>119</th>\n",
       "      <td>5</td>\n",
       "      <td>7</td>\n",
       "    </tr>\n",
       "    <tr>\n",
       "      <th>136</th>\n",
       "      <td>5</td>\n",
       "      <td>1</td>\n",
       "    </tr>\n",
       "    <tr>\n",
       "      <th>138</th>\n",
       "      <td>5</td>\n",
       "      <td>12</td>\n",
       "    </tr>\n",
       "    <tr>\n",
       "      <th>147</th>\n",
       "      <td>33</td>\n",
       "      <td>10</td>\n",
       "    </tr>\n",
       "    <tr>\n",
       "      <th>148</th>\n",
       "      <td>5</td>\n",
       "      <td>8</td>\n",
       "    </tr>\n",
       "    <tr>\n",
       "      <th>164</th>\n",
       "      <td>20</td>\n",
       "      <td>30</td>\n",
       "    </tr>\n",
       "    <tr>\n",
       "      <th>176</th>\n",
       "      <td>10</td>\n",
       "      <td>12</td>\n",
       "    </tr>\n",
       "    <tr>\n",
       "      <th>196</th>\n",
       "      <td>5</td>\n",
       "      <td>38</td>\n",
       "    </tr>\n",
       "    <tr>\n",
       "      <th>220</th>\n",
       "      <td>5</td>\n",
       "      <td>8</td>\n",
       "    </tr>\n",
       "  </tbody>\n",
       "</table>\n",
       "</div>"
      ],
      "text/plain": [
       "     y_test  pred\n",
       "17        5    12\n",
       "24        5    12\n",
       "29        5    12\n",
       "30        5     3\n",
       "31        5    12\n",
       "33        5    12\n",
       "34        5     8\n",
       "45        5    12\n",
       "48        5    12\n",
       "88        3     8\n",
       "100      38    15\n",
       "119       5     7\n",
       "136       5     1\n",
       "138       5    12\n",
       "147      33    10\n",
       "148       5     8\n",
       "164      20    30\n",
       "176      10    12\n",
       "196       5    38\n",
       "220       5     8"
      ]
     },
     "execution_count": 31,
     "metadata": {},
     "output_type": "execute_result"
    }
   ],
   "source": [
    "compare_df = pd.DataFrame({'y_test': y_test.argmax(axis=1), 'pred': predictions_adv3})\n",
    "final_result = compare_df[compare_df['y_test']!=compare_df['pred']]\n",
    "final_result.head(20)"
   ]
  },
  {
   "cell_type": "code",
   "execution_count": 32,
   "id": "8c464452",
   "metadata": {
    "execution": {
     "iopub.execute_input": "2023-11-27T00:21:31.192339Z",
     "iopub.status.busy": "2023-11-27T00:21:31.191936Z",
     "iopub.status.idle": "2023-11-27T00:21:31.646390Z",
     "shell.execute_reply": "2023-11-27T00:21:31.645408Z"
    },
    "papermill": {
     "duration": 0.640867,
     "end_time": "2023-11-27T00:21:31.649654",
     "exception": false,
     "start_time": "2023-11-27T00:21:31.008787",
     "status": "completed"
    },
    "tags": []
   },
   "outputs": [
    {
     "name": "stdout",
     "output_type": "stream",
     "text": [
      "Int64Index([  17,   24,   29,   30,   31,   33,   34,   45,   48,   88,\n",
      "            ...\n",
      "            7672, 7694, 7720, 7770, 7772, 7773, 7775, 7791, 7801, 7815],\n",
      "           dtype='int64', length=486)\n",
      "/kaggle/input/gtsrb-german-traffic-sign/Train/2/00002_00016_00017.png\n"
     ]
    },
    {
     "data": {
      "image/png": "[encoded data removed]",
      "text/plain": [
       "<Figure size 432x288 with 1 Axes>"
      ]
     },
     "metadata": {
      "needs_background": "light"
     },
     "output_type": "display_data"
    },
    {
     "data": {
      "image/png": "[encoded data removed]",
      "text/plain": [
       "<Figure size 432x288 with 1 Axes>"
      ]
     },
     "metadata": {
      "needs_background": "light"
     },
     "output_type": "display_data"
    }
   ],
   "source": [
    "show_plot(196,predictions_adv3)"
   ]
  },
  {
   "cell_type": "markdown",
   "id": "d8582b93",
   "metadata": {
    "papermill": {
     "duration": 0.191199,
     "end_time": "2023-11-27T00:21:32.052521",
     "exception": false,
     "start_time": "2023-11-27T00:21:31.861322",
     "status": "completed"
    },
    "tags": []
   },
   "source": [
    "## Attack 4 : Deep Fool"
   ]
  },
  {
   "cell_type": "code",
   "execution_count": 33,
   "id": "cb68d2b4",
   "metadata": {
    "execution": {
     "iopub.execute_input": "2023-11-27T00:21:32.433384Z",
     "iopub.status.busy": "2023-11-27T00:21:32.431120Z",
     "iopub.status.idle": "2023-11-27T01:04:33.216164Z",
     "shell.execute_reply": "2023-11-27T01:04:33.214979Z"
    },
    "papermill": {
     "duration": 2580.980836,
     "end_time": "2023-11-27T01:04:33.218446",
     "exception": false,
     "start_time": "2023-11-27T00:21:32.237610",
     "status": "completed"
    },
    "tags": []
   },
   "outputs": [
    {
     "data": {
      "application/vnd.jupyter.widget-view+json": {
       "model_id": "57ed0b4b222242af8cc098e7e6693c4c",
       "version_major": 2,
       "version_minor": 0
      },
      "text/plain": [
       "DeepFool:   0%|          | 0/7842 [00:00<?, ?it/s]"
      ]
     },
     "metadata": {},
     "output_type": "display_data"
    },
    {
     "name": "stdout",
     "output_type": "stream",
     "text": [
      "Adversarial test data accuracy: 3.72%\n",
      "Adversarial Attack Success Rate: 96.28%\n"
     ]
    }
   ],
   "source": [
    "x_test = x_test.astype('float32')\n",
    "# Perform an evasion attack (DeepFool) on the test samples\n",
    "attack4 = DeepFool(classifier, verbose = True, max_iter=10)\n",
    "x_test_adv4 = attack4.generate(x=x_test, max_iter=10, verbose=True)\n",
    "# Test the model's accuracy on the adversarial test samples\n",
    "predictions_adv4 = classifier.predict(x_test_adv4)\n",
    "predictions_adv4 = predictions_adv4.argmax(axis=1)\n",
    "accuracy_adv = accuracy_score(y_test.argmax(axis=1), predictions_adv4)\n",
    "print(f\"Adversarial test data accuracy: {accuracy_adv * 100:.2f}%\") \n",
    "print(f\"Adversarial Attack Success Rate: {(1-accuracy_adv) * 100:.2f}%\")"
   ]
  },
  {
   "cell_type": "code",
   "execution_count": 34,
   "id": "0f82ac66",
   "metadata": {
    "execution": {
     "iopub.execute_input": "2023-11-27T01:04:33.642313Z",
     "iopub.status.busy": "2023-11-27T01:04:33.641607Z",
     "iopub.status.idle": "2023-11-27T01:04:34.072184Z",
     "shell.execute_reply": "2023-11-27T01:04:34.071265Z"
    },
    "papermill": {
     "duration": 0.671226,
     "end_time": "2023-11-27T01:04:34.074602",
     "exception": false,
     "start_time": "2023-11-27T01:04:33.403376",
     "status": "completed"
    },
    "tags": []
   },
   "outputs": [
    {
     "name": "stdout",
     "output_type": "stream",
     "text": [
      "Int64Index([   0,    1,    2,    3,    4,    5,    6,    7,    8,    9,\n",
      "            ...\n",
      "            7832, 7833, 7834, 7835, 7836, 7837, 7838, 7839, 7840, 7841],\n",
      "           dtype='int64', length=7550)\n",
      "/kaggle/input/gtsrb-german-traffic-sign/Train/20/00020_00000_00000.png\n"
     ]
    },
    {
     "data": {
      "image/png": "[encoded data removed]",
      "text/plain": [
       "<Figure size 432x288 with 1 Axes>"
      ]
     },
     "metadata": {
      "needs_background": "light"
     },
     "output_type": "display_data"
    },
    {
     "data": {
      "image/png": "[encoded data removed]",
      "text/plain": [
       "<Figure size 432x288 with 1 Axes>"
      ]
     },
     "metadata": {
      "needs_background": "light"
     },
     "output_type": "display_data"
    }
   ],
   "source": [
    "show_plot(None,predictions_adv4)"
   ]
  },
  {
   "cell_type": "markdown",
   "id": "c7ad5387",
   "metadata": {
    "papermill": {
     "duration": 0.185642,
     "end_time": "2023-11-27T01:04:34.447903",
     "exception": false,
     "start_time": "2023-11-27T01:04:34.262261",
     "status": "completed"
    },
    "tags": []
   },
   "source": [
    "## Attack 5 : Laser Beam"
   ]
  },
  {
   "cell_type": "code",
   "execution_count": 35,
   "id": "94fac927",
   "metadata": {
    "execution": {
     "iopub.execute_input": "2023-11-27T01:04:34.821965Z",
     "iopub.status.busy": "2023-11-27T01:04:34.821589Z",
     "iopub.status.idle": "2023-11-27T01:04:34.827317Z",
     "shell.execute_reply": "2023-11-27T01:04:34.826396Z"
    },
    "papermill": {
     "duration": 0.193592,
     "end_time": "2023-11-27T01:04:34.829367",
     "exception": false,
     "start_time": "2023-11-27T01:04:34.635775",
     "status": "completed"
    },
    "tags": []
   },
   "outputs": [],
   "source": [
    "from art.attacks.evasion.laser_attack.laser_attack import \\\n",
    "    LaserBeamAttack, LaserBeam\n",
    "# Perform an evasion attack (FGM) on the test samples\n",
    "attack5 = LaserBeamAttack(estimator=classifier,iterations=50,\n",
    "                          max_laser_beam=(780, 3.14, 32, 32))"
   ]
  },
  {
   "cell_type": "code",
   "execution_count": 36,
   "id": "8017cc6d",
   "metadata": {
    "execution": {
     "iopub.execute_input": "2023-11-27T01:04:35.201417Z",
     "iopub.status.busy": "2023-11-27T01:04:35.201075Z",
     "iopub.status.idle": "2023-11-27T01:44:57.087607Z",
     "shell.execute_reply": "2023-11-27T01:44:57.086289Z"
    },
    "papermill": {
     "duration": 2422.277042,
     "end_time": "2023-11-27T01:44:57.291918",
     "exception": false,
     "start_time": "2023-11-27T01:04:35.014876",
     "status": "completed"
    },
    "tags": []
   },
   "outputs": [
    {
     "name": "stdout",
     "output_type": "stream",
     "text": [
      "Adversarial test data accuracy: 4.64%\n",
      "Adversarial Attack Success Rate: 95.36%\n"
     ]
    }
   ],
   "source": [
    "x_test = x_test.astype('float32')\n",
    "x_test_adv5 = attack5.generate(x=x_test, verbose=True)\n",
    "# Test the model's accuracy on the adversarial test samples\n",
    "predictions_adv5 = classifier.predict(x_test_adv5)\n",
    "predictions_adv5 = predictions_adv5.argmax(axis=1)\n",
    "accuracy_adv = accuracy_score(y_test.argmax(axis=1), predictions_adv5)\n",
    "print(f\"Adversarial test data accuracy: {accuracy_adv * 100:.2f}%\") \n",
    "print(f\"Adversarial Attack Success Rate: {(1-accuracy_adv) * 100:.2f}%\")"
   ]
  },
  {
   "cell_type": "code",
   "execution_count": 37,
   "id": "164078c5",
   "metadata": {
    "execution": {
     "iopub.execute_input": "2023-11-27T01:44:57.666787Z",
     "iopub.status.busy": "2023-11-27T01:44:57.666411Z",
     "iopub.status.idle": "2023-11-27T01:44:58.092693Z",
     "shell.execute_reply": "2023-11-27T01:44:58.091769Z"
    },
    "papermill": {
     "duration": 0.615655,
     "end_time": "2023-11-27T01:44:58.095088",
     "exception": false,
     "start_time": "2023-11-27T01:44:57.479433",
     "status": "completed"
    },
    "tags": []
   },
   "outputs": [
    {
     "name": "stdout",
     "output_type": "stream",
     "text": [
      "Int64Index([   0,    1,    2,    3,    4,    5,    6,    7,    8,    9,\n",
      "            ...\n",
      "            7832, 7833, 7834, 7835, 7836, 7837, 7838, 7839, 7840, 7841],\n",
      "           dtype='int64', length=7478)\n",
      "/kaggle/input/gtsrb-german-traffic-sign/Train/20/00020_00000_00000.png\n"
     ]
    },
    {
     "data": {
      "image/png": "[encoded data removed]",
      "text/plain": [
       "<Figure size 432x288 with 1 Axes>"
      ]
     },
     "metadata": {
      "needs_background": "light"
     },
     "output_type": "display_data"
    },
    {
     "data": {
      "image/png": "[encoded data removed]",
      "text/plain": [
       "<Figure size 432x288 with 1 Axes>"
      ]
     },
     "metadata": {
      "needs_background": "light"
     },
     "output_type": "display_data"
    }
   ],
   "source": [
    "show_plot(None,predictions_adv5)"
   ]
  },
  {
   "cell_type": "markdown",
   "id": "c6e372ac",
   "metadata": {
    "papermill": {
     "duration": 0.185437,
     "end_time": "2023-11-27T01:44:58.527647",
     "exception": false,
     "start_time": "2023-11-27T01:44:58.342210",
     "status": "completed"
    },
    "tags": []
   },
   "source": [
    "## Custom Attack - Wear & Tear"
   ]
  },
  {
   "cell_type": "code",
   "execution_count": 38,
   "id": "66f71bb3",
   "metadata": {
    "execution": {
     "iopub.execute_input": "2023-11-27T01:44:58.905262Z",
     "iopub.status.busy": "2023-11-27T01:44:58.904869Z",
     "iopub.status.idle": "2023-11-27T01:44:59.304607Z",
     "shell.execute_reply": "2023-11-27T01:44:59.303268Z"
    },
    "papermill": {
     "duration": 0.594664,
     "end_time": "2023-11-27T01:44:59.310449",
     "exception": false,
     "start_time": "2023-11-27T01:44:58.715785",
     "status": "completed"
    },
    "tags": []
   },
   "outputs": [
    {
     "data": {
      "image/png": "[encoded data removed]",
      "text/plain": [
       "<Figure size 432x288 with 1 Axes>"
      ]
     },
     "metadata": {
      "needs_background": "light"
     },
     "output_type": "display_data"
    }
   ],
   "source": [
    "newTest = pd.DataFrame().reindex_like(test)\n",
    "newTest = newTest.dropna()\n",
    "\n",
    "newtest_img_path = \"/kaggle/input/new-test-data/\"\n",
    "test_image_name = 'Stop-Rusted.jpg'\n",
    "img_path = newtest_img_path + '/' + test_image_name\n",
    "img = Image.open(img_path)\n",
    "plt.imshow(img)\n",
    "\n",
    "import cv2\n",
    "# Load the image\n",
    "image = cv2.imread(img_path)\n",
    "# Get the image shape\n",
    "height, width, channels = image.shape\n",
    "# Extract the ROI coordinates (assuming the ROI is a rectangular bounding box)\n",
    "x1, y1, x2, y2 = (100, 50, 200, 150)\n",
    "metadata = {'Height': image.shape[0],\n",
    "            'Width': image.shape[1],\n",
    "            'ClassId': 14,\n",
    "            'Roi.X1' : x1,'Roi.X2' : x2,\n",
    "            'Roi.Y1' : y1,'Roi.Y2' : y2,\n",
    "            'Path':img_path }\n",
    "\n",
    "newTest = newTest.append(metadata, ignore_index=True)"
   ]
  },
  {
   "cell_type": "code",
   "execution_count": 39,
   "id": "c6a372e8",
   "metadata": {
    "execution": {
     "iopub.execute_input": "2023-11-27T01:44:59.696841Z",
     "iopub.status.busy": "2023-11-27T01:44:59.696097Z",
     "iopub.status.idle": "2023-11-27T01:44:59.911297Z",
     "shell.execute_reply": "2023-11-27T01:44:59.910376Z"
    },
    "papermill": {
     "duration": 0.407019,
     "end_time": "2023-11-27T01:44:59.913497",
     "exception": false,
     "start_time": "2023-11-27T01:44:59.506478",
     "status": "completed"
    },
    "tags": []
   },
   "outputs": [
    {
     "name": "stdout",
     "output_type": "stream",
     "text": [
      "[14]\n",
      "accuracy:  1.0\n"
     ]
    },
    {
     "data": {
      "image/png": "[encoded data removed]",
      "text/plain": [
       "<Figure size 432x288 with 1 Axes>"
      ]
     },
     "metadata": {
      "needs_background": "light"
     },
     "output_type": "display_data"
    }
   ],
   "source": [
    "from sklearn.metrics import accuracy_score\n",
    "newTest_labels = newTest['ClassId'].values.tolist()\n",
    "newtest_img_path = \"/kaggle/input/new-test-data/\"\n",
    "test_imgs = test['Path'].values\n",
    "newtest_data = []\n",
    "newtest_img_path = \"/kaggle/input/new-test-data/\"\n",
    "test_image_name = 'Stop-Rusted.jpg'\n",
    "img_path = newtest_img_path + '/' + test_image_name\n",
    "img = Image.open(img_path)\n",
    "plt.imshow(img)\n",
    "im = img.resize((30,30))\n",
    "im = np.array(im)\n",
    "newtest_data.append(im)\n",
    "newtest_data = np.array(newtest_data)\n",
    "predictions = model.predict(newtest_data)\n",
    "classes_x = np.argmax(predictions, axis = 1).tolist()\n",
    "classes_x = np.array([classes_x]).tolist()[0]\n",
    "print(classes_x)\n",
    "print(\"accuracy: \", accuracy_score(newTest_labels, classes_x))"
   ]
  },
  {
   "cell_type": "markdown",
   "id": "738993eb",
   "metadata": {
    "papermill": {
     "duration": 0.189282,
     "end_time": "2023-11-27T01:45:00.296162",
     "exception": false,
     "start_time": "2023-11-27T01:45:00.106880",
     "status": "completed"
    },
    "tags": []
   },
   "source": [
    "## Adversarial Training"
   ]
  },
  {
   "cell_type": "code",
   "execution_count": 40,
   "id": "3a0669a6",
   "metadata": {
    "execution": {
     "iopub.execute_input": "2023-11-27T01:45:00.682540Z",
     "iopub.status.busy": "2023-11-27T01:45:00.682171Z",
     "iopub.status.idle": "2023-11-27T02:07:03.681792Z",
     "shell.execute_reply": "2023-11-27T02:07:03.680672Z"
    },
    "papermill": {
     "duration": 1323.19901,
     "end_time": "2023-11-27T02:07:03.684271",
     "exception": false,
     "start_time": "2023-11-27T01:45:00.485261",
     "status": "completed"
    },
    "tags": []
   },
   "outputs": [
    {
     "data": {
      "application/vnd.jupyter.widget-view+json": {
       "model_id": "678d30067acd422ea060da443fdb9aa4",
       "version_major": 2,
       "version_minor": 0
      },
      "text/plain": [
       "Precompute adv samples:   0%|          | 0/1 [00:00<?, ?it/s]"
      ]
     },
     "metadata": {},
     "output_type": "display_data"
    },
    {
     "data": {
      "application/vnd.jupyter.widget-view+json": {
       "model_id": "7c69f51dce1f4e9cbaf455cd08dc0b3f",
       "version_major": 2,
       "version_minor": 0
      },
      "text/plain": [
       "Adversarial training epochs:   0%|          | 0/15 [00:00<?, ?it/s]"
      ]
     },
     "metadata": {},
     "output_type": "display_data"
    },
    {
     "name": "stdout",
     "output_type": "stream",
     "text": [
      "Defended test data accuracy: 99.76%\n",
      "Defended adversarial test data accuracy: 99.77%\n"
     ]
    }
   ],
   "source": [
    "attack,x_test_adv = attack1,x_test_adv1\n",
    "# Defend the model against the evasion attack using adversarial training\n",
    "adv_trainer = AdversarialTrainer(classifier, attacks=attack, ratio=0.5)\n",
    "adv_trainer.fit(x_test, y_test, batch_size=100, nb_epochs=15)\n",
    "# Retest the model's accuracy on the original test samples after adversarial training\n",
    "predictions_def = adv_trainer.predict(x_test)\n",
    "accuracy_def = accuracy_score(y_test.argmax(axis=1), predictions_def.argmax(axis=1))\n",
    "print(f\"Defended test data accuracy: {accuracy_def * 100:.2f}%\")\n",
    "# Retest the model's accuracy on the adversarial test samples after adversarial training\n",
    "predictions_adv_def = adv_trainer.predict(x_test_adv)\n",
    "accuracy_adv_def = accuracy_score(y_test.argmax(axis=1), predictions_adv_def.argmax(axis=1))\n",
    "print(f\"Defended adversarial test data accuracy: {accuracy_adv_def * 100:.2f}%\")"
   ]
  },
  {
   "cell_type": "code",
   "execution_count": 41,
   "id": "0d26a01b",
   "metadata": {
    "execution": {
     "iopub.execute_input": "2023-11-27T02:07:04.070207Z",
     "iopub.status.busy": "2023-11-27T02:07:04.069512Z",
     "iopub.status.idle": "2023-11-27T02:07:30.250653Z",
     "shell.execute_reply": "2023-11-27T02:07:30.249553Z"
    },
    "papermill": {
     "duration": 26.374194,
     "end_time": "2023-11-27T02:07:30.253077",
     "exception": false,
     "start_time": "2023-11-27T02:07:03.878883",
     "status": "completed"
    },
    "tags": []
   },
   "outputs": [
    {
     "data": {
      "application/vnd.jupyter.widget-view+json": {
       "model_id": "84a71bfbf1da4b02823bc35fb08f5a4e",
       "version_major": 2,
       "version_minor": 0
      },
      "text/plain": [
       "Precompute adv samples:   0%|          | 0/1 [00:00<?, ?it/s]"
      ]
     },
     "metadata": {},
     "output_type": "display_data"
    },
    {
     "data": {
      "application/vnd.jupyter.widget-view+json": {
       "model_id": "c8e0ba7252d849968a41dd42b1e69133",
       "version_major": 2,
       "version_minor": 0
      },
      "text/plain": [
       "Adversarial training epochs:   0%|          | 0/15 [00:00<?, ?it/s]"
      ]
     },
     "metadata": {},
     "output_type": "display_data"
    },
    {
     "name": "stdout",
     "output_type": "stream",
     "text": [
      "Defended test data accuracy: 99.97%\n",
      "Defended adversarial test data accuracy: 99.97%\n"
     ]
    }
   ],
   "source": [
    "attack,x_test_adv = attack2,x_test_adv2\n",
    "# Defend the model against the evasion attack using adversarial training\n",
    "adv_trainer = AdversarialTrainer(classifier, attacks=attack, ratio=0.5)\n",
    "adv_trainer.fit(x_test, y_test, batch_size=100, nb_epochs=15)\n",
    "# Retest the model's accuracy on the original test samples after adversarial training\n",
    "predictions_def = adv_trainer.predict(x_test)\n",
    "accuracy_def = accuracy_score(y_test.argmax(axis=1), predictions_def.argmax(axis=1))\n",
    "print(f\"Defended test data accuracy: {accuracy_def * 100:.2f}%\")\n",
    "# Retest the model's accuracy on the adversarial test samples after adversarial training\n",
    "predictions_adv_def = adv_trainer.predict(x_test_adv)\n",
    "accuracy_adv_def = accuracy_score(y_test.argmax(axis=1), predictions_adv_def.argmax(axis=1))\n",
    "print(f\"Defended adversarial test data accuracy: {accuracy_adv_def * 100:.2f}%\")"
   ]
  },
  {
   "cell_type": "code",
   "execution_count": 42,
   "id": "6918ead6",
   "metadata": {
    "execution": {
     "iopub.execute_input": "2023-11-27T02:07:30.662593Z",
     "iopub.status.busy": "2023-11-27T02:07:30.661673Z",
     "iopub.status.idle": "2023-11-27T02:43:31.899961Z",
     "shell.execute_reply": "2023-11-27T02:43:31.898851Z"
    },
    "papermill": {
     "duration": 2161.438212,
     "end_time": "2023-11-27T02:43:31.902224",
     "exception": false,
     "start_time": "2023-11-27T02:07:30.464012",
     "status": "completed"
    },
    "tags": []
   },
   "outputs": [
    {
     "data": {
      "application/vnd.jupyter.widget-view+json": {
       "model_id": "585a62755dff4df58e536c2b6d6311de",
       "version_major": 2,
       "version_minor": 0
      },
      "text/plain": [
       "Precompute adv samples:   0%|          | 0/1 [00:00<?, ?it/s]"
      ]
     },
     "metadata": {},
     "output_type": "display_data"
    },
    {
     "data": {
      "application/vnd.jupyter.widget-view+json": {
       "model_id": "cc7eb612286b450ca0e86d344ff7dd42",
       "version_major": 2,
       "version_minor": 0
      },
      "text/plain": [
       "Adversarial training epochs:   0%|          | 0/15 [00:00<?, ?it/s]"
      ]
     },
     "metadata": {},
     "output_type": "display_data"
    },
    {
     "name": "stdout",
     "output_type": "stream",
     "text": [
      "Defended test data accuracy: 99.92%\n",
      "Defended adversarial test data accuracy: 95.18%\n"
     ]
    }
   ],
   "source": [
    "attack,x_test_adv = attack3,x_test_adv3\n",
    "# Defend the model against the evasion attack using adversarial training\n",
    "adv_trainer = AdversarialTrainer(classifier, attacks=attack, ratio=0.5)\n",
    "adv_trainer.fit(x_test, y_test, batch_size=100, nb_epochs=15)\n",
    "# Retest the model's accuracy on the original test samples after adversarial training\n",
    "predictions_def = adv_trainer.predict(x_test)\n",
    "accuracy_def = accuracy_score(y_test.argmax(axis=1), predictions_def.argmax(axis=1))\n",
    "print(f\"Defended test data accuracy: {accuracy_def * 100:.2f}%\")\n",
    "# Retest the model's accuracy on the adversarial test samples after adversarial training\n",
    "predictions_adv_def = adv_trainer.predict(x_test_adv)\n",
    "accuracy_adv_def = accuracy_score(y_test.argmax(axis=1), predictions_adv_def.argmax(axis=1))\n",
    "print(f\"Defended adversarial test data accuracy: {accuracy_adv_def * 100:.2f}%\")"
   ]
  },
  {
   "cell_type": "code",
   "execution_count": 43,
   "id": "c201287b",
   "metadata": {
    "execution": {
     "iopub.execute_input": "2023-11-27T02:43:32.288144Z",
     "iopub.status.busy": "2023-11-27T02:43:32.287434Z",
     "iopub.status.idle": "2023-11-27T08:19:23.886663Z",
     "shell.execute_reply": "2023-11-27T08:19:23.885495Z"
    },
    "papermill": {
     "duration": 20151.794102,
     "end_time": "2023-11-27T08:19:23.889406",
     "exception": false,
     "start_time": "2023-11-27T02:43:32.095304",
     "status": "completed"
    },
    "tags": []
   },
   "outputs": [
    {
     "data": {
      "application/vnd.jupyter.widget-view+json": {
       "model_id": "ff57aaa835b145838cc5ad2b31f8f68b",
       "version_major": 2,
       "version_minor": 0
      },
      "text/plain": [
       "Precompute adv samples:   0%|          | 0/1 [00:00<?, ?it/s]"
      ]
     },
     "metadata": {},
     "output_type": "display_data"
    },
    {
     "data": {
      "application/vnd.jupyter.widget-view+json": {
       "model_id": "ca4c365e62314c7684dc8549b1001dc3",
       "version_major": 2,
       "version_minor": 0
      },
      "text/plain": [
       "Adversarial training epochs:   0%|          | 0/15 [00:00<?, ?it/s]"
      ]
     },
     "metadata": {},
     "output_type": "display_data"
    },
    {
     "name": "stdout",
     "output_type": "stream",
     "text": [
      "Defended test data accuracy: 99.63%\n",
      "Defended adversarial test data accuracy: 6.32%\n"
     ]
    }
   ],
   "source": [
    "attack,x_test_adv = attack4,x_test_adv4\n",
    "# Defend the model against the evasion attack using adversarial training\n",
    "adv_trainer = AdversarialTrainer(classifier, attacks=attack, ratio=0.5)\n",
    "adv_trainer.fit(x_test, y_test, batch_size=100, nb_epochs=15)\n",
    "# Retest the model's accuracy on the original test samples after adversarial training\n",
    "predictions_def = adv_trainer.predict(x_test)\n",
    "accuracy_def = accuracy_score(y_test.argmax(axis=1), predictions_def.argmax(axis=1))\n",
    "print(f\"Defended test data accuracy: {accuracy_def * 100:.2f}%\")\n",
    "# Retest the model's accuracy on the adversarial test samples after adversarial training\n",
    "predictions_adv_def = adv_trainer.predict(x_test_adv)\n",
    "accuracy_adv_def = accuracy_score(y_test.argmax(axis=1), predictions_adv_def.argmax(axis=1))\n",
    "print(f\"Defended adversarial test data accuracy: {accuracy_adv_def * 100:.2f}%\")"
   ]
  },
  {
   "cell_type": "code",
   "execution_count": 44,
   "id": "89d84e40",
   "metadata": {
    "execution": {
     "iopub.execute_input": "2023-11-27T08:19:24.339937Z",
     "iopub.status.busy": "2023-11-27T08:19:24.339520Z",
     "iopub.status.idle": "2023-11-27T08:19:24.951405Z",
     "shell.execute_reply": "2023-11-27T08:19:24.949852Z"
    },
    "papermill": {
     "duration": 0.837478,
     "end_time": "2023-11-27T08:19:24.953381",
     "exception": true,
     "start_time": "2023-11-27T08:19:24.115903",
     "status": "failed"
    },
    "tags": []
   },
   "outputs": [
    {
     "data": {
      "application/vnd.jupyter.widget-view+json": {
       "model_id": "15a7e58afddc4e9e90903c5c85b0ebdb",
       "version_major": 2,
       "version_minor": 0
      },
      "text/plain": [
       "Precompute adv samples:   0%|          | 0/1 [00:00<?, ?it/s]"
      ]
     },
     "metadata": {},
     "output_type": "display_data"
    },
    {
     "data": {
      "application/vnd.jupyter.widget-view+json": {
       "model_id": "78e5dbcb3db24d5cac2d4d3575bfcf62",
       "version_major": 2,
       "version_minor": 0
      },
      "text/plain": [
       "Adversarial training epochs:   0%|          | 0/15 [00:00<?, ?it/s]"
      ]
     },
     "metadata": {},
     "output_type": "display_data"
    },
    {
     "ename": "IndexError",
     "evalue": "arrays used as indices must be of integer (or boolean) type",
     "output_type": "error",
     "traceback": [
      "\u001b[0;31m---------------------------------------------------------------------------\u001b[0m",
      "\u001b[0;31mIndexError\u001b[0m                                Traceback (most recent call last)",
      "\u001b[0;32m/tmp/ipykernel_26/4132596651.py\u001b[0m in \u001b[0;36m<module>\u001b[0;34m\u001b[0m\n\u001b[1;32m      2\u001b[0m \u001b[0;31m# Defend the model against the evasion attack using adversarial training\u001b[0m\u001b[0;34m\u001b[0m\u001b[0;34m\u001b[0m\u001b[0;34m\u001b[0m\u001b[0m\n\u001b[1;32m      3\u001b[0m \u001b[0madv_trainer\u001b[0m \u001b[0;34m=\u001b[0m \u001b[0mAdversarialTrainer\u001b[0m\u001b[0;34m(\u001b[0m\u001b[0mclassifier\u001b[0m\u001b[0;34m,\u001b[0m \u001b[0mattacks\u001b[0m\u001b[0;34m=\u001b[0m\u001b[0mattack\u001b[0m\u001b[0;34m,\u001b[0m \u001b[0mratio\u001b[0m\u001b[0;34m=\u001b[0m\u001b[0;36m0.5\u001b[0m\u001b[0;34m)\u001b[0m\u001b[0;34m\u001b[0m\u001b[0;34m\u001b[0m\u001b[0m\n\u001b[0;32m----> 4\u001b[0;31m \u001b[0madv_trainer\u001b[0m\u001b[0;34m.\u001b[0m\u001b[0mfit\u001b[0m\u001b[0;34m(\u001b[0m\u001b[0mx_test\u001b[0m\u001b[0;34m,\u001b[0m \u001b[0my_test\u001b[0m\u001b[0;34m,\u001b[0m \u001b[0mbatch_size\u001b[0m\u001b[0;34m=\u001b[0m\u001b[0;36m100\u001b[0m\u001b[0;34m,\u001b[0m \u001b[0mnb_epochs\u001b[0m\u001b[0;34m=\u001b[0m\u001b[0;36m15\u001b[0m\u001b[0;34m)\u001b[0m\u001b[0;34m\u001b[0m\u001b[0;34m\u001b[0m\u001b[0m\n\u001b[0m\u001b[1;32m      5\u001b[0m \u001b[0;31m# Retest the model's accuracy on the original test samples after adversarial training\u001b[0m\u001b[0;34m\u001b[0m\u001b[0;34m\u001b[0m\u001b[0;34m\u001b[0m\u001b[0m\n\u001b[1;32m      6\u001b[0m \u001b[0mpredictions_def\u001b[0m \u001b[0;34m=\u001b[0m \u001b[0madv_trainer\u001b[0m\u001b[0;34m.\u001b[0m\u001b[0mpredict\u001b[0m\u001b[0;34m(\u001b[0m\u001b[0mx_test\u001b[0m\u001b[0;34m)\u001b[0m\u001b[0;34m\u001b[0m\u001b[0;34m\u001b[0m\u001b[0m\n",
      "\u001b[0;32m/opt/conda/lib/python3.7/site-packages/art/defences/trainer/adversarial_trainer.py\u001b[0m in \u001b[0;36mfit\u001b[0;34m(self, x, y, batch_size, nb_epochs, **kwargs)\u001b[0m\n\u001b[1;32m    248\u001b[0m                 \u001b[0;31m# If source and target models are the same, craft fresh adversarial samples\u001b[0m\u001b[0;34m\u001b[0m\u001b[0;34m\u001b[0m\u001b[0;34m\u001b[0m\u001b[0m\n\u001b[1;32m    249\u001b[0m                 \u001b[0;32mif\u001b[0m \u001b[0mattack\u001b[0m\u001b[0;34m.\u001b[0m\u001b[0mestimator\u001b[0m \u001b[0;34m==\u001b[0m \u001b[0mself\u001b[0m\u001b[0;34m.\u001b[0m\u001b[0m_classifier\u001b[0m\u001b[0;34m:\u001b[0m\u001b[0;34m\u001b[0m\u001b[0;34m\u001b[0m\u001b[0m\n\u001b[0;32m--> 250\u001b[0;31m                     \u001b[0mx_batch\u001b[0m\u001b[0;34m[\u001b[0m\u001b[0madv_ids\u001b[0m\u001b[0;34m]\u001b[0m \u001b[0;34m=\u001b[0m \u001b[0mattack\u001b[0m\u001b[0;34m.\u001b[0m\u001b[0mgenerate\u001b[0m\u001b[0;34m(\u001b[0m\u001b[0mx_batch\u001b[0m\u001b[0;34m[\u001b[0m\u001b[0madv_ids\u001b[0m\u001b[0;34m]\u001b[0m\u001b[0;34m,\u001b[0m \u001b[0my\u001b[0m\u001b[0;34m=\u001b[0m\u001b[0my_batch\u001b[0m\u001b[0;34m[\u001b[0m\u001b[0madv_ids\u001b[0m\u001b[0;34m]\u001b[0m\u001b[0;34m)\u001b[0m\u001b[0;34m\u001b[0m\u001b[0;34m\u001b[0m\u001b[0m\n\u001b[0m\u001b[1;32m    251\u001b[0m \u001b[0;34m\u001b[0m\u001b[0m\n\u001b[1;32m    252\u001b[0m                 \u001b[0;31m# Otherwise, use precomputed adversarial samples\u001b[0m\u001b[0;34m\u001b[0m\u001b[0;34m\u001b[0m\u001b[0;34m\u001b[0m\u001b[0m\n",
      "\u001b[0;32m/opt/conda/lib/python3.7/site-packages/art/attacks/evasion/laser_attack/laser_attack.py\u001b[0m in \u001b[0;36mgenerate\u001b[0;34m(self, x, y, **kwargs)\u001b[0m\n\u001b[1;32m     98\u001b[0m             \u001b[0;32mraise\u001b[0m \u001b[0mValueError\u001b[0m\u001b[0;34m(\u001b[0m\u001b[0;34m\"Unrecognized input dimension. Only tensors NHWC are acceptable.\"\u001b[0m\u001b[0;34m)\u001b[0m\u001b[0;34m\u001b[0m\u001b[0;34m\u001b[0m\u001b[0m\n\u001b[1;32m     99\u001b[0m \u001b[0;34m\u001b[0m\u001b[0m\n\u001b[0;32m--> 100\u001b[0;31m         \u001b[0mparameters\u001b[0m \u001b[0;34m=\u001b[0m \u001b[0mself\u001b[0m\u001b[0;34m.\u001b[0m\u001b[0mgenerate_parameters\u001b[0m\u001b[0;34m(\u001b[0m\u001b[0mx\u001b[0m\u001b[0;34m,\u001b[0m \u001b[0my\u001b[0m\u001b[0;34m)\u001b[0m\u001b[0;34m\u001b[0m\u001b[0;34m\u001b[0m\u001b[0m\n\u001b[0m\u001b[1;32m    101\u001b[0m         \u001b[0madversarial_images\u001b[0m \u001b[0;34m=\u001b[0m \u001b[0mnp\u001b[0m\u001b[0;34m.\u001b[0m\u001b[0mzeros_like\u001b[0m\u001b[0;34m(\u001b[0m\u001b[0mx\u001b[0m\u001b[0;34m)\u001b[0m\u001b[0;34m\u001b[0m\u001b[0;34m\u001b[0m\u001b[0m\n\u001b[1;32m    102\u001b[0m         \u001b[0;32mfor\u001b[0m \u001b[0mimage_index\u001b[0m \u001b[0;32min\u001b[0m \u001b[0mrange\u001b[0m\u001b[0;34m(\u001b[0m\u001b[0mx\u001b[0m\u001b[0;34m.\u001b[0m\u001b[0mshape\u001b[0m\u001b[0;34m[\u001b[0m\u001b[0;36m0\u001b[0m\u001b[0;34m]\u001b[0m\u001b[0;34m)\u001b[0m\u001b[0;34m:\u001b[0m\u001b[0;34m\u001b[0m\u001b[0;34m\u001b[0m\u001b[0m\n",
      "\u001b[0;32m/opt/conda/lib/python3.7/site-packages/art/attacks/evasion/laser_attack/laser_attack.py\u001b[0m in \u001b[0;36mgenerate_parameters\u001b[0;34m(self, x, y)\u001b[0m\n\u001b[1;32m    125\u001b[0m         \u001b[0;32mfor\u001b[0m \u001b[0mimage_index\u001b[0m \u001b[0;32min\u001b[0m \u001b[0mrange\u001b[0m\u001b[0;34m(\u001b[0m\u001b[0mx\u001b[0m\u001b[0;34m.\u001b[0m\u001b[0mshape\u001b[0m\u001b[0;34m[\u001b[0m\u001b[0;36m0\u001b[0m\u001b[0;34m]\u001b[0m\u001b[0;34m)\u001b[0m\u001b[0;34m:\u001b[0m\u001b[0;34m\u001b[0m\u001b[0;34m\u001b[0m\u001b[0m\n\u001b[1;32m    126\u001b[0m             laser_params, adv_class = self._generate_params_for_single_input(\n\u001b[0;32m--> 127\u001b[0;31m                 \u001b[0mx\u001b[0m\u001b[0;34m[\u001b[0m\u001b[0mimage_index\u001b[0m\u001b[0;34m]\u001b[0m\u001b[0;34m,\u001b[0m \u001b[0my\u001b[0m\u001b[0;34m[\u001b[0m\u001b[0mimage_index\u001b[0m\u001b[0;34m]\u001b[0m \u001b[0;32mif\u001b[0m \u001b[0my\u001b[0m \u001b[0;32mis\u001b[0m \u001b[0;32mnot\u001b[0m \u001b[0;32mNone\u001b[0m \u001b[0;32melse\u001b[0m \u001b[0;32mNone\u001b[0m\u001b[0;34m\u001b[0m\u001b[0;34m\u001b[0m\u001b[0m\n\u001b[0m\u001b[1;32m    128\u001b[0m             )\n\u001b[1;32m    129\u001b[0m             \u001b[0mresult\u001b[0m\u001b[0;34m.\u001b[0m\u001b[0mappend\u001b[0m\u001b[0;34m(\u001b[0m\u001b[0;34m(\u001b[0m\u001b[0mlaser_params\u001b[0m\u001b[0;34m,\u001b[0m \u001b[0madv_class\u001b[0m\u001b[0;34m)\u001b[0m\u001b[0;34m)\u001b[0m\u001b[0;34m\u001b[0m\u001b[0;34m\u001b[0m\u001b[0m\n",
      "\u001b[0;32m/opt/conda/lib/python3.7/site-packages/art/attacks/evasion/laser_attack/laser_attack.py\u001b[0m in \u001b[0;36m_generate_params_for_single_input\u001b[0;34m(self, x, y)\u001b[0m\n\u001b[1;32m    147\u001b[0m         \u001b[0;32melse\u001b[0m\u001b[0;34m:\u001b[0m\u001b[0;34m\u001b[0m\u001b[0;34m\u001b[0m\u001b[0m\n\u001b[1;32m    148\u001b[0m             \u001b[0mactual_class\u001b[0m \u001b[0;34m=\u001b[0m \u001b[0mprediction\u001b[0m\u001b[0;34m.\u001b[0m\u001b[0margmax\u001b[0m\u001b[0;34m(\u001b[0m\u001b[0;34m)\u001b[0m\u001b[0;34m\u001b[0m\u001b[0;34m\u001b[0m\u001b[0m\n\u001b[0;32m--> 149\u001b[0;31m         \u001b[0mactual_class_confidence\u001b[0m \u001b[0;34m=\u001b[0m \u001b[0mprediction\u001b[0m\u001b[0;34m[\u001b[0m\u001b[0;36m0\u001b[0m\u001b[0;34m]\u001b[0m\u001b[0;34m[\u001b[0m\u001b[0mactual_class\u001b[0m\u001b[0;34m]\u001b[0m\u001b[0;34m\u001b[0m\u001b[0;34m\u001b[0m\u001b[0m\n\u001b[0m\u001b[1;32m    150\u001b[0m \u001b[0;34m\u001b[0m\u001b[0m\n\u001b[1;32m    151\u001b[0m         \u001b[0;32mfor\u001b[0m \u001b[0m_\u001b[0m \u001b[0;32min\u001b[0m \u001b[0mrange\u001b[0m\u001b[0;34m(\u001b[0m\u001b[0mself\u001b[0m\u001b[0;34m.\u001b[0m\u001b[0mrandom_initializations\u001b[0m\u001b[0;34m)\u001b[0m\u001b[0;34m:\u001b[0m\u001b[0;34m\u001b[0m\u001b[0;34m\u001b[0m\u001b[0m\n",
      "\u001b[0;31mIndexError\u001b[0m: arrays used as indices must be of integer (or boolean) type"
     ]
    }
   ],
   "source": [
    "attack,x_test_adv = attack5,x_test_adv5\n",
    "# Defend the model against the evasion attack using adversarial training\n",
    "adv_trainer = AdversarialTrainer(classifier, attacks=attack, ratio=0.5)\n",
    "adv_trainer.fit(x_test, y_test, batch_size=100, nb_epochs=15)\n",
    "# Retest the model's accuracy on the original test samples after adversarial training\n",
    "predictions_def = adv_trainer.predict(x_test)\n",
    "accuracy_def = accuracy_score(y_test.argmax(axis=1), predictions_def.argmax(axis=1))\n",
    "print(f\"Defended test data accuracy: {accuracy_def * 100:.2f}%\")\n",
    "# Retest the model's accuracy on the adversarial test samples after adversarial training\n",
    "predictions_adv_def = adv_trainer.predict(x_test_adv)\n",
    "accuracy_adv_def = accuracy_score(y_test.argmax(axis=1), predictions_adv_def.argmax(axis=1))\n",
    "print(f\"Defended adversarial test data accuracy: {accuracy_adv_def * 100:.2f}%\")"
   ]
  },
  {
   "cell_type": "markdown",
   "id": "482f9bef",
   "metadata": {
    "papermill": {
     "duration": null,
     "end_time": null,
     "exception": null,
     "start_time": null,
     "status": "pending"
    },
    "tags": []
   },
   "source": [
    "predictions_adv_def.argmax(axis=1)"
   ]
  }
 ],
 "metadata": {
  "kaggle": {
   "accelerator": "nvidiaTeslaT4",
   "dataSources": [
    {
     "datasetId": 82373,
     "sourceId": 191501,
     "sourceType": "datasetVersion"
    },
    {
     "datasetId": 4040801,
     "sourceId": 7026121,
     "sourceType": "datasetVersion"
    },
    {
     "datasetId": 4045272,
     "sourceId": 7032608,
     "sourceType": "datasetVersion"
    }
   ],
   "dockerImageVersionId": 30380,
   "isGpuEnabled": true,
   "isInternetEnabled": true,
   "language": "python",
   "sourceType": "notebook"
  },
  "kernelspec": {
   "display_name": "Python 3",
   "language": "python",
   "name": "python3"
  },
  "language_info": {
   "codemirror_mode": {
    "name": "ipython",
    "version": 3
   },
   "file_extension": ".py",
   "mimetype": "text/x-python",
   "name": "python",
   "nbconvert_exporter": "python",
   "pygments_lexer": "ipython3",
   "version": "3.7.12"
  },
  "papermill": {
   "default_parameters": {},
   "duration": 29633.324716,
   "end_time": "2023-11-27T08:19:29.188147",
   "environment_variables": {},
   "exception": true,
   "input_path": "__notebook__.ipynb",
   "output_path": "__notebook__.ipynb",
   "parameters": {},
   "start_time": "2023-11-27T00:05:35.863431",
   "version": "2.3.4"
  },
  "widgets": {
   "application/vnd.jupyter.widget-state+json": {
    "state": {
     "01d39e84c55445e48d5c9c4627c14804": {
      "model_module": "@jupyter-widgets/controls",
      "model_module_version": "1.5.0",
      "model_name": "FloatProgressModel",
      "state": {
       "_dom_classes": [],
       "_model_module": "@jupyter-widgets/controls",
       "_model_module_version": "1.5.0",
       "_model_name": "FloatProgressModel",
       "_view_count": null,
       "_view_module": "@jupyter-widgets/controls",
       "_view_module_version": "1.5.0",
       "_view_name": "ProgressView",
       "bar_style": "success",
       "description": "",
       "description_tooltip": null,
       "layout": "IPY_MODEL_ef8b07e42a7f42d4a39ad6698159f352",
       "max": 1.0,
       "min": 0.0,
       "orientation": "horizontal",
       "style": "IPY_MODEL_8e9d1d54938a47d5a04c2fecaa28dcf7",
       "value": 1.0
      }
     },
     "02c221c8da2d49f4be64e81122cc2fd8": {
      "model_module": "@jupyter-widgets/controls",
      "model_module_version": "1.5.0",
      "model_name": "HTMLModel",
      "state": {
       "_dom_classes": [],
       "_model_module": "@jupyter-widgets/controls",
       "_model_module_version": "1.5.0",
       "_model_name": "HTMLModel",
       "_view_count": null,
       "_view_module": "@jupyter-widgets/controls",
       "_view_module_version": "1.5.0",
       "_view_name": "HTMLView",
       "description": "",
       "description_tooltip": null,
       "layout": "IPY_MODEL_94bdd26e062c4ae0a9a57d5dc3e9bfda",
       "placeholder": "​",
       "style": "IPY_MODEL_51b9dc3bcd7d48d7895fa9c3a8272364",
       "value": " 7842/7842 [03:34&lt;00:00, 38.19it/s]"
      }
     },
     "056221c3d0cb4b7782f991e03810cf2f": {
      "model_module": "@jupyter-widgets/base",
      "model_module_version": "1.2.0",
      "model_name": "LayoutModel",
      "state": {
       "_model_module": "@jupyter-widgets/base",
       "_model_module_version": "1.2.0",
       "_model_name": "LayoutModel",
       "_view_count": null,
       "_view_module": "@jupyter-widgets/base",
       "_view_module_version": "1.2.0",
       "_view_name": "LayoutView",
       "align_content": null,
       "align_items": null,
       "align_self": null,
       "border": null,
       "bottom": null,
       "display": null,
       "flex": null,
       "flex_flow": null,
       "grid_area": null,
       "grid_auto_columns": null,
       "grid_auto_flow": null,
       "grid_auto_rows": null,
       "grid_column": null,
       "grid_gap": null,
       "grid_row": null,
       "grid_template_areas": null,
       "grid_template_columns": null,
       "grid_template_rows": null,
       "height": null,
       "justify_content": null,
       "justify_items": null,
       "left": null,
       "margin": null,
       "max_height": null,
       "max_width": null,
       "min_height": null,
       "min_width": null,
       "object_fit": null,
       "object_position": null,
       "order": null,
       "overflow": null,
       "overflow_x": null,
       "overflow_y": null,
       "padding": null,
       "right": null,
       "top": null,
       "visibility": null,
       "width": null
      }
     },
     "05c65af99cf04f209795d164159a0aae": {
      "model_module": "@jupyter-widgets/base",
      "model_module_version": "1.2.0",
      "model_name": "LayoutModel",
      "state": {
       "_model_module": "@jupyter-widgets/base",
       "_model_module_version": "1.2.0",
       "_model_name": "LayoutModel",
       "_view_count": null,
       "_view_module": "@jupyter-widgets/base",
       "_view_module_version": "1.2.0",
       "_view_name": "LayoutView",
       "align_content": null,
       "align_items": null,
       "align_self": null,
       "border": null,
       "bottom": null,
       "display": null,
       "flex": null,
       "flex_flow": null,
       "grid_area": null,
       "grid_auto_columns": null,
       "grid_auto_flow": null,
       "grid_auto_rows": null,
       "grid_column": null,
       "grid_gap": null,
       "grid_row": null,
       "grid_template_areas": null,
       "grid_template_columns": null,
       "grid_template_rows": null,
       "height": null,
       "justify_content": null,
       "justify_items": null,
       "left": null,
       "margin": null,
       "max_height": null,
       "max_width": null,
       "min_height": null,
       "min_width": null,
       "object_fit": null,
       "object_position": null,
       "order": null,
       "overflow": null,
       "overflow_x": null,
       "overflow_y": null,
       "padding": null,
       "right": null,
       "top": null,
       "visibility": null,
       "width": null
      }
     },
     "077f3d95ac28424daa33ffd42a98da3b": {
      "model_module": "@jupyter-widgets/controls",
      "model_module_version": "1.5.0",
      "model_name": "HTMLModel",
      "state": {
       "_dom_classes": [],
       "_model_module": "@jupyter-widgets/controls",
       "_model_module_version": "1.5.0",
       "_model_name": "HTMLModel",
       "_view_count": null,
       "_view_module": "@jupyter-widgets/controls",
       "_view_module_version": "1.5.0",
       "_view_name": "HTMLView",
       "description": "",
       "description_tooltip": null,
       "layout": "IPY_MODEL_056221c3d0cb4b7782f991e03810cf2f",
       "placeholder": "​",
       "style": "IPY_MODEL_d7c922dd827a4a86a6b98c3b2330205b",
       "value": " 1/1 [00:00&lt;00:00, 27.37it/s]"
      }
     },
     "107594e1681d49ad9a496542876b04e9": {
      "model_module": "@jupyter-widgets/controls",
      "model_module_version": "1.5.0",
      "model_name": "DescriptionStyleModel",
      "state": {
       "_model_module": "@jupyter-widgets/controls",
       "_model_module_version": "1.5.0",
       "_model_name": "DescriptionStyleModel",
       "_view_count": null,
       "_view_module": "@jupyter-widgets/base",
       "_view_module_version": "1.2.0",
       "_view_name": "StyleView",
       "description_width": ""
      }
     },
     "10d30f8c07e04511bda7c5462754ba32": {
      "model_module": "@jupyter-widgets/controls",
      "model_module_version": "1.5.0",
      "model_name": "HTMLModel",
      "state": {
       "_dom_classes": [],
       "_model_module": "@jupyter-widgets/controls",
       "_model_module_version": "1.5.0",
       "_model_name": "HTMLModel",
       "_view_count": null,
       "_view_module": "@jupyter-widgets/controls",
       "_view_module_version": "1.5.0",
       "_view_name": "HTMLView",
       "description": "",
       "description_tooltip": null,
       "layout": "IPY_MODEL_2c2f9ef68cf44811ad08114c58be98fd",
       "placeholder": "​",
       "style": "IPY_MODEL_d2ae88f419b14f21942a6636e77afe6b",
       "value": " 1/1 [00:00&lt;00:00, 35.97it/s]"
      }
     },
     "145c6741faf64fabb451d39dc3f9f305": {
      "model_module": "@jupyter-widgets/base",
      "model_module_version": "1.2.0",
      "model_name": "LayoutModel",
      "state": {
       "_model_module": "@jupyter-widgets/base",
       "_model_module_version": "1.2.0",
       "_model_name": "LayoutModel",
       "_view_count": null,
       "_view_module": "@jupyter-widgets/base",
       "_view_module_version": "1.2.0",
       "_view_name": "LayoutView",
       "align_content": null,
       "align_items": null,
       "align_self": null,
       "border": null,
       "bottom": null,
       "display": null,
       "flex": null,
       "flex_flow": null,
       "grid_area": null,
       "grid_auto_columns": null,
       "grid_auto_flow": null,
       "grid_auto_rows": null,
       "grid_column": null,
       "grid_gap": null,
       "grid_row": null,
       "grid_template_areas": null,
       "grid_template_columns": null,
       "grid_template_rows": null,
       "height": null,
       "justify_content": null,
       "justify_items": null,
       "left": null,
       "margin": null,
       "max_height": null,
       "max_width": null,
       "min_height": null,
       "min_width": null,
       "object_fit": null,
       "object_position": null,
       "order": null,
       "overflow": null,
       "overflow_x": null,
       "overflow_y": null,
       "padding": null,
       "right": null,
       "top": null,
       "visibility": null,
       "width": null
      }
     },
     "14aaae746010442b809300d61ca08f9b": {
      "model_module": "@jupyter-widgets/controls",
      "model_module_version": "1.5.0",
      "model_name": "HTMLModel",
      "state": {
       "_dom_classes": [],
       "_model_module": "@jupyter-widgets/controls",
       "_model_module_version": "1.5.0",
       "_model_name": "HTMLModel",
       "_view_count": null,
       "_view_module": "@jupyter-widgets/controls",
       "_view_module_version": "1.5.0",
       "_view_name": "HTMLView",
       "description": "",
       "description_tooltip": null,
       "layout": "IPY_MODEL_42be685dbc774686bc7c7d9e812d9c85",
       "placeholder": "​",
       "style": "IPY_MODEL_69dbf6c9ab6848bc91d65c84d3db8130",
       "value": " 15/15 [22:02&lt;00:00, 87.95s/it]"
      }
     },
     "15a7e58afddc4e9e90903c5c85b0ebdb": {
      "model_module": "@jupyter-widgets/controls",
      "model_module_version": "1.5.0",
      "model_name": "HBoxModel",
      "state": {
       "_dom_classes": [],
       "_model_module": "@jupyter-widgets/controls",
       "_model_module_version": "1.5.0",
       "_model_name": "HBoxModel",
       "_view_count": null,
       "_view_module": "@jupyter-widgets/controls",
       "_view_module_version": "1.5.0",
       "_view_name": "HBoxView",
       "box_style": "",
       "children": [
        "IPY_MODEL_bfdf79d1abe347c5bf39ae1849accf02",
        "IPY_MODEL_de16f24e72694bc485ff158224ca5b86",
        "IPY_MODEL_077f3d95ac28424daa33ffd42a98da3b"
       ],
       "layout": "IPY_MODEL_a5b768ed1c0349e9b05889cd8bd819c2"
      }
     },
     "19b10a43cb684fa9974d755b65ee2437": {
      "model_module": "@jupyter-widgets/controls",
      "model_module_version": "1.5.0",
      "model_name": "ProgressStyleModel",
      "state": {
       "_model_module": "@jupyter-widgets/controls",
       "_model_module_version": "1.5.0",
       "_model_name": "ProgressStyleModel",
       "_view_count": null,
       "_view_module": "@jupyter-widgets/base",
       "_view_module_version": "1.2.0",
       "_view_name": "StyleView",
       "bar_color": null,
       "description_width": ""
      }
     },
     "1e46a8534bef44659c6c0ed9813264fd": {
      "model_module": "@jupyter-widgets/base",
      "model_module_version": "1.2.0",
      "model_name": "LayoutModel",
      "state": {
       "_model_module": "@jupyter-widgets/base",
       "_model_module_version": "1.2.0",
       "_model_name": "LayoutModel",
       "_view_count": null,
       "_view_module": "@jupyter-widgets/base",
       "_view_module_version": "1.2.0",
       "_view_name": "LayoutView",
       "align_content": null,
       "align_items": null,
       "align_self": null,
       "border": null,
       "bottom": null,
       "display": null,
       "flex": null,
       "flex_flow": null,
       "grid_area": null,
       "grid_auto_columns": null,
       "grid_auto_flow": null,
       "grid_auto_rows": null,
       "grid_column": null,
       "grid_gap": null,
       "grid_row": null,
       "grid_template_areas": null,
       "grid_template_columns": null,
       "grid_template_rows": null,
       "height": null,
       "justify_content": null,
       "justify_items": null,
       "left": null,
       "margin": null,
       "max_height": null,
       "max_width": null,
       "min_height": null,
       "min_width": null,
       "object_fit": null,
       "object_position": null,
       "order": null,
       "overflow": null,
       "overflow_x": null,
       "overflow_y": null,
       "padding": null,
       "right": null,
       "top": null,
       "visibility": null,
       "width": null
      }
     },
     "1eaff14edc1a49589e8b2aa81719ff8d": {
      "model_module": "@jupyter-widgets/base",
      "model_module_version": "1.2.0",
      "model_name": "LayoutModel",
      "state": {
       "_model_module": "@jupyter-widgets/base",
       "_model_module_version": "1.2.0",
       "_model_name": "LayoutModel",
       "_view_count": null,
       "_view_module": "@jupyter-widgets/base",
       "_view_module_version": "1.2.0",
       "_view_name": "LayoutView",
       "align_content": null,
       "align_items": null,
       "align_self": null,
       "border": null,
       "bottom": null,
       "display": null,
       "flex": null,
       "flex_flow": null,
       "grid_area": null,
       "grid_auto_columns": null,
       "grid_auto_flow": null,
       "grid_auto_rows": null,
       "grid_column": null,
       "grid_gap": null,
       "grid_row": null,
       "grid_template_areas": null,
       "grid_template_columns": null,
       "grid_template_rows": null,
       "height": null,
       "justify_content": null,
       "justify_items": null,
       "left": null,
       "margin": null,
       "max_height": null,
       "max_width": null,
       "min_height": null,
       "min_width": null,
       "object_fit": null,
       "object_position": null,
       "order": null,
       "overflow": null,
       "overflow_x": null,
       "overflow_y": null,
       "padding": null,
       "right": null,
       "top": null,
       "visibility": null,
       "width": null
      }
     },
     "2348dc885897462e924a05b08e058b6a": {
      "model_module": "@jupyter-widgets/controls",
      "model_module_version": "1.5.0",
      "model_name": "DescriptionStyleModel",
      "state": {
       "_model_module": "@jupyter-widgets/controls",
       "_model_module_version": "1.5.0",
       "_model_name": "DescriptionStyleModel",
       "_view_count": null,
       "_view_module": "@jupyter-widgets/base",
       "_view_module_version": "1.2.0",
       "_view_name": "StyleView",
       "description_width": ""
      }
     },
     "2538e327c2284f30a30bd5cb8fb4055e": {
      "model_module": "@jupyter-widgets/controls",
      "model_module_version": "1.5.0",
      "model_name": "HTMLModel",
      "state": {
       "_dom_classes": [],
       "_model_module": "@jupyter-widgets/controls",
       "_model_module_version": "1.5.0",
       "_model_name": "HTMLModel",
       "_view_count": null,
       "_view_module": "@jupyter-widgets/controls",
       "_view_module_version": "1.5.0",
       "_view_name": "HTMLView",
       "description": "",
       "description_tooltip": null,
       "layout": "IPY_MODEL_2f2e1d463c4847459cd1c9e15eff9d04",
       "placeholder": "​",
       "style": "IPY_MODEL_9c30fa4d619c4deebf163782f57f79d6",
       "value": "Adversarial training epochs: 100%"
      }
     },
     "269c94b0b8c54380805c29b76f654099": {
      "model_module": "@jupyter-widgets/controls",
      "model_module_version": "1.5.0",
      "model_name": "FloatProgressModel",
      "state": {
       "_dom_classes": [],
       "_model_module": "@jupyter-widgets/controls",
       "_model_module_version": "1.5.0",
       "_model_name": "FloatProgressModel",
       "_view_count": null,
       "_view_module": "@jupyter-widgets/controls",
       "_view_module_version": "1.5.0",
       "_view_name": "ProgressView",
       "bar_style": "success",
       "description": "",
       "description_tooltip": null,
       "layout": "IPY_MODEL_1eaff14edc1a49589e8b2aa81719ff8d",
       "max": 15.0,
       "min": 0.0,
       "orientation": "horizontal",
       "style": "IPY_MODEL_83f21d4a751d4a5487f434285356678e",
       "value": 15.0
      }
     },
     "275406fac37b4678b82aac1f0a723da0": {
      "model_module": "@jupyter-widgets/base",
      "model_module_version": "1.2.0",
      "model_name": "LayoutModel",
      "state": {
       "_model_module": "@jupyter-widgets/base",
       "_model_module_version": "1.2.0",
       "_model_name": "LayoutModel",
       "_view_count": null,
       "_view_module": "@jupyter-widgets/base",
       "_view_module_version": "1.2.0",
       "_view_name": "LayoutView",
       "align_content": null,
       "align_items": null,
       "align_self": null,
       "border": null,
       "bottom": null,
       "display": null,
       "flex": null,
       "flex_flow": null,
       "grid_area": null,
       "grid_auto_columns": null,
       "grid_auto_flow": null,
       "grid_auto_rows": null,
       "grid_column": null,
       "grid_gap": null,
       "grid_row": null,
       "grid_template_areas": null,
       "grid_template_columns": null,
       "grid_template_rows": null,
       "height": null,
       "justify_content": null,
       "justify_items": null,
       "left": null,
       "margin": null,
       "max_height": null,
       "max_width": null,
       "min_height": null,
       "min_width": null,
       "object_fit": null,
       "object_position": null,
       "order": null,
       "overflow": null,
       "overflow_x": null,
       "overflow_y": null,
       "padding": null,
       "right": null,
       "top": null,
       "visibility": null,
       "width": null
      }
     },
     "2955b43c8692481d867e878ccc609c76": {
      "model_module": "@jupyter-widgets/controls",
      "model_module_version": "1.5.0",
      "model_name": "DescriptionStyleModel",
      "state": {
       "_model_module": "@jupyter-widgets/controls",
       "_model_module_version": "1.5.0",
       "_model_name": "DescriptionStyleModel",
       "_view_count": null,
       "_view_module": "@jupyter-widgets/base",
       "_view_module_version": "1.2.0",
       "_view_name": "StyleView",
       "description_width": ""
      }
     },
     "2a9e0ed60e4a43858c74233e08ab3958": {
      "model_module": "@jupyter-widgets/controls",
      "model_module_version": "1.5.0",
      "model_name": "HTMLModel",
      "state": {
       "_dom_classes": [],
       "_model_module": "@jupyter-widgets/controls",
       "_model_module_version": "1.5.0",
       "_model_name": "HTMLModel",
       "_view_count": null,
       "_view_module": "@jupyter-widgets/controls",
       "_view_module_version": "1.5.0",
       "_view_name": "HTMLView",
       "description": "",
       "description_tooltip": null,
       "layout": "IPY_MODEL_5d2046c6c3944c3fb48039708a644260",
       "placeholder": "​",
       "style": "IPY_MODEL_53503e2cb9884959a610bced596e2042",
       "value": "Adversarial training epochs: 100%"
      }
     },
     "2c2f9ef68cf44811ad08114c58be98fd": {
      "model_module": "@jupyter-widgets/base",
      "model_module_version": "1.2.0",
      "model_name": "LayoutModel",
      "state": {
       "_model_module": "@jupyter-widgets/base",
       "_model_module_version": "1.2.0",
       "_model_name": "LayoutModel",
       "_view_count": null,
       "_view_module": "@jupyter-widgets/base",
       "_view_module_version": "1.2.0",
       "_view_name": "LayoutView",
       "align_content": null,
       "align_items": null,
       "align_self": null,
       "border": null,
       "bottom": null,
       "display": null,
       "flex": null,
       "flex_flow": null,
       "grid_area": null,
       "grid_auto_columns": null,
       "grid_auto_flow": null,
       "grid_auto_rows": null,
       "grid_column": null,
       "grid_gap": null,
       "grid_row": null,
       "grid_template_areas": null,
       "grid_template_columns": null,
       "grid_template_rows": null,
       "height": null,
       "justify_content": null,
       "justify_items": null,
       "left": null,
       "margin": null,
       "max_height": null,
       "max_width": null,
       "min_height": null,
       "min_width": null,
       "object_fit": null,
       "object_position": null,
       "order": null,
       "overflow": null,
       "overflow_x": null,
       "overflow_y": null,
       "padding": null,
       "right": null,
       "top": null,
       "visibility": null,
       "width": null
      }
     },
     "2d2c0b6bfc6c4c21aa7099c7b46edc61": {
      "model_module": "@jupyter-widgets/base",
      "model_module_version": "1.2.0",
      "model_name": "LayoutModel",
      "state": {
       "_model_module": "@jupyter-widgets/base",
       "_model_module_version": "1.2.0",
       "_model_name": "LayoutModel",
       "_view_count": null,
       "_view_module": "@jupyter-widgets/base",
       "_view_module_version": "1.2.0",
       "_view_name": "LayoutView",
       "align_content": null,
       "align_items": null,
       "align_self": null,
       "border": null,
       "bottom": null,
       "display": null,
       "flex": null,
       "flex_flow": null,
       "grid_area": null,
       "grid_auto_columns": null,
       "grid_auto_flow": null,
       "grid_auto_rows": null,
       "grid_column": null,
       "grid_gap": null,
       "grid_row": null,
       "grid_template_areas": null,
       "grid_template_columns": null,
       "grid_template_rows": null,
       "height": null,
       "justify_content": null,
       "justify_items": null,
       "left": null,
       "margin": null,
       "max_height": null,
       "max_width": null,
       "min_height": null,
       "min_width": null,
       "object_fit": null,
       "object_position": null,
       "order": null,
       "overflow": null,
       "overflow_x": null,
       "overflow_y": null,
       "padding": null,
       "right": null,
       "top": null,
       "visibility": null,
       "width": null
      }
     },
     "2ed833f73bbd4510997907dc20b3979a": {
      "model_module": "@jupyter-widgets/controls",
      "model_module_version": "1.5.0",
      "model_name": "DescriptionStyleModel",
      "state": {
       "_model_module": "@jupyter-widgets/controls",
       "_model_module_version": "1.5.0",
       "_model_name": "DescriptionStyleModel",
       "_view_count": null,
       "_view_module": "@jupyter-widgets/base",
       "_view_module_version": "1.2.0",
       "_view_name": "StyleView",
       "description_width": ""
      }
     },
     "2f2e1d463c4847459cd1c9e15eff9d04": {
      "model_module": "@jupyter-widgets/base",
      "model_module_version": "1.2.0",
      "model_name": "LayoutModel",
      "state": {
       "_model_module": "@jupyter-widgets/base",
       "_model_module_version": "1.2.0",
       "_model_name": "LayoutModel",
       "_view_count": null,
       "_view_module": "@jupyter-widgets/base",
       "_view_module_version": "1.2.0",
       "_view_name": "LayoutView",
       "align_content": null,
       "align_items": null,
       "align_self": null,
       "border": null,
       "bottom": null,
       "display": null,
       "flex": null,
       "flex_flow": null,
       "grid_area": null,
       "grid_auto_columns": null,
       "grid_auto_flow": null,
       "grid_auto_rows": null,
       "grid_column": null,
       "grid_gap": null,
       "grid_row": null,
       "grid_template_areas": null,
       "grid_template_columns": null,
       "grid_template_rows": null,
       "height": null,
       "justify_content": null,
       "justify_items": null,
       "left": null,
       "margin": null,
       "max_height": null,
       "max_width": null,
       "min_height": null,
       "min_width": null,
       "object_fit": null,
       "object_position": null,
       "order": null,
       "overflow": null,
       "overflow_x": null,
       "overflow_y": null,
       "padding": null,
       "right": null,
       "top": null,
       "visibility": null,
       "width": null
      }
     },
     "313e5b0c36f54adcbc885dc1e548694d": {
      "model_module": "@jupyter-widgets/base",
      "model_module_version": "1.2.0",
      "model_name": "LayoutModel",
      "state": {
       "_model_module": "@jupyter-widgets/base",
       "_model_module_version": "1.2.0",
       "_model_name": "LayoutModel",
       "_view_count": null,
       "_view_module": "@jupyter-widgets/base",
       "_view_module_version": "1.2.0",
       "_view_name": "LayoutView",
       "align_content": null,
       "align_items": null,
       "align_self": null,
       "border": null,
       "bottom": null,
       "display": null,
       "flex": null,
       "flex_flow": null,
       "grid_area": null,
       "grid_auto_columns": null,
       "grid_auto_flow": null,
       "grid_auto_rows": null,
       "grid_column": null,
       "grid_gap": null,
       "grid_row": null,
       "grid_template_areas": null,
       "grid_template_columns": null,
       "grid_template_rows": null,
       "height": null,
       "justify_content": null,
       "justify_items": null,
       "left": null,
       "margin": null,
       "max_height": null,
       "max_width": null,
       "min_height": null,
       "min_width": null,
       "object_fit": null,
       "object_position": null,
       "order": null,
       "overflow": null,
       "overflow_x": null,
       "overflow_y": null,
       "padding": null,
       "right": null,
       "top": null,
       "visibility": null,
       "width": null
      }
     },
     "3210e4366ca24d9f835c222c43125c14": {
      "model_module": "@jupyter-widgets/controls",
      "model_module_version": "1.5.0",
      "model_name": "DescriptionStyleModel",
      "state": {
       "_model_module": "@jupyter-widgets/controls",
       "_model_module_version": "1.5.0",
       "_model_name": "DescriptionStyleModel",
       "_view_count": null,
       "_view_module": "@jupyter-widgets/base",
       "_view_module_version": "1.2.0",
       "_view_name": "StyleView",
       "description_width": ""
      }
     },
     "36d6854ffa4e4a39b1fa932ccb7f27c6": {
      "model_module": "@jupyter-widgets/base",
      "model_module_version": "1.2.0",
      "model_name": "LayoutModel",
      "state": {
       "_model_module": "@jupyter-widgets/base",
       "_model_module_version": "1.2.0",
       "_model_name": "LayoutModel",
       "_view_count": null,
       "_view_module": "@jupyter-widgets/base",
       "_view_module_version": "1.2.0",
       "_view_name": "LayoutView",
       "align_content": null,
       "align_items": null,
       "align_self": null,
       "border": null,
       "bottom": null,
       "display": null,
       "flex": null,
       "flex_flow": null,
       "grid_area": null,
       "grid_auto_columns": null,
       "grid_auto_flow": null,
       "grid_auto_rows": null,
       "grid_column": null,
       "grid_gap": null,
       "grid_row": null,
       "grid_template_areas": null,
       "grid_template_columns": null,
       "grid_template_rows": null,
       "height": null,
       "justify_content": null,
       "justify_items": null,
       "left": null,
       "margin": null,
       "max_height": null,
       "max_width": null,
       "min_height": null,
       "min_width": null,
       "object_fit": null,
       "object_position": null,
       "order": null,
       "overflow": null,
       "overflow_x": null,
       "overflow_y": null,
       "padding": null,
       "right": null,
       "top": null,
       "visibility": null,
       "width": null
      }
     },
     "3a326d09531f41b29dde5969135d22c4": {
      "model_module": "@jupyter-widgets/controls",
      "model_module_version": "1.5.0",
      "model_name": "DescriptionStyleModel",
      "state": {
       "_model_module": "@jupyter-widgets/controls",
       "_model_module_version": "1.5.0",
       "_model_name": "DescriptionStyleModel",
       "_view_count": null,
       "_view_module": "@jupyter-widgets/base",
       "_view_module_version": "1.2.0",
       "_view_name": "StyleView",
       "description_width": ""
      }
     },
     "3cde6d4be8a4487bac44d6ddada858bb": {
      "model_module": "@jupyter-widgets/base",
      "model_module_version": "1.2.0",
      "model_name": "LayoutModel",
      "state": {
       "_model_module": "@jupyter-widgets/base",
       "_model_module_version": "1.2.0",
       "_model_name": "LayoutModel",
       "_view_count": null,
       "_view_module": "@jupyter-widgets/base",
       "_view_module_version": "1.2.0",
       "_view_name": "LayoutView",
       "align_content": null,
       "align_items": null,
       "align_self": null,
       "border": null,
       "bottom": null,
       "display": null,
       "flex": null,
       "flex_flow": null,
       "grid_area": null,
       "grid_auto_columns": null,
       "grid_auto_flow": null,
       "grid_auto_rows": null,
       "grid_column": null,
       "grid_gap": null,
       "grid_row": null,
       "grid_template_areas": null,
       "grid_template_columns": null,
       "grid_template_rows": null,
       "height": null,
       "justify_content": null,
       "justify_items": null,
       "left": null,
       "margin": null,
       "max_height": null,
       "max_width": null,
       "min_height": null,
       "min_width": null,
       "object_fit": null,
       "object_position": null,
       "order": null,
       "overflow": null,
       "overflow_x": null,
       "overflow_y": null,
       "padding": null,
       "right": null,
       "top": null,
       "visibility": null,
       "width": null
      }
     },
     "42be685dbc774686bc7c7d9e812d9c85": {
      "model_module": "@jupyter-widgets/base",
      "model_module_version": "1.2.0",
      "model_name": "LayoutModel",
      "state": {
       "_model_module": "@jupyter-widgets/base",
       "_model_module_version": "1.2.0",
       "_model_name": "LayoutModel",
       "_view_count": null,
       "_view_module": "@jupyter-widgets/base",
       "_view_module_version": "1.2.0",
       "_view_name": "LayoutView",
       "align_content": null,
       "align_items": null,
       "align_self": null,
       "border": null,
       "bottom": null,
       "display": null,
       "flex": null,
       "flex_flow": null,
       "grid_area": null,
       "grid_auto_columns": null,
       "grid_auto_flow": null,
       "grid_auto_rows": null,
       "grid_column": null,
       "grid_gap": null,
       "grid_row": null,
       "grid_template_areas": null,
       "grid_template_columns": null,
       "grid_template_rows": null,
       "height": null,
       "justify_content": null,
       "justify_items": null,
       "left": null,
       "margin": null,
       "max_height": null,
       "max_width": null,
       "min_height": null,
       "min_width": null,
       "object_fit": null,
       "object_position": null,
       "order": null,
       "overflow": null,
       "overflow_x": null,
       "overflow_y": null,
       "padding": null,
       "right": null,
       "top": null,
       "visibility": null,
       "width": null
      }
     },
     "4377f199113a41e7951e7b33f28b7c51": {
      "model_module": "@jupyter-widgets/controls",
      "model_module_version": "1.5.0",
      "model_name": "FloatProgressModel",
      "state": {
       "_dom_classes": [],
       "_model_module": "@jupyter-widgets/controls",
       "_model_module_version": "1.5.0",
       "_model_name": "FloatProgressModel",
       "_view_count": null,
       "_view_module": "@jupyter-widgets/controls",
       "_view_module_version": "1.5.0",
       "_view_name": "ProgressView",
       "bar_style": "success",
       "description": "",
       "description_tooltip": null,
       "layout": "IPY_MODEL_145c6741faf64fabb451d39dc3f9f305",
       "max": 1.0,
       "min": 0.0,
       "orientation": "horizontal",
       "style": "IPY_MODEL_43a429f18c9448ab99b3f1550ea5d67d",
       "value": 1.0
      }
     },
     "43a429f18c9448ab99b3f1550ea5d67d": {
      "model_module": "@jupyter-widgets/controls",
      "model_module_version": "1.5.0",
      "model_name": "ProgressStyleModel",
      "state": {
       "_model_module": "@jupyter-widgets/controls",
       "_model_module_version": "1.5.0",
       "_model_name": "ProgressStyleModel",
       "_view_count": null,
       "_view_module": "@jupyter-widgets/base",
       "_view_module_version": "1.2.0",
       "_view_name": "StyleView",
       "bar_color": null,
       "description_width": ""
      }
     },
     "4805969f8e0d4aeab6adc83ba64d6913": {
      "model_module": "@jupyter-widgets/base",
      "model_module_version": "1.2.0",
      "model_name": "LayoutModel",
      "state": {
       "_model_module": "@jupyter-widgets/base",
       "_model_module_version": "1.2.0",
       "_model_name": "LayoutModel",
       "_view_count": null,
       "_view_module": "@jupyter-widgets/base",
       "_view_module_version": "1.2.0",
       "_view_name": "LayoutView",
       "align_content": null,
       "align_items": null,
       "align_self": null,
       "border": null,
       "bottom": null,
       "display": null,
       "flex": null,
       "flex_flow": null,
       "grid_area": null,
       "grid_auto_columns": null,
       "grid_auto_flow": null,
       "grid_auto_rows": null,
       "grid_column": null,
       "grid_gap": null,
       "grid_row": null,
       "grid_template_areas": null,
       "grid_template_columns": null,
       "grid_template_rows": null,
       "height": null,
       "justify_content": null,
       "justify_items": null,
       "left": null,
       "margin": null,
       "max_height": null,
       "max_width": null,
       "min_height": null,
       "min_width": null,
       "object_fit": null,
       "object_position": null,
       "order": null,
       "overflow": null,
       "overflow_x": null,
       "overflow_y": null,
       "padding": null,
       "right": null,
       "top": null,
       "visibility": null,
       "width": null
      }
     },
     "4baf63fb12bb4b5ba9ec4821a7199b6c": {
      "model_module": "@jupyter-widgets/base",
      "model_module_version": "1.2.0",
      "model_name": "LayoutModel",
      "state": {
       "_model_module": "@jupyter-widgets/base",
       "_model_module_version": "1.2.0",
       "_model_name": "LayoutModel",
       "_view_count": null,
       "_view_module": "@jupyter-widgets/base",
       "_view_module_version": "1.2.0",
       "_view_name": "LayoutView",
       "align_content": null,
       "align_items": null,
       "align_self": null,
       "border": null,
       "bottom": null,
       "display": null,
       "flex": null,
       "flex_flow": null,
       "grid_area": null,
       "grid_auto_columns": null,
       "grid_auto_flow": null,
       "grid_auto_rows": null,
       "grid_column": null,
       "grid_gap": null,
       "grid_row": null,
       "grid_template_areas": null,
       "grid_template_columns": null,
       "grid_template_rows": null,
       "height": null,
       "justify_content": null,
       "justify_items": null,
       "left": null,
       "margin": null,
       "max_height": null,
       "max_width": null,
       "min_height": null,
       "min_width": null,
       "object_fit": null,
       "object_position": null,
       "order": null,
       "overflow": null,
       "overflow_x": null,
       "overflow_y": null,
       "padding": null,
       "right": null,
       "top": null,
       "visibility": null,
       "width": null
      }
     },
     "4bff5f837b354ffe8d896bf4d97c7625": {
      "model_module": "@jupyter-widgets/controls",
      "model_module_version": "1.5.0",
      "model_name": "FloatProgressModel",
      "state": {
       "_dom_classes": [],
       "_model_module": "@jupyter-widgets/controls",
       "_model_module_version": "1.5.0",
       "_model_name": "FloatProgressModel",
       "_view_count": null,
       "_view_module": "@jupyter-widgets/controls",
       "_view_module_version": "1.5.0",
       "_view_name": "ProgressView",
       "bar_style": "success",
       "description": "",
       "description_tooltip": null,
       "layout": "IPY_MODEL_275406fac37b4678b82aac1f0a723da0",
       "max": 15.0,
       "min": 0.0,
       "orientation": "horizontal",
       "style": "IPY_MODEL_e686976ebec3429ca7501f7303b22995",
       "value": 15.0
      }
     },
     "50742bdbd6884115a69378f86490dff5": {
      "model_module": "@jupyter-widgets/controls",
      "model_module_version": "1.5.0",
      "model_name": "HTMLModel",
      "state": {
       "_dom_classes": [],
       "_model_module": "@jupyter-widgets/controls",
       "_model_module_version": "1.5.0",
       "_model_name": "HTMLModel",
       "_view_count": null,
       "_view_module": "@jupyter-widgets/controls",
       "_view_module_version": "1.5.0",
       "_view_name": "HTMLView",
       "description": "",
       "description_tooltip": null,
       "layout": "IPY_MODEL_d1fb4628c572432683e4a0c403270d83",
       "placeholder": "​",
       "style": "IPY_MODEL_2348dc885897462e924a05b08e058b6a",
       "value": "Adversarial training epochs: 100%"
      }
     },
     "51b9dc3bcd7d48d7895fa9c3a8272364": {
      "model_module": "@jupyter-widgets/controls",
      "model_module_version": "1.5.0",
      "model_name": "DescriptionStyleModel",
      "state": {
       "_model_module": "@jupyter-widgets/controls",
       "_model_module_version": "1.5.0",
       "_model_name": "DescriptionStyleModel",
       "_view_count": null,
       "_view_module": "@jupyter-widgets/base",
       "_view_module_version": "1.2.0",
       "_view_name": "StyleView",
       "description_width": ""
      }
     },
     "53503e2cb9884959a610bced596e2042": {
      "model_module": "@jupyter-widgets/controls",
      "model_module_version": "1.5.0",
      "model_name": "DescriptionStyleModel",
      "state": {
       "_model_module": "@jupyter-widgets/controls",
       "_model_module_version": "1.5.0",
       "_model_name": "DescriptionStyleModel",
       "_view_count": null,
       "_view_module": "@jupyter-widgets/base",
       "_view_module_version": "1.2.0",
       "_view_name": "StyleView",
       "description_width": ""
      }
     },
     "5645a178c87d4f448c63ce3b9c95e2e7": {
      "model_module": "@jupyter-widgets/base",
      "model_module_version": "1.2.0",
      "model_name": "LayoutModel",
      "state": {
       "_model_module": "@jupyter-widgets/base",
       "_model_module_version": "1.2.0",
       "_model_name": "LayoutModel",
       "_view_count": null,
       "_view_module": "@jupyter-widgets/base",
       "_view_module_version": "1.2.0",
       "_view_name": "LayoutView",
       "align_content": null,
       "align_items": null,
       "align_self": null,
       "border": null,
       "bottom": null,
       "display": null,
       "flex": null,
       "flex_flow": null,
       "grid_area": null,
       "grid_auto_columns": null,
       "grid_auto_flow": null,
       "grid_auto_rows": null,
       "grid_column": null,
       "grid_gap": null,
       "grid_row": null,
       "grid_template_areas": null,
       "grid_template_columns": null,
       "grid_template_rows": null,
       "height": null,
       "justify_content": null,
       "justify_items": null,
       "left": null,
       "margin": null,
       "max_height": null,
       "max_width": null,
       "min_height": null,
       "min_width": null,
       "object_fit": null,
       "object_position": null,
       "order": null,
       "overflow": null,
       "overflow_x": null,
       "overflow_y": null,
       "padding": null,
       "right": null,
       "top": null,
       "visibility": null,
       "width": null
      }
     },
     "57ed0b4b222242af8cc098e7e6693c4c": {
      "model_module": "@jupyter-widgets/controls",
      "model_module_version": "1.5.0",
      "model_name": "HBoxModel",
      "state": {
       "_dom_classes": [],
       "_model_module": "@jupyter-widgets/controls",
       "_model_module_version": "1.5.0",
       "_model_name": "HBoxModel",
       "_view_count": null,
       "_view_module": "@jupyter-widgets/controls",
       "_view_module_version": "1.5.0",
       "_view_name": "HBoxView",
       "box_style": "",
       "children": [
        "IPY_MODEL_b7ff25205cbc406493c3dba84613a6a4",
        "IPY_MODEL_c37b3a907b1743c4a7b2becb4e62ad50",
        "IPY_MODEL_9ae9565928a44513a9cb10fbd6cc4ea1"
       ],
       "layout": "IPY_MODEL_8f023167dccb440aa9fc97c27921bb5a"
      }
     },
     "585a62755dff4df58e536c2b6d6311de": {
      "model_module": "@jupyter-widgets/controls",
      "model_module_version": "1.5.0",
      "model_name": "HBoxModel",
      "state": {
       "_dom_classes": [],
       "_model_module": "@jupyter-widgets/controls",
       "_model_module_version": "1.5.0",
       "_model_name": "HBoxModel",
       "_view_count": null,
       "_view_module": "@jupyter-widgets/controls",
       "_view_module_version": "1.5.0",
       "_view_name": "HBoxView",
       "box_style": "",
       "children": [
        "IPY_MODEL_64f100c666da4701bd4116d30c2e21e4",
        "IPY_MODEL_4377f199113a41e7951e7b33f28b7c51",
        "IPY_MODEL_99ba8836c00a4b679b8cfbb72a9a50ad"
       ],
       "layout": "IPY_MODEL_5645a178c87d4f448c63ce3b9c95e2e7"
      }
     },
     "5d2046c6c3944c3fb48039708a644260": {
      "model_module": "@jupyter-widgets/base",
      "model_module_version": "1.2.0",
      "model_name": "LayoutModel",
      "state": {
       "_model_module": "@jupyter-widgets/base",
       "_model_module_version": "1.2.0",
       "_model_name": "LayoutModel",
       "_view_count": null,
       "_view_module": "@jupyter-widgets/base",
       "_view_module_version": "1.2.0",
       "_view_name": "LayoutView",
       "align_content": null,
       "align_items": null,
       "align_self": null,
       "border": null,
       "bottom": null,
       "display": null,
       "flex": null,
       "flex_flow": null,
       "grid_area": null,
       "grid_auto_columns": null,
       "grid_auto_flow": null,
       "grid_auto_rows": null,
       "grid_column": null,
       "grid_gap": null,
       "grid_row": null,
       "grid_template_areas": null,
       "grid_template_columns": null,
       "grid_template_rows": null,
       "height": null,
       "justify_content": null,
       "justify_items": null,
       "left": null,
       "margin": null,
       "max_height": null,
       "max_width": null,
       "min_height": null,
       "min_width": null,
       "object_fit": null,
       "object_position": null,
       "order": null,
       "overflow": null,
       "overflow_x": null,
       "overflow_y": null,
       "padding": null,
       "right": null,
       "top": null,
       "visibility": null,
       "width": null
      }
     },
     "63c9584fa2994a3d922ee1b143db0a99": {
      "model_module": "@jupyter-widgets/base",
      "model_module_version": "1.2.0",
      "model_name": "LayoutModel",
      "state": {
       "_model_module": "@jupyter-widgets/base",
       "_model_module_version": "1.2.0",
       "_model_name": "LayoutModel",
       "_view_count": null,
       "_view_module": "@jupyter-widgets/base",
       "_view_module_version": "1.2.0",
       "_view_name": "LayoutView",
       "align_content": null,
       "align_items": null,
       "align_self": null,
       "border": null,
       "bottom": null,
       "display": null,
       "flex": null,
       "flex_flow": null,
       "grid_area": null,
       "grid_auto_columns": null,
       "grid_auto_flow": null,
       "grid_auto_rows": null,
       "grid_column": null,
       "grid_gap": null,
       "grid_row": null,
       "grid_template_areas": null,
       "grid_template_columns": null,
       "grid_template_rows": null,
       "height": null,
       "justify_content": null,
       "justify_items": null,
       "left": null,
       "margin": null,
       "max_height": null,
       "max_width": null,
       "min_height": null,
       "min_width": null,
       "object_fit": null,
       "object_position": null,
       "order": null,
       "overflow": null,
       "overflow_x": null,
       "overflow_y": null,
       "padding": null,
       "right": null,
       "top": null,
       "visibility": null,
       "width": null
      }
     },
     "6407c08b959b41558bddfe50ce7ce3ac": {
      "model_module": "@jupyter-widgets/controls",
      "model_module_version": "1.5.0",
      "model_name": "DescriptionStyleModel",
      "state": {
       "_model_module": "@jupyter-widgets/controls",
       "_model_module_version": "1.5.0",
       "_model_name": "DescriptionStyleModel",
       "_view_count": null,
       "_view_module": "@jupyter-widgets/base",
       "_view_module_version": "1.2.0",
       "_view_name": "StyleView",
       "description_width": ""
      }
     },
     "64a4d10dcd5f4161ac3cd81d4f40500f": {
      "model_module": "@jupyter-widgets/controls",
      "model_module_version": "1.5.0",
      "model_name": "ProgressStyleModel",
      "state": {
       "_model_module": "@jupyter-widgets/controls",
       "_model_module_version": "1.5.0",
       "_model_name": "ProgressStyleModel",
       "_view_count": null,
       "_view_module": "@jupyter-widgets/base",
       "_view_module_version": "1.2.0",
       "_view_name": "StyleView",
       "bar_color": null,
       "description_width": ""
      }
     },
     "64f100c666da4701bd4116d30c2e21e4": {
      "model_module": "@jupyter-widgets/controls",
      "model_module_version": "1.5.0",
      "model_name": "HTMLModel",
      "state": {
       "_dom_classes": [],
       "_model_module": "@jupyter-widgets/controls",
       "_model_module_version": "1.5.0",
       "_model_name": "HTMLModel",
       "_view_count": null,
       "_view_module": "@jupyter-widgets/controls",
       "_view_module_version": "1.5.0",
       "_view_name": "HTMLView",
       "description": "",
       "description_tooltip": null,
       "layout": "IPY_MODEL_6add975f9ab84fd29240f06fb020a85f",
       "placeholder": "​",
       "style": "IPY_MODEL_f9ca69cbf90e4ba28789c95b5fa561bc",
       "value": "Precompute adv samples: 100%"
      }
     },
     "658486f07b3c48c292bd824d6919e437": {
      "model_module": "@jupyter-widgets/base",
      "model_module_version": "1.2.0",
      "model_name": "LayoutModel",
      "state": {
       "_model_module": "@jupyter-widgets/base",
       "_model_module_version": "1.2.0",
       "_model_name": "LayoutModel",
       "_view_count": null,
       "_view_module": "@jupyter-widgets/base",
       "_view_module_version": "1.2.0",
       "_view_name": "LayoutView",
       "align_content": null,
       "align_items": null,
       "align_self": null,
       "border": null,
       "bottom": null,
       "display": null,
       "flex": null,
       "flex_flow": null,
       "grid_area": null,
       "grid_auto_columns": null,
       "grid_auto_flow": null,
       "grid_auto_rows": null,
       "grid_column": null,
       "grid_gap": null,
       "grid_row": null,
       "grid_template_areas": null,
       "grid_template_columns": null,
       "grid_template_rows": null,
       "height": null,
       "justify_content": null,
       "justify_items": null,
       "left": null,
       "margin": null,
       "max_height": null,
       "max_width": null,
       "min_height": null,
       "min_width": null,
       "object_fit": null,
       "object_position": null,
       "order": null,
       "overflow": null,
       "overflow_x": null,
       "overflow_y": null,
       "padding": null,
       "right": null,
       "top": null,
       "visibility": null,
       "width": null
      }
     },
     "678d30067acd422ea060da443fdb9aa4": {
      "model_module": "@jupyter-widgets/controls",
      "model_module_version": "1.5.0",
      "model_name": "HBoxModel",
      "state": {
       "_dom_classes": [],
       "_model_module": "@jupyter-widgets/controls",
       "_model_module_version": "1.5.0",
       "_model_name": "HBoxModel",
       "_view_count": null,
       "_view_module": "@jupyter-widgets/controls",
       "_view_module_version": "1.5.0",
       "_view_name": "HBoxView",
       "box_style": "",
       "children": [
        "IPY_MODEL_925a449d093f476e91f351262222d763",
        "IPY_MODEL_01d39e84c55445e48d5c9c4627c14804",
        "IPY_MODEL_9724d37bbd804832b005a0439d2a0174"
       ],
       "layout": "IPY_MODEL_f493ee66745649ae983cc4084432999b"
      }
     },
     "693fa587247045afbc9cede34783768f": {
      "model_module": "@jupyter-widgets/base",
      "model_module_version": "1.2.0",
      "model_name": "LayoutModel",
      "state": {
       "_model_module": "@jupyter-widgets/base",
       "_model_module_version": "1.2.0",
       "_model_name": "LayoutModel",
       "_view_count": null,
       "_view_module": "@jupyter-widgets/base",
       "_view_module_version": "1.2.0",
       "_view_name": "LayoutView",
       "align_content": null,
       "align_items": null,
       "align_self": null,
       "border": null,
       "bottom": null,
       "display": null,
       "flex": null,
       "flex_flow": null,
       "grid_area": null,
       "grid_auto_columns": null,
       "grid_auto_flow": null,
       "grid_auto_rows": null,
       "grid_column": null,
       "grid_gap": null,
       "grid_row": null,
       "grid_template_areas": null,
       "grid_template_columns": null,
       "grid_template_rows": null,
       "height": null,
       "justify_content": null,
       "justify_items": null,
       "left": null,
       "margin": null,
       "max_height": null,
       "max_width": null,
       "min_height": null,
       "min_width": null,
       "object_fit": null,
       "object_position": null,
       "order": null,
       "overflow": null,
       "overflow_x": null,
       "overflow_y": null,
       "padding": null,
       "right": null,
       "top": null,
       "visibility": null,
       "width": null
      }
     },
     "69dbf6c9ab6848bc91d65c84d3db8130": {
      "model_module": "@jupyter-widgets/controls",
      "model_module_version": "1.5.0",
      "model_name": "DescriptionStyleModel",
      "state": {
       "_model_module": "@jupyter-widgets/controls",
       "_model_module_version": "1.5.0",
       "_model_name": "DescriptionStyleModel",
       "_view_count": null,
       "_view_module": "@jupyter-widgets/base",
       "_view_module_version": "1.2.0",
       "_view_name": "StyleView",
       "description_width": ""
      }
     },
     "6add975f9ab84fd29240f06fb020a85f": {
      "model_module": "@jupyter-widgets/base",
      "model_module_version": "1.2.0",
      "model_name": "LayoutModel",
      "state": {
       "_model_module": "@jupyter-widgets/base",
       "_model_module_version": "1.2.0",
       "_model_name": "LayoutModel",
       "_view_count": null,
       "_view_module": "@jupyter-widgets/base",
       "_view_module_version": "1.2.0",
       "_view_name": "LayoutView",
       "align_content": null,
       "align_items": null,
       "align_self": null,
       "border": null,
       "bottom": null,
       "display": null,
       "flex": null,
       "flex_flow": null,
       "grid_area": null,
       "grid_auto_columns": null,
       "grid_auto_flow": null,
       "grid_auto_rows": null,
       "grid_column": null,
       "grid_gap": null,
       "grid_row": null,
       "grid_template_areas": null,
       "grid_template_columns": null,
       "grid_template_rows": null,
       "height": null,
       "justify_content": null,
       "justify_items": null,
       "left": null,
       "margin": null,
       "max_height": null,
       "max_width": null,
       "min_height": null,
       "min_width": null,
       "object_fit": null,
       "object_position": null,
       "order": null,
       "overflow": null,
       "overflow_x": null,
       "overflow_y": null,
       "padding": null,
       "right": null,
       "top": null,
       "visibility": null,
       "width": null
      }
     },
     "6badcd9d82364ebc981edc6126ae5c71": {
      "model_module": "@jupyter-widgets/base",
      "model_module_version": "1.2.0",
      "model_name": "LayoutModel",
      "state": {
       "_model_module": "@jupyter-widgets/base",
       "_model_module_version": "1.2.0",
       "_model_name": "LayoutModel",
       "_view_count": null,
       "_view_module": "@jupyter-widgets/base",
       "_view_module_version": "1.2.0",
       "_view_name": "LayoutView",
       "align_content": null,
       "align_items": null,
       "align_self": null,
       "border": null,
       "bottom": null,
       "display": null,
       "flex": null,
       "flex_flow": null,
       "grid_area": null,
       "grid_auto_columns": null,
       "grid_auto_flow": null,
       "grid_auto_rows": null,
       "grid_column": null,
       "grid_gap": null,
       "grid_row": null,
       "grid_template_areas": null,
       "grid_template_columns": null,
       "grid_template_rows": null,
       "height": null,
       "justify_content": null,
       "justify_items": null,
       "left": null,
       "margin": null,
       "max_height": null,
       "max_width": null,
       "min_height": null,
       "min_width": null,
       "object_fit": null,
       "object_position": null,
       "order": null,
       "overflow": null,
       "overflow_x": null,
       "overflow_y": null,
       "padding": null,
       "right": null,
       "top": null,
       "visibility": null,
       "width": null
      }
     },
     "6f8f7339656a41b898aeedaab52ad9b9": {
      "model_module": "@jupyter-widgets/base",
      "model_module_version": "1.2.0",
      "model_name": "LayoutModel",
      "state": {
       "_model_module": "@jupyter-widgets/base",
       "_model_module_version": "1.2.0",
       "_model_name": "LayoutModel",
       "_view_count": null,
       "_view_module": "@jupyter-widgets/base",
       "_view_module_version": "1.2.0",
       "_view_name": "LayoutView",
       "align_content": null,
       "align_items": null,
       "align_self": null,
       "border": null,
       "bottom": null,
       "display": null,
       "flex": null,
       "flex_flow": null,
       "grid_area": null,
       "grid_auto_columns": null,
       "grid_auto_flow": null,
       "grid_auto_rows": null,
       "grid_column": null,
       "grid_gap": null,
       "grid_row": null,
       "grid_template_areas": null,
       "grid_template_columns": null,
       "grid_template_rows": null,
       "height": null,
       "justify_content": null,
       "justify_items": null,
       "left": null,
       "margin": null,
       "max_height": null,
       "max_width": null,
       "min_height": null,
       "min_width": null,
       "object_fit": null,
       "object_position": null,
       "order": null,
       "overflow": null,
       "overflow_x": null,
       "overflow_y": null,
       "padding": null,
       "right": null,
       "top": null,
       "visibility": null,
       "width": null
      }
     },
     "78e5dbcb3db24d5cac2d4d3575bfcf62": {
      "model_module": "@jupyter-widgets/controls",
      "model_module_version": "1.5.0",
      "model_name": "HBoxModel",
      "state": {
       "_dom_classes": [],
       "_model_module": "@jupyter-widgets/controls",
       "_model_module_version": "1.5.0",
       "_model_name": "HBoxModel",
       "_view_count": null,
       "_view_module": "@jupyter-widgets/controls",
       "_view_module_version": "1.5.0",
       "_view_name": "HBoxView",
       "box_style": "",
       "children": [
        "IPY_MODEL_8417542f04004585a4c57b1a09028bc0",
        "IPY_MODEL_9dd0ac4b9d6a4ba7910a9601b690b056",
        "IPY_MODEL_8dc7e137a4f249d3806fa802999f8c7d"
       ],
       "layout": "IPY_MODEL_6badcd9d82364ebc981edc6126ae5c71"
      }
     },
     "7b2f7ee9c463446dbf6f148ea12adacc": {
      "model_module": "@jupyter-widgets/base",
      "model_module_version": "1.2.0",
      "model_name": "LayoutModel",
      "state": {
       "_model_module": "@jupyter-widgets/base",
       "_model_module_version": "1.2.0",
       "_model_name": "LayoutModel",
       "_view_count": null,
       "_view_module": "@jupyter-widgets/base",
       "_view_module_version": "1.2.0",
       "_view_name": "LayoutView",
       "align_content": null,
       "align_items": null,
       "align_self": null,
       "border": null,
       "bottom": null,
       "display": null,
       "flex": null,
       "flex_flow": null,
       "grid_area": null,
       "grid_auto_columns": null,
       "grid_auto_flow": null,
       "grid_auto_rows": null,
       "grid_column": null,
       "grid_gap": null,
       "grid_row": null,
       "grid_template_areas": null,
       "grid_template_columns": null,
       "grid_template_rows": null,
       "height": null,
       "justify_content": null,
       "justify_items": null,
       "left": null,
       "margin": null,
       "max_height": null,
       "max_width": null,
       "min_height": null,
       "min_width": null,
       "object_fit": null,
       "object_position": null,
       "order": null,
       "overflow": null,
       "overflow_x": null,
       "overflow_y": null,
       "padding": null,
       "right": null,
       "top": null,
       "visibility": null,
       "width": null
      }
     },
     "7be4a901680b4cc8985ad2900ada3962": {
      "model_module": "@jupyter-widgets/controls",
      "model_module_version": "1.5.0",
      "model_name": "ProgressStyleModel",
      "state": {
       "_model_module": "@jupyter-widgets/controls",
       "_model_module_version": "1.5.0",
       "_model_name": "ProgressStyleModel",
       "_view_count": null,
       "_view_module": "@jupyter-widgets/base",
       "_view_module_version": "1.2.0",
       "_view_name": "StyleView",
       "bar_color": null,
       "description_width": ""
      }
     },
     "7bf875e7481540bfb94fefd4bfbc5551": {
      "model_module": "@jupyter-widgets/controls",
      "model_module_version": "1.5.0",
      "model_name": "DescriptionStyleModel",
      "state": {
       "_model_module": "@jupyter-widgets/controls",
       "_model_module_version": "1.5.0",
       "_model_name": "DescriptionStyleModel",
       "_view_count": null,
       "_view_module": "@jupyter-widgets/base",
       "_view_module_version": "1.2.0",
       "_view_name": "StyleView",
       "description_width": ""
      }
     },
     "7c69f51dce1f4e9cbaf455cd08dc0b3f": {
      "model_module": "@jupyter-widgets/controls",
      "model_module_version": "1.5.0",
      "model_name": "HBoxModel",
      "state": {
       "_dom_classes": [],
       "_model_module": "@jupyter-widgets/controls",
       "_model_module_version": "1.5.0",
       "_model_name": "HBoxModel",
       "_view_count": null,
       "_view_module": "@jupyter-widgets/controls",
       "_view_module_version": "1.5.0",
       "_view_name": "HBoxView",
       "box_style": "",
       "children": [
        "IPY_MODEL_2a9e0ed60e4a43858c74233e08ab3958",
        "IPY_MODEL_ef1a9b347da84aa1b3701e42db9e2cee",
        "IPY_MODEL_14aaae746010442b809300d61ca08f9b"
       ],
       "layout": "IPY_MODEL_3cde6d4be8a4487bac44d6ddada858bb"
      }
     },
     "7f31f99f961c4f9a9e14264a410c8dbc": {
      "model_module": "@jupyter-widgets/controls",
      "model_module_version": "1.5.0",
      "model_name": "DescriptionStyleModel",
      "state": {
       "_model_module": "@jupyter-widgets/controls",
       "_model_module_version": "1.5.0",
       "_model_name": "DescriptionStyleModel",
       "_view_count": null,
       "_view_module": "@jupyter-widgets/base",
       "_view_module_version": "1.2.0",
       "_view_name": "StyleView",
       "description_width": ""
      }
     },
     "82ba53c2b20744c5ad9cd8cc931530a7": {
      "model_module": "@jupyter-widgets/base",
      "model_module_version": "1.2.0",
      "model_name": "LayoutModel",
      "state": {
       "_model_module": "@jupyter-widgets/base",
       "_model_module_version": "1.2.0",
       "_model_name": "LayoutModel",
       "_view_count": null,
       "_view_module": "@jupyter-widgets/base",
       "_view_module_version": "1.2.0",
       "_view_name": "LayoutView",
       "align_content": null,
       "align_items": null,
       "align_self": null,
       "border": null,
       "bottom": null,
       "display": null,
       "flex": null,
       "flex_flow": null,
       "grid_area": null,
       "grid_auto_columns": null,
       "grid_auto_flow": null,
       "grid_auto_rows": null,
       "grid_column": null,
       "grid_gap": null,
       "grid_row": null,
       "grid_template_areas": null,
       "grid_template_columns": null,
       "grid_template_rows": null,
       "height": null,
       "justify_content": null,
       "justify_items": null,
       "left": null,
       "margin": null,
       "max_height": null,
       "max_width": null,
       "min_height": null,
       "min_width": null,
       "object_fit": null,
       "object_position": null,
       "order": null,
       "overflow": null,
       "overflow_x": null,
       "overflow_y": null,
       "padding": null,
       "right": null,
       "top": null,
       "visibility": null,
       "width": null
      }
     },
     "83f21d4a751d4a5487f434285356678e": {
      "model_module": "@jupyter-widgets/controls",
      "model_module_version": "1.5.0",
      "model_name": "ProgressStyleModel",
      "state": {
       "_model_module": "@jupyter-widgets/controls",
       "_model_module_version": "1.5.0",
       "_model_name": "ProgressStyleModel",
       "_view_count": null,
       "_view_module": "@jupyter-widgets/base",
       "_view_module_version": "1.2.0",
       "_view_name": "StyleView",
       "bar_color": null,
       "description_width": ""
      }
     },
     "8417542f04004585a4c57b1a09028bc0": {
      "model_module": "@jupyter-widgets/controls",
      "model_module_version": "1.5.0",
      "model_name": "HTMLModel",
      "state": {
       "_dom_classes": [],
       "_model_module": "@jupyter-widgets/controls",
       "_model_module_version": "1.5.0",
       "_model_name": "HTMLModel",
       "_view_count": null,
       "_view_module": "@jupyter-widgets/controls",
       "_view_module_version": "1.5.0",
       "_view_name": "HTMLView",
       "description": "",
       "description_tooltip": null,
       "layout": "IPY_MODEL_d66402ef6add4061a24170662222a509",
       "placeholder": "​",
       "style": "IPY_MODEL_ff14e408e57b4e6f8cd50cf31c411fb0",
       "value": "Adversarial training epochs:   0%"
      }
     },
     "84a71bfbf1da4b02823bc35fb08f5a4e": {
      "model_module": "@jupyter-widgets/controls",
      "model_module_version": "1.5.0",
      "model_name": "HBoxModel",
      "state": {
       "_dom_classes": [],
       "_model_module": "@jupyter-widgets/controls",
       "_model_module_version": "1.5.0",
       "_model_name": "HBoxModel",
       "_view_count": null,
       "_view_module": "@jupyter-widgets/controls",
       "_view_module_version": "1.5.0",
       "_view_name": "HBoxView",
       "box_style": "",
       "children": [
        "IPY_MODEL_88506da440c34ddaa2cd9074f719fd19",
        "IPY_MODEL_9f3cb1183bb4416189a828c3b4fc2a17",
        "IPY_MODEL_d53bb991672846e3ad687ea415d09f3c"
       ],
       "layout": "IPY_MODEL_ecfd60e4361145a984a8fd088ea9cbf3"
      }
     },
     "85abad87018c44c694f82a5e3c5a6203": {
      "model_module": "@jupyter-widgets/base",
      "model_module_version": "1.2.0",
      "model_name": "LayoutModel",
      "state": {
       "_model_module": "@jupyter-widgets/base",
       "_model_module_version": "1.2.0",
       "_model_name": "LayoutModel",
       "_view_count": null,
       "_view_module": "@jupyter-widgets/base",
       "_view_module_version": "1.2.0",
       "_view_name": "LayoutView",
       "align_content": null,
       "align_items": null,
       "align_self": null,
       "border": null,
       "bottom": null,
       "display": null,
       "flex": null,
       "flex_flow": null,
       "grid_area": null,
       "grid_auto_columns": null,
       "grid_auto_flow": null,
       "grid_auto_rows": null,
       "grid_column": null,
       "grid_gap": null,
       "grid_row": null,
       "grid_template_areas": null,
       "grid_template_columns": null,
       "grid_template_rows": null,
       "height": null,
       "justify_content": null,
       "justify_items": null,
       "left": null,
       "margin": null,
       "max_height": null,
       "max_width": null,
       "min_height": null,
       "min_width": null,
       "object_fit": null,
       "object_position": null,
       "order": null,
       "overflow": null,
       "overflow_x": null,
       "overflow_y": null,
       "padding": null,
       "right": null,
       "top": null,
       "visibility": null,
       "width": null
      }
     },
     "85f4289cb5b94fdfb9de9451fa138495": {
      "model_module": "@jupyter-widgets/controls",
      "model_module_version": "1.5.0",
      "model_name": "DescriptionStyleModel",
      "state": {
       "_model_module": "@jupyter-widgets/controls",
       "_model_module_version": "1.5.0",
       "_model_name": "DescriptionStyleModel",
       "_view_count": null,
       "_view_module": "@jupyter-widgets/base",
       "_view_module_version": "1.2.0",
       "_view_name": "StyleView",
       "description_width": ""
      }
     },
     "88506da440c34ddaa2cd9074f719fd19": {
      "model_module": "@jupyter-widgets/controls",
      "model_module_version": "1.5.0",
      "model_name": "HTMLModel",
      "state": {
       "_dom_classes": [],
       "_model_module": "@jupyter-widgets/controls",
       "_model_module_version": "1.5.0",
       "_model_name": "HTMLModel",
       "_view_count": null,
       "_view_module": "@jupyter-widgets/controls",
       "_view_module_version": "1.5.0",
       "_view_name": "HTMLView",
       "description": "",
       "description_tooltip": null,
       "layout": "IPY_MODEL_fdd3ec9c77c74bc08b988b2374780003",
       "placeholder": "​",
       "style": "IPY_MODEL_7bf875e7481540bfb94fefd4bfbc5551",
       "value": "Precompute adv samples: 100%"
      }
     },
     "8dc7e137a4f249d3806fa802999f8c7d": {
      "model_module": "@jupyter-widgets/controls",
      "model_module_version": "1.5.0",
      "model_name": "HTMLModel",
      "state": {
       "_dom_classes": [],
       "_model_module": "@jupyter-widgets/controls",
       "_model_module_version": "1.5.0",
       "_model_name": "HTMLModel",
       "_view_count": null,
       "_view_module": "@jupyter-widgets/controls",
       "_view_module_version": "1.5.0",
       "_view_name": "HTMLView",
       "description": "",
       "description_tooltip": null,
       "layout": "IPY_MODEL_96b718039a244ce2b5b73118718451a8",
       "placeholder": "​",
       "style": "IPY_MODEL_2955b43c8692481d867e878ccc609c76",
       "value": " 0/15 [00:00&lt;?, ?it/s]"
      }
     },
     "8e9d1d54938a47d5a04c2fecaa28dcf7": {
      "model_module": "@jupyter-widgets/controls",
      "model_module_version": "1.5.0",
      "model_name": "ProgressStyleModel",
      "state": {
       "_model_module": "@jupyter-widgets/controls",
       "_model_module_version": "1.5.0",
       "_model_name": "ProgressStyleModel",
       "_view_count": null,
       "_view_module": "@jupyter-widgets/base",
       "_view_module_version": "1.2.0",
       "_view_name": "StyleView",
       "bar_color": null,
       "description_width": ""
      }
     },
     "8f023167dccb440aa9fc97c27921bb5a": {
      "model_module": "@jupyter-widgets/base",
      "model_module_version": "1.2.0",
      "model_name": "LayoutModel",
      "state": {
       "_model_module": "@jupyter-widgets/base",
       "_model_module_version": "1.2.0",
       "_model_name": "LayoutModel",
       "_view_count": null,
       "_view_module": "@jupyter-widgets/base",
       "_view_module_version": "1.2.0",
       "_view_name": "LayoutView",
       "align_content": null,
       "align_items": null,
       "align_self": null,
       "border": null,
       "bottom": null,
       "display": null,
       "flex": null,
       "flex_flow": null,
       "grid_area": null,
       "grid_auto_columns": null,
       "grid_auto_flow": null,
       "grid_auto_rows": null,
       "grid_column": null,
       "grid_gap": null,
       "grid_row": null,
       "grid_template_areas": null,
       "grid_template_columns": null,
       "grid_template_rows": null,
       "height": null,
       "justify_content": null,
       "justify_items": null,
       "left": null,
       "margin": null,
       "max_height": null,
       "max_width": null,
       "min_height": null,
       "min_width": null,
       "object_fit": null,
       "object_position": null,
       "order": null,
       "overflow": null,
       "overflow_x": null,
       "overflow_y": null,
       "padding": null,
       "right": null,
       "top": null,
       "visibility": null,
       "width": null
      }
     },
     "8fc3eb49736c4906b069e4b6b68d8a83": {
      "model_module": "@jupyter-widgets/base",
      "model_module_version": "1.2.0",
      "model_name": "LayoutModel",
      "state": {
       "_model_module": "@jupyter-widgets/base",
       "_model_module_version": "1.2.0",
       "_model_name": "LayoutModel",
       "_view_count": null,
       "_view_module": "@jupyter-widgets/base",
       "_view_module_version": "1.2.0",
       "_view_name": "LayoutView",
       "align_content": null,
       "align_items": null,
       "align_self": null,
       "border": null,
       "bottom": null,
       "display": null,
       "flex": null,
       "flex_flow": null,
       "grid_area": null,
       "grid_auto_columns": null,
       "grid_auto_flow": null,
       "grid_auto_rows": null,
       "grid_column": null,
       "grid_gap": null,
       "grid_row": null,
       "grid_template_areas": null,
       "grid_template_columns": null,
       "grid_template_rows": null,
       "height": null,
       "justify_content": null,
       "justify_items": null,
       "left": null,
       "margin": null,
       "max_height": null,
       "max_width": null,
       "min_height": null,
       "min_width": null,
       "object_fit": null,
       "object_position": null,
       "order": null,
       "overflow": null,
       "overflow_x": null,
       "overflow_y": null,
       "padding": null,
       "right": null,
       "top": null,
       "visibility": null,
       "width": null
      }
     },
     "9165c74556e74bd08466143ffecb51a4": {
      "model_module": "@jupyter-widgets/controls",
      "model_module_version": "1.5.0",
      "model_name": "ProgressStyleModel",
      "state": {
       "_model_module": "@jupyter-widgets/controls",
       "_model_module_version": "1.5.0",
       "_model_name": "ProgressStyleModel",
       "_view_count": null,
       "_view_module": "@jupyter-widgets/base",
       "_view_module_version": "1.2.0",
       "_view_name": "StyleView",
       "bar_color": null,
       "description_width": ""
      }
     },
     "91e407afc4a24f62ba5552938824f6b4": {
      "model_module": "@jupyter-widgets/controls",
      "model_module_version": "1.5.0",
      "model_name": "HTMLModel",
      "state": {
       "_dom_classes": [],
       "_model_module": "@jupyter-widgets/controls",
       "_model_module_version": "1.5.0",
       "_model_name": "HTMLModel",
       "_view_count": null,
       "_view_module": "@jupyter-widgets/controls",
       "_view_module_version": "1.5.0",
       "_view_name": "HTMLView",
       "description": "",
       "description_tooltip": null,
       "layout": "IPY_MODEL_1e46a8534bef44659c6c0ed9813264fd",
       "placeholder": "​",
       "style": "IPY_MODEL_6407c08b959b41558bddfe50ce7ce3ac",
       "value": " 15/15 [5:35:50&lt;00:00, 1344.75s/it]"
      }
     },
     "925a449d093f476e91f351262222d763": {
      "model_module": "@jupyter-widgets/controls",
      "model_module_version": "1.5.0",
      "model_name": "HTMLModel",
      "state": {
       "_dom_classes": [],
       "_model_module": "@jupyter-widgets/controls",
       "_model_module_version": "1.5.0",
       "_model_name": "HTMLModel",
       "_view_count": null,
       "_view_module": "@jupyter-widgets/controls",
       "_view_module_version": "1.5.0",
       "_view_name": "HTMLView",
       "description": "",
       "description_tooltip": null,
       "layout": "IPY_MODEL_6f8f7339656a41b898aeedaab52ad9b9",
       "placeholder": "​",
       "style": "IPY_MODEL_a3fa9a64464442c5a81af10801dad59d",
       "value": "Precompute adv samples: 100%"
      }
     },
     "93bb57f63ab24375b887300f8c7407d7": {
      "model_module": "@jupyter-widgets/controls",
      "model_module_version": "1.5.0",
      "model_name": "DescriptionStyleModel",
      "state": {
       "_model_module": "@jupyter-widgets/controls",
       "_model_module_version": "1.5.0",
       "_model_name": "DescriptionStyleModel",
       "_view_count": null,
       "_view_module": "@jupyter-widgets/base",
       "_view_module_version": "1.2.0",
       "_view_name": "StyleView",
       "description_width": ""
      }
     },
     "94bdd26e062c4ae0a9a57d5dc3e9bfda": {
      "model_module": "@jupyter-widgets/base",
      "model_module_version": "1.2.0",
      "model_name": "LayoutModel",
      "state": {
       "_model_module": "@jupyter-widgets/base",
       "_model_module_version": "1.2.0",
       "_model_name": "LayoutModel",
       "_view_count": null,
       "_view_module": "@jupyter-widgets/base",
       "_view_module_version": "1.2.0",
       "_view_name": "LayoutView",
       "align_content": null,
       "align_items": null,
       "align_self": null,
       "border": null,
       "bottom": null,
       "display": null,
       "flex": null,
       "flex_flow": null,
       "grid_area": null,
       "grid_auto_columns": null,
       "grid_auto_flow": null,
       "grid_auto_rows": null,
       "grid_column": null,
       "grid_gap": null,
       "grid_row": null,
       "grid_template_areas": null,
       "grid_template_columns": null,
       "grid_template_rows": null,
       "height": null,
       "justify_content": null,
       "justify_items": null,
       "left": null,
       "margin": null,
       "max_height": null,
       "max_width": null,
       "min_height": null,
       "min_width": null,
       "object_fit": null,
       "object_position": null,
       "order": null,
       "overflow": null,
       "overflow_x": null,
       "overflow_y": null,
       "padding": null,
       "right": null,
       "top": null,
       "visibility": null,
       "width": null
      }
     },
     "96b718039a244ce2b5b73118718451a8": {
      "model_module": "@jupyter-widgets/base",
      "model_module_version": "1.2.0",
      "model_name": "LayoutModel",
      "state": {
       "_model_module": "@jupyter-widgets/base",
       "_model_module_version": "1.2.0",
       "_model_name": "LayoutModel",
       "_view_count": null,
       "_view_module": "@jupyter-widgets/base",
       "_view_module_version": "1.2.0",
       "_view_name": "LayoutView",
       "align_content": null,
       "align_items": null,
       "align_self": null,
       "border": null,
       "bottom": null,
       "display": null,
       "flex": null,
       "flex_flow": null,
       "grid_area": null,
       "grid_auto_columns": null,
       "grid_auto_flow": null,
       "grid_auto_rows": null,
       "grid_column": null,
       "grid_gap": null,
       "grid_row": null,
       "grid_template_areas": null,
       "grid_template_columns": null,
       "grid_template_rows": null,
       "height": null,
       "justify_content": null,
       "justify_items": null,
       "left": null,
       "margin": null,
       "max_height": null,
       "max_width": null,
       "min_height": null,
       "min_width": null,
       "object_fit": null,
       "object_position": null,
       "order": null,
       "overflow": null,
       "overflow_x": null,
       "overflow_y": null,
       "padding": null,
       "right": null,
       "top": null,
       "visibility": null,
       "width": null
      }
     },
     "9724d37bbd804832b005a0439d2a0174": {
      "model_module": "@jupyter-widgets/controls",
      "model_module_version": "1.5.0",
      "model_name": "HTMLModel",
      "state": {
       "_dom_classes": [],
       "_model_module": "@jupyter-widgets/controls",
       "_model_module_version": "1.5.0",
       "_model_name": "HTMLModel",
       "_view_count": null,
       "_view_module": "@jupyter-widgets/controls",
       "_view_module_version": "1.5.0",
       "_view_name": "HTMLView",
       "description": "",
       "description_tooltip": null,
       "layout": "IPY_MODEL_36d6854ffa4e4a39b1fa932ccb7f27c6",
       "placeholder": "​",
       "style": "IPY_MODEL_d856f4d3a8844548bfb95ce688847cf2",
       "value": " 1/1 [00:00&lt;00:00, 31.94it/s]"
      }
     },
     "97cbf96aa54c4da2aa5a0ae78906a18d": {
      "model_module": "@jupyter-widgets/controls",
      "model_module_version": "1.5.0",
      "model_name": "FloatProgressModel",
      "state": {
       "_dom_classes": [],
       "_model_module": "@jupyter-widgets/controls",
       "_model_module_version": "1.5.0",
       "_model_name": "FloatProgressModel",
       "_view_count": null,
       "_view_module": "@jupyter-widgets/controls",
       "_view_module_version": "1.5.0",
       "_view_name": "ProgressView",
       "bar_style": "success",
       "description": "",
       "description_tooltip": null,
       "layout": "IPY_MODEL_05c65af99cf04f209795d164159a0aae",
       "max": 7842.0,
       "min": 0.0,
       "orientation": "horizontal",
       "style": "IPY_MODEL_eae7ccf685e54c1bb8ca489e2bfd208c",
       "value": 7842.0
      }
     },
     "99ab43f1427548b190982af61272e9d2": {
      "model_module": "@jupyter-widgets/controls",
      "model_module_version": "1.5.0",
      "model_name": "HTMLModel",
      "state": {
       "_dom_classes": [],
       "_model_module": "@jupyter-widgets/controls",
       "_model_module_version": "1.5.0",
       "_model_name": "HTMLModel",
       "_view_count": null,
       "_view_module": "@jupyter-widgets/controls",
       "_view_module_version": "1.5.0",
       "_view_name": "HTMLView",
       "description": "",
       "description_tooltip": null,
       "layout": "IPY_MODEL_b049f645ca7540c697b249abb2a0f315",
       "placeholder": "​",
       "style": "IPY_MODEL_3a326d09531f41b29dde5969135d22c4",
       "value": "Adversarial training epochs: 100%"
      }
     },
     "99ba8836c00a4b679b8cfbb72a9a50ad": {
      "model_module": "@jupyter-widgets/controls",
      "model_module_version": "1.5.0",
      "model_name": "HTMLModel",
      "state": {
       "_dom_classes": [],
       "_model_module": "@jupyter-widgets/controls",
       "_model_module_version": "1.5.0",
       "_model_name": "HTMLModel",
       "_view_count": null,
       "_view_module": "@jupyter-widgets/controls",
       "_view_module_version": "1.5.0",
       "_view_name": "HTMLView",
       "description": "",
       "description_tooltip": null,
       "layout": "IPY_MODEL_ec6ba0be517146acabbf5614ad01e1eb",
       "placeholder": "​",
       "style": "IPY_MODEL_107594e1681d49ad9a496542876b04e9",
       "value": " 1/1 [00:00&lt;00:00, 31.64it/s]"
      }
     },
     "9accf54453db4a5abb25c848a5054eb2": {
      "model_module": "@jupyter-widgets/base",
      "model_module_version": "1.2.0",
      "model_name": "LayoutModel",
      "state": {
       "_model_module": "@jupyter-widgets/base",
       "_model_module_version": "1.2.0",
       "_model_name": "LayoutModel",
       "_view_count": null,
       "_view_module": "@jupyter-widgets/base",
       "_view_module_version": "1.2.0",
       "_view_name": "LayoutView",
       "align_content": null,
       "align_items": null,
       "align_self": null,
       "border": null,
       "bottom": null,
       "display": null,
       "flex": null,
       "flex_flow": null,
       "grid_area": null,
       "grid_auto_columns": null,
       "grid_auto_flow": null,
       "grid_auto_rows": null,
       "grid_column": null,
       "grid_gap": null,
       "grid_row": null,
       "grid_template_areas": null,
       "grid_template_columns": null,
       "grid_template_rows": null,
       "height": null,
       "justify_content": null,
       "justify_items": null,
       "left": null,
       "margin": null,
       "max_height": null,
       "max_width": null,
       "min_height": null,
       "min_width": null,
       "object_fit": null,
       "object_position": null,
       "order": null,
       "overflow": null,
       "overflow_x": null,
       "overflow_y": null,
       "padding": null,
       "right": null,
       "top": null,
       "visibility": null,
       "width": null
      }
     },
     "9ae9565928a44513a9cb10fbd6cc4ea1": {
      "model_module": "@jupyter-widgets/controls",
      "model_module_version": "1.5.0",
      "model_name": "HTMLModel",
      "state": {
       "_dom_classes": [],
       "_model_module": "@jupyter-widgets/controls",
       "_model_module_version": "1.5.0",
       "_model_name": "HTMLModel",
       "_view_count": null,
       "_view_module": "@jupyter-widgets/controls",
       "_view_module_version": "1.5.0",
       "_view_name": "HTMLView",
       "description": "",
       "description_tooltip": null,
       "layout": "IPY_MODEL_a6941550654a4996b4497e408692078e",
       "placeholder": "​",
       "style": "IPY_MODEL_85f4289cb5b94fdfb9de9451fa138495",
       "value": " 7842/7842 [42:50&lt;00:00,  3.59it/s]"
      }
     },
     "9c30fa4d619c4deebf163782f57f79d6": {
      "model_module": "@jupyter-widgets/controls",
      "model_module_version": "1.5.0",
      "model_name": "DescriptionStyleModel",
      "state": {
       "_model_module": "@jupyter-widgets/controls",
       "_model_module_version": "1.5.0",
       "_model_name": "DescriptionStyleModel",
       "_view_count": null,
       "_view_module": "@jupyter-widgets/base",
       "_view_module_version": "1.2.0",
       "_view_name": "StyleView",
       "description_width": ""
      }
     },
     "9dd0ac4b9d6a4ba7910a9601b690b056": {
      "model_module": "@jupyter-widgets/controls",
      "model_module_version": "1.5.0",
      "model_name": "FloatProgressModel",
      "state": {
       "_dom_classes": [],
       "_model_module": "@jupyter-widgets/controls",
       "_model_module_version": "1.5.0",
       "_model_name": "FloatProgressModel",
       "_view_count": null,
       "_view_module": "@jupyter-widgets/controls",
       "_view_module_version": "1.5.0",
       "_view_name": "ProgressView",
       "bar_style": "danger",
       "description": "",
       "description_tooltip": null,
       "layout": "IPY_MODEL_f4460704aea94ce3a5cb5acedf667985",
       "max": 15.0,
       "min": 0.0,
       "orientation": "horizontal",
       "style": "IPY_MODEL_7be4a901680b4cc8985ad2900ada3962",
       "value": 0.0
      }
     },
     "9e9d11140d9143e7823dad4b291b07c7": {
      "model_module": "@jupyter-widgets/controls",
      "model_module_version": "1.5.0",
      "model_name": "HTMLModel",
      "state": {
       "_dom_classes": [],
       "_model_module": "@jupyter-widgets/controls",
       "_model_module_version": "1.5.0",
       "_model_name": "HTMLModel",
       "_view_count": null,
       "_view_module": "@jupyter-widgets/controls",
       "_view_module_version": "1.5.0",
       "_view_name": "HTMLView",
       "description": "",
       "description_tooltip": null,
       "layout": "IPY_MODEL_4805969f8e0d4aeab6adc83ba64d6913",
       "placeholder": "​",
       "style": "IPY_MODEL_7f31f99f961c4f9a9e14264a410c8dbc",
       "value": "Precompute adv samples: 100%"
      }
     },
     "9f3cb1183bb4416189a828c3b4fc2a17": {
      "model_module": "@jupyter-widgets/controls",
      "model_module_version": "1.5.0",
      "model_name": "FloatProgressModel",
      "state": {
       "_dom_classes": [],
       "_model_module": "@jupyter-widgets/controls",
       "_model_module_version": "1.5.0",
       "_model_name": "FloatProgressModel",
       "_view_count": null,
       "_view_module": "@jupyter-widgets/controls",
       "_view_module_version": "1.5.0",
       "_view_name": "ProgressView",
       "bar_style": "success",
       "description": "",
       "description_tooltip": null,
       "layout": "IPY_MODEL_313e5b0c36f54adcbc885dc1e548694d",
       "max": 1.0,
       "min": 0.0,
       "orientation": "horizontal",
       "style": "IPY_MODEL_9165c74556e74bd08466143ffecb51a4",
       "value": 1.0
      }
     },
     "a3fa9a64464442c5a81af10801dad59d": {
      "model_module": "@jupyter-widgets/controls",
      "model_module_version": "1.5.0",
      "model_name": "DescriptionStyleModel",
      "state": {
       "_model_module": "@jupyter-widgets/controls",
       "_model_module_version": "1.5.0",
       "_model_name": "DescriptionStyleModel",
       "_view_count": null,
       "_view_module": "@jupyter-widgets/base",
       "_view_module_version": "1.2.0",
       "_view_name": "StyleView",
       "description_width": ""
      }
     },
     "a5b4dab5d2ce4c2e973b5dad93205df7": {
      "model_module": "@jupyter-widgets/controls",
      "model_module_version": "1.5.0",
      "model_name": "HTMLModel",
      "state": {
       "_dom_classes": [],
       "_model_module": "@jupyter-widgets/controls",
       "_model_module_version": "1.5.0",
       "_model_name": "HTMLModel",
       "_view_count": null,
       "_view_module": "@jupyter-widgets/controls",
       "_view_module_version": "1.5.0",
       "_view_name": "HTMLView",
       "description": "",
       "description_tooltip": null,
       "layout": "IPY_MODEL_82ba53c2b20744c5ad9cd8cc931530a7",
       "placeholder": "​",
       "style": "IPY_MODEL_c756142ff0c446249e13e1d457a7fc37",
       "value": "HopSkipJump: 100%"
      }
     },
     "a5b768ed1c0349e9b05889cd8bd819c2": {
      "model_module": "@jupyter-widgets/base",
      "model_module_version": "1.2.0",
      "model_name": "LayoutModel",
      "state": {
       "_model_module": "@jupyter-widgets/base",
       "_model_module_version": "1.2.0",
       "_model_name": "LayoutModel",
       "_view_count": null,
       "_view_module": "@jupyter-widgets/base",
       "_view_module_version": "1.2.0",
       "_view_name": "LayoutView",
       "align_content": null,
       "align_items": null,
       "align_self": null,
       "border": null,
       "bottom": null,
       "display": null,
       "flex": null,
       "flex_flow": null,
       "grid_area": null,
       "grid_auto_columns": null,
       "grid_auto_flow": null,
       "grid_auto_rows": null,
       "grid_column": null,
       "grid_gap": null,
       "grid_row": null,
       "grid_template_areas": null,
       "grid_template_columns": null,
       "grid_template_rows": null,
       "height": null,
       "justify_content": null,
       "justify_items": null,
       "left": null,
       "margin": null,
       "max_height": null,
       "max_width": null,
       "min_height": null,
       "min_width": null,
       "object_fit": null,
       "object_position": null,
       "order": null,
       "overflow": null,
       "overflow_x": null,
       "overflow_y": null,
       "padding": null,
       "right": null,
       "top": null,
       "visibility": null,
       "width": null
      }
     },
     "a6941550654a4996b4497e408692078e": {
      "model_module": "@jupyter-widgets/base",
      "model_module_version": "1.2.0",
      "model_name": "LayoutModel",
      "state": {
       "_model_module": "@jupyter-widgets/base",
       "_model_module_version": "1.2.0",
       "_model_name": "LayoutModel",
       "_view_count": null,
       "_view_module": "@jupyter-widgets/base",
       "_view_module_version": "1.2.0",
       "_view_name": "LayoutView",
       "align_content": null,
       "align_items": null,
       "align_self": null,
       "border": null,
       "bottom": null,
       "display": null,
       "flex": null,
       "flex_flow": null,
       "grid_area": null,
       "grid_auto_columns": null,
       "grid_auto_flow": null,
       "grid_auto_rows": null,
       "grid_column": null,
       "grid_gap": null,
       "grid_row": null,
       "grid_template_areas": null,
       "grid_template_columns": null,
       "grid_template_rows": null,
       "height": null,
       "justify_content": null,
       "justify_items": null,
       "left": null,
       "margin": null,
       "max_height": null,
       "max_width": null,
       "min_height": null,
       "min_width": null,
       "object_fit": null,
       "object_position": null,
       "order": null,
       "overflow": null,
       "overflow_x": null,
       "overflow_y": null,
       "padding": null,
       "right": null,
       "top": null,
       "visibility": null,
       "width": null
      }
     },
     "a8b93617fd484df3aa94673fad8e6ef2": {
      "model_module": "@jupyter-widgets/base",
      "model_module_version": "1.2.0",
      "model_name": "LayoutModel",
      "state": {
       "_model_module": "@jupyter-widgets/base",
       "_model_module_version": "1.2.0",
       "_model_name": "LayoutModel",
       "_view_count": null,
       "_view_module": "@jupyter-widgets/base",
       "_view_module_version": "1.2.0",
       "_view_name": "LayoutView",
       "align_content": null,
       "align_items": null,
       "align_self": null,
       "border": null,
       "bottom": null,
       "display": null,
       "flex": null,
       "flex_flow": null,
       "grid_area": null,
       "grid_auto_columns": null,
       "grid_auto_flow": null,
       "grid_auto_rows": null,
       "grid_column": null,
       "grid_gap": null,
       "grid_row": null,
       "grid_template_areas": null,
       "grid_template_columns": null,
       "grid_template_rows": null,
       "height": null,
       "justify_content": null,
       "justify_items": null,
       "left": null,
       "margin": null,
       "max_height": null,
       "max_width": null,
       "min_height": null,
       "min_width": null,
       "object_fit": null,
       "object_position": null,
       "order": null,
       "overflow": null,
       "overflow_x": null,
       "overflow_y": null,
       "padding": null,
       "right": null,
       "top": null,
       "visibility": null,
       "width": null
      }
     },
     "ac55ec2c903e4bdb9693a7dd10b23076": {
      "model_module": "@jupyter-widgets/controls",
      "model_module_version": "1.5.0",
      "model_name": "DescriptionStyleModel",
      "state": {
       "_model_module": "@jupyter-widgets/controls",
       "_model_module_version": "1.5.0",
       "_model_name": "DescriptionStyleModel",
       "_view_count": null,
       "_view_module": "@jupyter-widgets/base",
       "_view_module_version": "1.2.0",
       "_view_name": "StyleView",
       "description_width": ""
      }
     },
     "ad4230c2b4b441c0b8871004b6d5a660": {
      "model_module": "@jupyter-widgets/controls",
      "model_module_version": "1.5.0",
      "model_name": "HTMLModel",
      "state": {
       "_dom_classes": [],
       "_model_module": "@jupyter-widgets/controls",
       "_model_module_version": "1.5.0",
       "_model_name": "HTMLModel",
       "_view_count": null,
       "_view_module": "@jupyter-widgets/controls",
       "_view_module_version": "1.5.0",
       "_view_name": "HTMLView",
       "description": "",
       "description_tooltip": null,
       "layout": "IPY_MODEL_658486f07b3c48c292bd824d6919e437",
       "placeholder": "​",
       "style": "IPY_MODEL_ac55ec2c903e4bdb9693a7dd10b23076",
       "value": " 15/15 [00:25&lt;00:00,  1.72s/it]"
      }
     },
     "ae9c2dc16eaa426fa0f76260adcd0539": {
      "model_module": "@jupyter-widgets/controls",
      "model_module_version": "1.5.0",
      "model_name": "ProgressStyleModel",
      "state": {
       "_model_module": "@jupyter-widgets/controls",
       "_model_module_version": "1.5.0",
       "_model_name": "ProgressStyleModel",
       "_view_count": null,
       "_view_module": "@jupyter-widgets/base",
       "_view_module_version": "1.2.0",
       "_view_name": "StyleView",
       "bar_color": null,
       "description_width": ""
      }
     },
     "b049f645ca7540c697b249abb2a0f315": {
      "model_module": "@jupyter-widgets/base",
      "model_module_version": "1.2.0",
      "model_name": "LayoutModel",
      "state": {
       "_model_module": "@jupyter-widgets/base",
       "_model_module_version": "1.2.0",
       "_model_name": "LayoutModel",
       "_view_count": null,
       "_view_module": "@jupyter-widgets/base",
       "_view_module_version": "1.2.0",
       "_view_name": "LayoutView",
       "align_content": null,
       "align_items": null,
       "align_self": null,
       "border": null,
       "bottom": null,
       "display": null,
       "flex": null,
       "flex_flow": null,
       "grid_area": null,
       "grid_auto_columns": null,
       "grid_auto_flow": null,
       "grid_auto_rows": null,
       "grid_column": null,
       "grid_gap": null,
       "grid_row": null,
       "grid_template_areas": null,
       "grid_template_columns": null,
       "grid_template_rows": null,
       "height": null,
       "justify_content": null,
       "justify_items": null,
       "left": null,
       "margin": null,
       "max_height": null,
       "max_width": null,
       "min_height": null,
       "min_width": null,
       "object_fit": null,
       "object_position": null,
       "order": null,
       "overflow": null,
       "overflow_x": null,
       "overflow_y": null,
       "padding": null,
       "right": null,
       "top": null,
       "visibility": null,
       "width": null
      }
     },
     "b7ff25205cbc406493c3dba84613a6a4": {
      "model_module": "@jupyter-widgets/controls",
      "model_module_version": "1.5.0",
      "model_name": "HTMLModel",
      "state": {
       "_dom_classes": [],
       "_model_module": "@jupyter-widgets/controls",
       "_model_module_version": "1.5.0",
       "_model_name": "HTMLModel",
       "_view_count": null,
       "_view_module": "@jupyter-widgets/controls",
       "_view_module_version": "1.5.0",
       "_view_name": "HTMLView",
       "description": "",
       "description_tooltip": null,
       "layout": "IPY_MODEL_693fa587247045afbc9cede34783768f",
       "placeholder": "​",
       "style": "IPY_MODEL_93bb57f63ab24375b887300f8c7407d7",
       "value": "DeepFool: 100%"
      }
     },
     "bfdf79d1abe347c5bf39ae1849accf02": {
      "model_module": "@jupyter-widgets/controls",
      "model_module_version": "1.5.0",
      "model_name": "HTMLModel",
      "state": {
       "_dom_classes": [],
       "_model_module": "@jupyter-widgets/controls",
       "_model_module_version": "1.5.0",
       "_model_name": "HTMLModel",
       "_view_count": null,
       "_view_module": "@jupyter-widgets/controls",
       "_view_module_version": "1.5.0",
       "_view_name": "HTMLView",
       "description": "",
       "description_tooltip": null,
       "layout": "IPY_MODEL_f2572cbce78f49b492a8a46664dca8e1",
       "placeholder": "​",
       "style": "IPY_MODEL_2ed833f73bbd4510997907dc20b3979a",
       "value": "Precompute adv samples: 100%"
      }
     },
     "c37b3a907b1743c4a7b2becb4e62ad50": {
      "model_module": "@jupyter-widgets/controls",
      "model_module_version": "1.5.0",
      "model_name": "FloatProgressModel",
      "state": {
       "_dom_classes": [],
       "_model_module": "@jupyter-widgets/controls",
       "_model_module_version": "1.5.0",
       "_model_name": "FloatProgressModel",
       "_view_count": null,
       "_view_module": "@jupyter-widgets/controls",
       "_view_module_version": "1.5.0",
       "_view_name": "ProgressView",
       "bar_style": "success",
       "description": "",
       "description_tooltip": null,
       "layout": "IPY_MODEL_f3bb2b2817c44651a60b415ac456c15f",
       "max": 7842.0,
       "min": 0.0,
       "orientation": "horizontal",
       "style": "IPY_MODEL_ae9c2dc16eaa426fa0f76260adcd0539",
       "value": 7842.0
      }
     },
     "c756142ff0c446249e13e1d457a7fc37": {
      "model_module": "@jupyter-widgets/controls",
      "model_module_version": "1.5.0",
      "model_name": "DescriptionStyleModel",
      "state": {
       "_model_module": "@jupyter-widgets/controls",
       "_model_module_version": "1.5.0",
       "_model_name": "DescriptionStyleModel",
       "_view_count": null,
       "_view_module": "@jupyter-widgets/base",
       "_view_module_version": "1.2.0",
       "_view_name": "StyleView",
       "description_width": ""
      }
     },
     "c8e0ba7252d849968a41dd42b1e69133": {
      "model_module": "@jupyter-widgets/controls",
      "model_module_version": "1.5.0",
      "model_name": "HBoxModel",
      "state": {
       "_dom_classes": [],
       "_model_module": "@jupyter-widgets/controls",
       "_model_module_version": "1.5.0",
       "_model_name": "HBoxModel",
       "_view_count": null,
       "_view_module": "@jupyter-widgets/controls",
       "_view_module_version": "1.5.0",
       "_view_name": "HBoxView",
       "box_style": "",
       "children": [
        "IPY_MODEL_99ab43f1427548b190982af61272e9d2",
        "IPY_MODEL_4bff5f837b354ffe8d896bf4d97c7625",
        "IPY_MODEL_ad4230c2b4b441c0b8871004b6d5a660"
       ],
       "layout": "IPY_MODEL_f6097e9a43f44343992729a831c35792"
      }
     },
     "ca4c365e62314c7684dc8549b1001dc3": {
      "model_module": "@jupyter-widgets/controls",
      "model_module_version": "1.5.0",
      "model_name": "HBoxModel",
      "state": {
       "_dom_classes": [],
       "_model_module": "@jupyter-widgets/controls",
       "_model_module_version": "1.5.0",
       "_model_name": "HBoxModel",
       "_view_count": null,
       "_view_module": "@jupyter-widgets/controls",
       "_view_module_version": "1.5.0",
       "_view_name": "HBoxView",
       "box_style": "",
       "children": [
        "IPY_MODEL_2538e327c2284f30a30bd5cb8fb4055e",
        "IPY_MODEL_269c94b0b8c54380805c29b76f654099",
        "IPY_MODEL_91e407afc4a24f62ba5552938824f6b4"
       ],
       "layout": "IPY_MODEL_ec66e9d94be84ce08236fb565e448dd2"
      }
     },
     "cc7eb612286b450ca0e86d344ff7dd42": {
      "model_module": "@jupyter-widgets/controls",
      "model_module_version": "1.5.0",
      "model_name": "HBoxModel",
      "state": {
       "_dom_classes": [],
       "_model_module": "@jupyter-widgets/controls",
       "_model_module_version": "1.5.0",
       "_model_name": "HBoxModel",
       "_view_count": null,
       "_view_module": "@jupyter-widgets/controls",
       "_view_module_version": "1.5.0",
       "_view_name": "HBoxView",
       "box_style": "",
       "children": [
        "IPY_MODEL_50742bdbd6884115a69378f86490dff5",
        "IPY_MODEL_f9eec547f6564e2b97e915ded24745ff",
        "IPY_MODEL_cf8de2073a22448eb5bd2bf2dd0372be"
       ],
       "layout": "IPY_MODEL_85abad87018c44c694f82a5e3c5a6203"
      }
     },
     "cf8de2073a22448eb5bd2bf2dd0372be": {
      "model_module": "@jupyter-widgets/controls",
      "model_module_version": "1.5.0",
      "model_name": "HTMLModel",
      "state": {
       "_dom_classes": [],
       "_model_module": "@jupyter-widgets/controls",
       "_model_module_version": "1.5.0",
       "_model_name": "HTMLModel",
       "_view_count": null,
       "_view_module": "@jupyter-widgets/controls",
       "_view_module_version": "1.5.0",
       "_view_name": "HTMLView",
       "description": "",
       "description_tooltip": null,
       "layout": "IPY_MODEL_8fc3eb49736c4906b069e4b6b68d8a83",
       "placeholder": "​",
       "style": "IPY_MODEL_d90723871a9d4be098ecc493a8e036f0",
       "value": " 15/15 [36:00&lt;00:00, 144.28s/it]"
      }
     },
     "d1fb4628c572432683e4a0c403270d83": {
      "model_module": "@jupyter-widgets/base",
      "model_module_version": "1.2.0",
      "model_name": "LayoutModel",
      "state": {
       "_model_module": "@jupyter-widgets/base",
       "_model_module_version": "1.2.0",
       "_model_name": "LayoutModel",
       "_view_count": null,
       "_view_module": "@jupyter-widgets/base",
       "_view_module_version": "1.2.0",
       "_view_name": "LayoutView",
       "align_content": null,
       "align_items": null,
       "align_self": null,
       "border": null,
       "bottom": null,
       "display": null,
       "flex": null,
       "flex_flow": null,
       "grid_area": null,
       "grid_auto_columns": null,
       "grid_auto_flow": null,
       "grid_auto_rows": null,
       "grid_column": null,
       "grid_gap": null,
       "grid_row": null,
       "grid_template_areas": null,
       "grid_template_columns": null,
       "grid_template_rows": null,
       "height": null,
       "justify_content": null,
       "justify_items": null,
       "left": null,
       "margin": null,
       "max_height": null,
       "max_width": null,
       "min_height": null,
       "min_width": null,
       "object_fit": null,
       "object_position": null,
       "order": null,
       "overflow": null,
       "overflow_x": null,
       "overflow_y": null,
       "padding": null,
       "right": null,
       "top": null,
       "visibility": null,
       "width": null
      }
     },
     "d2ae88f419b14f21942a6636e77afe6b": {
      "model_module": "@jupyter-widgets/controls",
      "model_module_version": "1.5.0",
      "model_name": "DescriptionStyleModel",
      "state": {
       "_model_module": "@jupyter-widgets/controls",
       "_model_module_version": "1.5.0",
       "_model_name": "DescriptionStyleModel",
       "_view_count": null,
       "_view_module": "@jupyter-widgets/base",
       "_view_module_version": "1.2.0",
       "_view_name": "StyleView",
       "description_width": ""
      }
     },
     "d53bb991672846e3ad687ea415d09f3c": {
      "model_module": "@jupyter-widgets/controls",
      "model_module_version": "1.5.0",
      "model_name": "HTMLModel",
      "state": {
       "_dom_classes": [],
       "_model_module": "@jupyter-widgets/controls",
       "_model_module_version": "1.5.0",
       "_model_name": "HTMLModel",
       "_view_count": null,
       "_view_module": "@jupyter-widgets/controls",
       "_view_module_version": "1.5.0",
       "_view_name": "HTMLView",
       "description": "",
       "description_tooltip": null,
       "layout": "IPY_MODEL_2d2c0b6bfc6c4c21aa7099c7b46edc61",
       "placeholder": "​",
       "style": "IPY_MODEL_3210e4366ca24d9f835c222c43125c14",
       "value": " 1/1 [00:00&lt;00:00, 35.00it/s]"
      }
     },
     "d66402ef6add4061a24170662222a509": {
      "model_module": "@jupyter-widgets/base",
      "model_module_version": "1.2.0",
      "model_name": "LayoutModel",
      "state": {
       "_model_module": "@jupyter-widgets/base",
       "_model_module_version": "1.2.0",
       "_model_name": "LayoutModel",
       "_view_count": null,
       "_view_module": "@jupyter-widgets/base",
       "_view_module_version": "1.2.0",
       "_view_name": "LayoutView",
       "align_content": null,
       "align_items": null,
       "align_self": null,
       "border": null,
       "bottom": null,
       "display": null,
       "flex": null,
       "flex_flow": null,
       "grid_area": null,
       "grid_auto_columns": null,
       "grid_auto_flow": null,
       "grid_auto_rows": null,
       "grid_column": null,
       "grid_gap": null,
       "grid_row": null,
       "grid_template_areas": null,
       "grid_template_columns": null,
       "grid_template_rows": null,
       "height": null,
       "justify_content": null,
       "justify_items": null,
       "left": null,
       "margin": null,
       "max_height": null,
       "max_width": null,
       "min_height": null,
       "min_width": null,
       "object_fit": null,
       "object_position": null,
       "order": null,
       "overflow": null,
       "overflow_x": null,
       "overflow_y": null,
       "padding": null,
       "right": null,
       "top": null,
       "visibility": null,
       "width": null
      }
     },
     "d79017182d1f4ddd9bd76ef1750db968": {
      "model_module": "@jupyter-widgets/base",
      "model_module_version": "1.2.0",
      "model_name": "LayoutModel",
      "state": {
       "_model_module": "@jupyter-widgets/base",
       "_model_module_version": "1.2.0",
       "_model_name": "LayoutModel",
       "_view_count": null,
       "_view_module": "@jupyter-widgets/base",
       "_view_module_version": "1.2.0",
       "_view_name": "LayoutView",
       "align_content": null,
       "align_items": null,
       "align_self": null,
       "border": null,
       "bottom": null,
       "display": null,
       "flex": null,
       "flex_flow": null,
       "grid_area": null,
       "grid_auto_columns": null,
       "grid_auto_flow": null,
       "grid_auto_rows": null,
       "grid_column": null,
       "grid_gap": null,
       "grid_row": null,
       "grid_template_areas": null,
       "grid_template_columns": null,
       "grid_template_rows": null,
       "height": null,
       "justify_content": null,
       "justify_items": null,
       "left": null,
       "margin": null,
       "max_height": null,
       "max_width": null,
       "min_height": null,
       "min_width": null,
       "object_fit": null,
       "object_position": null,
       "order": null,
       "overflow": null,
       "overflow_x": null,
       "overflow_y": null,
       "padding": null,
       "right": null,
       "top": null,
       "visibility": null,
       "width": null
      }
     },
     "d7c922dd827a4a86a6b98c3b2330205b": {
      "model_module": "@jupyter-widgets/controls",
      "model_module_version": "1.5.0",
      "model_name": "DescriptionStyleModel",
      "state": {
       "_model_module": "@jupyter-widgets/controls",
       "_model_module_version": "1.5.0",
       "_model_name": "DescriptionStyleModel",
       "_view_count": null,
       "_view_module": "@jupyter-widgets/base",
       "_view_module_version": "1.2.0",
       "_view_name": "StyleView",
       "description_width": ""
      }
     },
     "d856f4d3a8844548bfb95ce688847cf2": {
      "model_module": "@jupyter-widgets/controls",
      "model_module_version": "1.5.0",
      "model_name": "DescriptionStyleModel",
      "state": {
       "_model_module": "@jupyter-widgets/controls",
       "_model_module_version": "1.5.0",
       "_model_name": "DescriptionStyleModel",
       "_view_count": null,
       "_view_module": "@jupyter-widgets/base",
       "_view_module_version": "1.2.0",
       "_view_name": "StyleView",
       "description_width": ""
      }
     },
     "d90723871a9d4be098ecc493a8e036f0": {
      "model_module": "@jupyter-widgets/controls",
      "model_module_version": "1.5.0",
      "model_name": "DescriptionStyleModel",
      "state": {
       "_model_module": "@jupyter-widgets/controls",
       "_model_module_version": "1.5.0",
       "_model_name": "DescriptionStyleModel",
       "_view_count": null,
       "_view_module": "@jupyter-widgets/base",
       "_view_module_version": "1.2.0",
       "_view_name": "StyleView",
       "description_width": ""
      }
     },
     "dd40e088993445dc9f8b2f92519c2b69": {
      "model_module": "@jupyter-widgets/controls",
      "model_module_version": "1.5.0",
      "model_name": "ProgressStyleModel",
      "state": {
       "_model_module": "@jupyter-widgets/controls",
       "_model_module_version": "1.5.0",
       "_model_name": "ProgressStyleModel",
       "_view_count": null,
       "_view_module": "@jupyter-widgets/base",
       "_view_module_version": "1.2.0",
       "_view_name": "StyleView",
       "bar_color": null,
       "description_width": ""
      }
     },
     "de16f24e72694bc485ff158224ca5b86": {
      "model_module": "@jupyter-widgets/controls",
      "model_module_version": "1.5.0",
      "model_name": "FloatProgressModel",
      "state": {
       "_dom_classes": [],
       "_model_module": "@jupyter-widgets/controls",
       "_model_module_version": "1.5.0",
       "_model_name": "FloatProgressModel",
       "_view_count": null,
       "_view_module": "@jupyter-widgets/controls",
       "_view_module_version": "1.5.0",
       "_view_name": "ProgressView",
       "bar_style": "success",
       "description": "",
       "description_tooltip": null,
       "layout": "IPY_MODEL_63c9584fa2994a3d922ee1b143db0a99",
       "max": 1.0,
       "min": 0.0,
       "orientation": "horizontal",
       "style": "IPY_MODEL_fb11eb417b244a93906b24ec4d20524b",
       "value": 1.0
      }
     },
     "e2edaaea1e5b4fc6bbe5c771b6900356": {
      "model_module": "@jupyter-widgets/controls",
      "model_module_version": "1.5.0",
      "model_name": "FloatProgressModel",
      "state": {
       "_dom_classes": [],
       "_model_module": "@jupyter-widgets/controls",
       "_model_module_version": "1.5.0",
       "_model_name": "FloatProgressModel",
       "_view_count": null,
       "_view_module": "@jupyter-widgets/controls",
       "_view_module_version": "1.5.0",
       "_view_name": "ProgressView",
       "bar_style": "success",
       "description": "",
       "description_tooltip": null,
       "layout": "IPY_MODEL_a8b93617fd484df3aa94673fad8e6ef2",
       "max": 1.0,
       "min": 0.0,
       "orientation": "horizontal",
       "style": "IPY_MODEL_64a4d10dcd5f4161ac3cd81d4f40500f",
       "value": 1.0
      }
     },
     "e686976ebec3429ca7501f7303b22995": {
      "model_module": "@jupyter-widgets/controls",
      "model_module_version": "1.5.0",
      "model_name": "ProgressStyleModel",
      "state": {
       "_model_module": "@jupyter-widgets/controls",
       "_model_module_version": "1.5.0",
       "_model_name": "ProgressStyleModel",
       "_view_count": null,
       "_view_module": "@jupyter-widgets/base",
       "_view_module_version": "1.2.0",
       "_view_name": "StyleView",
       "bar_color": null,
       "description_width": ""
      }
     },
     "eae7ccf685e54c1bb8ca489e2bfd208c": {
      "model_module": "@jupyter-widgets/controls",
      "model_module_version": "1.5.0",
      "model_name": "ProgressStyleModel",
      "state": {
       "_model_module": "@jupyter-widgets/controls",
       "_model_module_version": "1.5.0",
       "_model_name": "ProgressStyleModel",
       "_view_count": null,
       "_view_module": "@jupyter-widgets/base",
       "_view_module_version": "1.2.0",
       "_view_name": "StyleView",
       "bar_color": null,
       "description_width": ""
      }
     },
     "ec66e9d94be84ce08236fb565e448dd2": {
      "model_module": "@jupyter-widgets/base",
      "model_module_version": "1.2.0",
      "model_name": "LayoutModel",
      "state": {
       "_model_module": "@jupyter-widgets/base",
       "_model_module_version": "1.2.0",
       "_model_name": "LayoutModel",
       "_view_count": null,
       "_view_module": "@jupyter-widgets/base",
       "_view_module_version": "1.2.0",
       "_view_name": "LayoutView",
       "align_content": null,
       "align_items": null,
       "align_self": null,
       "border": null,
       "bottom": null,
       "display": null,
       "flex": null,
       "flex_flow": null,
       "grid_area": null,
       "grid_auto_columns": null,
       "grid_auto_flow": null,
       "grid_auto_rows": null,
       "grid_column": null,
       "grid_gap": null,
       "grid_row": null,
       "grid_template_areas": null,
       "grid_template_columns": null,
       "grid_template_rows": null,
       "height": null,
       "justify_content": null,
       "justify_items": null,
       "left": null,
       "margin": null,
       "max_height": null,
       "max_width": null,
       "min_height": null,
       "min_width": null,
       "object_fit": null,
       "object_position": null,
       "order": null,
       "overflow": null,
       "overflow_x": null,
       "overflow_y": null,
       "padding": null,
       "right": null,
       "top": null,
       "visibility": null,
       "width": null
      }
     },
     "ec6ba0be517146acabbf5614ad01e1eb": {
      "model_module": "@jupyter-widgets/base",
      "model_module_version": "1.2.0",
      "model_name": "LayoutModel",
      "state": {
       "_model_module": "@jupyter-widgets/base",
       "_model_module_version": "1.2.0",
       "_model_name": "LayoutModel",
       "_view_count": null,
       "_view_module": "@jupyter-widgets/base",
       "_view_module_version": "1.2.0",
       "_view_name": "LayoutView",
       "align_content": null,
       "align_items": null,
       "align_self": null,
       "border": null,
       "bottom": null,
       "display": null,
       "flex": null,
       "flex_flow": null,
       "grid_area": null,
       "grid_auto_columns": null,
       "grid_auto_flow": null,
       "grid_auto_rows": null,
       "grid_column": null,
       "grid_gap": null,
       "grid_row": null,
       "grid_template_areas": null,
       "grid_template_columns": null,
       "grid_template_rows": null,
       "height": null,
       "justify_content": null,
       "justify_items": null,
       "left": null,
       "margin": null,
       "max_height": null,
       "max_width": null,
       "min_height": null,
       "min_width": null,
       "object_fit": null,
       "object_position": null,
       "order": null,
       "overflow": null,
       "overflow_x": null,
       "overflow_y": null,
       "padding": null,
       "right": null,
       "top": null,
       "visibility": null,
       "width": null
      }
     },
     "ecfd60e4361145a984a8fd088ea9cbf3": {
      "model_module": "@jupyter-widgets/base",
      "model_module_version": "1.2.0",
      "model_name": "LayoutModel",
      "state": {
       "_model_module": "@jupyter-widgets/base",
       "_model_module_version": "1.2.0",
       "_model_name": "LayoutModel",
       "_view_count": null,
       "_view_module": "@jupyter-widgets/base",
       "_view_module_version": "1.2.0",
       "_view_name": "LayoutView",
       "align_content": null,
       "align_items": null,
       "align_self": null,
       "border": null,
       "bottom": null,
       "display": null,
       "flex": null,
       "flex_flow": null,
       "grid_area": null,
       "grid_auto_columns": null,
       "grid_auto_flow": null,
       "grid_auto_rows": null,
       "grid_column": null,
       "grid_gap": null,
       "grid_row": null,
       "grid_template_areas": null,
       "grid_template_columns": null,
       "grid_template_rows": null,
       "height": null,
       "justify_content": null,
       "justify_items": null,
       "left": null,
       "margin": null,
       "max_height": null,
       "max_width": null,
       "min_height": null,
       "min_width": null,
       "object_fit": null,
       "object_position": null,
       "order": null,
       "overflow": null,
       "overflow_x": null,
       "overflow_y": null,
       "padding": null,
       "right": null,
       "top": null,
       "visibility": null,
       "width": null
      }
     },
     "ef1a9b347da84aa1b3701e42db9e2cee": {
      "model_module": "@jupyter-widgets/controls",
      "model_module_version": "1.5.0",
      "model_name": "FloatProgressModel",
      "state": {
       "_dom_classes": [],
       "_model_module": "@jupyter-widgets/controls",
       "_model_module_version": "1.5.0",
       "_model_name": "FloatProgressModel",
       "_view_count": null,
       "_view_module": "@jupyter-widgets/controls",
       "_view_module_version": "1.5.0",
       "_view_name": "ProgressView",
       "bar_style": "success",
       "description": "",
       "description_tooltip": null,
       "layout": "IPY_MODEL_d79017182d1f4ddd9bd76ef1750db968",
       "max": 15.0,
       "min": 0.0,
       "orientation": "horizontal",
       "style": "IPY_MODEL_dd40e088993445dc9f8b2f92519c2b69",
       "value": 15.0
      }
     },
     "ef8b07e42a7f42d4a39ad6698159f352": {
      "model_module": "@jupyter-widgets/base",
      "model_module_version": "1.2.0",
      "model_name": "LayoutModel",
      "state": {
       "_model_module": "@jupyter-widgets/base",
       "_model_module_version": "1.2.0",
       "_model_name": "LayoutModel",
       "_view_count": null,
       "_view_module": "@jupyter-widgets/base",
       "_view_module_version": "1.2.0",
       "_view_name": "LayoutView",
       "align_content": null,
       "align_items": null,
       "align_self": null,
       "border": null,
       "bottom": null,
       "display": null,
       "flex": null,
       "flex_flow": null,
       "grid_area": null,
       "grid_auto_columns": null,
       "grid_auto_flow": null,
       "grid_auto_rows": null,
       "grid_column": null,
       "grid_gap": null,
       "grid_row": null,
       "grid_template_areas": null,
       "grid_template_columns": null,
       "grid_template_rows": null,
       "height": null,
       "justify_content": null,
       "justify_items": null,
       "left": null,
       "margin": null,
       "max_height": null,
       "max_width": null,
       "min_height": null,
       "min_width": null,
       "object_fit": null,
       "object_position": null,
       "order": null,
       "overflow": null,
       "overflow_x": null,
       "overflow_y": null,
       "padding": null,
       "right": null,
       "top": null,
       "visibility": null,
       "width": null
      }
     },
     "f2572cbce78f49b492a8a46664dca8e1": {
      "model_module": "@jupyter-widgets/base",
      "model_module_version": "1.2.0",
      "model_name": "LayoutModel",
      "state": {
       "_model_module": "@jupyter-widgets/base",
       "_model_module_version": "1.2.0",
       "_model_name": "LayoutModel",
       "_view_count": null,
       "_view_module": "@jupyter-widgets/base",
       "_view_module_version": "1.2.0",
       "_view_name": "LayoutView",
       "align_content": null,
       "align_items": null,
       "align_self": null,
       "border": null,
       "bottom": null,
       "display": null,
       "flex": null,
       "flex_flow": null,
       "grid_area": null,
       "grid_auto_columns": null,
       "grid_auto_flow": null,
       "grid_auto_rows": null,
       "grid_column": null,
       "grid_gap": null,
       "grid_row": null,
       "grid_template_areas": null,
       "grid_template_columns": null,
       "grid_template_rows": null,
       "height": null,
       "justify_content": null,
       "justify_items": null,
       "left": null,
       "margin": null,
       "max_height": null,
       "max_width": null,
       "min_height": null,
       "min_width": null,
       "object_fit": null,
       "object_position": null,
       "order": null,
       "overflow": null,
       "overflow_x": null,
       "overflow_y": null,
       "padding": null,
       "right": null,
       "top": null,
       "visibility": null,
       "width": null
      }
     },
     "f3bb2b2817c44651a60b415ac456c15f": {
      "model_module": "@jupyter-widgets/base",
      "model_module_version": "1.2.0",
      "model_name": "LayoutModel",
      "state": {
       "_model_module": "@jupyter-widgets/base",
       "_model_module_version": "1.2.0",
       "_model_name": "LayoutModel",
       "_view_count": null,
       "_view_module": "@jupyter-widgets/base",
       "_view_module_version": "1.2.0",
       "_view_name": "LayoutView",
       "align_content": null,
       "align_items": null,
       "align_self": null,
       "border": null,
       "bottom": null,
       "display": null,
       "flex": null,
       "flex_flow": null,
       "grid_area": null,
       "grid_auto_columns": null,
       "grid_auto_flow": null,
       "grid_auto_rows": null,
       "grid_column": null,
       "grid_gap": null,
       "grid_row": null,
       "grid_template_areas": null,
       "grid_template_columns": null,
       "grid_template_rows": null,
       "height": null,
       "justify_content": null,
       "justify_items": null,
       "left": null,
       "margin": null,
       "max_height": null,
       "max_width": null,
       "min_height": null,
       "min_width": null,
       "object_fit": null,
       "object_position": null,
       "order": null,
       "overflow": null,
       "overflow_x": null,
       "overflow_y": null,
       "padding": null,
       "right": null,
       "top": null,
       "visibility": null,
       "width": null
      }
     },
     "f4460704aea94ce3a5cb5acedf667985": {
      "model_module": "@jupyter-widgets/base",
      "model_module_version": "1.2.0",
      "model_name": "LayoutModel",
      "state": {
       "_model_module": "@jupyter-widgets/base",
       "_model_module_version": "1.2.0",
       "_model_name": "LayoutModel",
       "_view_count": null,
       "_view_module": "@jupyter-widgets/base",
       "_view_module_version": "1.2.0",
       "_view_name": "LayoutView",
       "align_content": null,
       "align_items": null,
       "align_self": null,
       "border": null,
       "bottom": null,
       "display": null,
       "flex": null,
       "flex_flow": null,
       "grid_area": null,
       "grid_auto_columns": null,
       "grid_auto_flow": null,
       "grid_auto_rows": null,
       "grid_column": null,
       "grid_gap": null,
       "grid_row": null,
       "grid_template_areas": null,
       "grid_template_columns": null,
       "grid_template_rows": null,
       "height": null,
       "justify_content": null,
       "justify_items": null,
       "left": null,
       "margin": null,
       "max_height": null,
       "max_width": null,
       "min_height": null,
       "min_width": null,
       "object_fit": null,
       "object_position": null,
       "order": null,
       "overflow": null,
       "overflow_x": null,
       "overflow_y": null,
       "padding": null,
       "right": null,
       "top": null,
       "visibility": null,
       "width": null
      }
     },
     "f493ee66745649ae983cc4084432999b": {
      "model_module": "@jupyter-widgets/base",
      "model_module_version": "1.2.0",
      "model_name": "LayoutModel",
      "state": {
       "_model_module": "@jupyter-widgets/base",
       "_model_module_version": "1.2.0",
       "_model_name": "LayoutModel",
       "_view_count": null,
       "_view_module": "@jupyter-widgets/base",
       "_view_module_version": "1.2.0",
       "_view_name": "LayoutView",
       "align_content": null,
       "align_items": null,
       "align_self": null,
       "border": null,
       "bottom": null,
       "display": null,
       "flex": null,
       "flex_flow": null,
       "grid_area": null,
       "grid_auto_columns": null,
       "grid_auto_flow": null,
       "grid_auto_rows": null,
       "grid_column": null,
       "grid_gap": null,
       "grid_row": null,
       "grid_template_areas": null,
       "grid_template_columns": null,
       "grid_template_rows": null,
       "height": null,
       "justify_content": null,
       "justify_items": null,
       "left": null,
       "margin": null,
       "max_height": null,
       "max_width": null,
       "min_height": null,
       "min_width": null,
       "object_fit": null,
       "object_position": null,
       "order": null,
       "overflow": null,
       "overflow_x": null,
       "overflow_y": null,
       "padding": null,
       "right": null,
       "top": null,
       "visibility": null,
       "width": null
      }
     },
     "f6097e9a43f44343992729a831c35792": {
      "model_module": "@jupyter-widgets/base",
      "model_module_version": "1.2.0",
      "model_name": "LayoutModel",
      "state": {
       "_model_module": "@jupyter-widgets/base",
       "_model_module_version": "1.2.0",
       "_model_name": "LayoutModel",
       "_view_count": null,
       "_view_module": "@jupyter-widgets/base",
       "_view_module_version": "1.2.0",
       "_view_name": "LayoutView",
       "align_content": null,
       "align_items": null,
       "align_self": null,
       "border": null,
       "bottom": null,
       "display": null,
       "flex": null,
       "flex_flow": null,
       "grid_area": null,
       "grid_auto_columns": null,
       "grid_auto_flow": null,
       "grid_auto_rows": null,
       "grid_column": null,
       "grid_gap": null,
       "grid_row": null,
       "grid_template_areas": null,
       "grid_template_columns": null,
       "grid_template_rows": null,
       "height": null,
       "justify_content": null,
       "justify_items": null,
       "left": null,
       "margin": null,
       "max_height": null,
       "max_width": null,
       "min_height": null,
       "min_width": null,
       "object_fit": null,
       "object_position": null,
       "order": null,
       "overflow": null,
       "overflow_x": null,
       "overflow_y": null,
       "padding": null,
       "right": null,
       "top": null,
       "visibility": null,
       "width": null
      }
     },
     "f9ca69cbf90e4ba28789c95b5fa561bc": {
      "model_module": "@jupyter-widgets/controls",
      "model_module_version": "1.5.0",
      "model_name": "DescriptionStyleModel",
      "state": {
       "_model_module": "@jupyter-widgets/controls",
       "_model_module_version": "1.5.0",
       "_model_name": "DescriptionStyleModel",
       "_view_count": null,
       "_view_module": "@jupyter-widgets/base",
       "_view_module_version": "1.2.0",
       "_view_name": "StyleView",
       "description_width": ""
      }
     },
     "f9eec547f6564e2b97e915ded24745ff": {
      "model_module": "@jupyter-widgets/controls",
      "model_module_version": "1.5.0",
      "model_name": "FloatProgressModel",
      "state": {
       "_dom_classes": [],
       "_model_module": "@jupyter-widgets/controls",
       "_model_module_version": "1.5.0",
       "_model_name": "FloatProgressModel",
       "_view_count": null,
       "_view_module": "@jupyter-widgets/controls",
       "_view_module_version": "1.5.0",
       "_view_name": "ProgressView",
       "bar_style": "success",
       "description": "",
       "description_tooltip": null,
       "layout": "IPY_MODEL_4baf63fb12bb4b5ba9ec4821a7199b6c",
       "max": 15.0,
       "min": 0.0,
       "orientation": "horizontal",
       "style": "IPY_MODEL_19b10a43cb684fa9974d755b65ee2437",
       "value": 15.0
      }
     },
     "fb11eb417b244a93906b24ec4d20524b": {
      "model_module": "@jupyter-widgets/controls",
      "model_module_version": "1.5.0",
      "model_name": "ProgressStyleModel",
      "state": {
       "_model_module": "@jupyter-widgets/controls",
       "_model_module_version": "1.5.0",
       "_model_name": "ProgressStyleModel",
       "_view_count": null,
       "_view_module": "@jupyter-widgets/base",
       "_view_module_version": "1.2.0",
       "_view_name": "StyleView",
       "bar_color": null,
       "description_width": ""
      }
     },
     "fcd10b90c35e44909249cbe0e3a18c8b": {
      "model_module": "@jupyter-widgets/controls",
      "model_module_version": "1.5.0",
      "model_name": "HBoxModel",
      "state": {
       "_dom_classes": [],
       "_model_module": "@jupyter-widgets/controls",
       "_model_module_version": "1.5.0",
       "_model_name": "HBoxModel",
       "_view_count": null,
       "_view_module": "@jupyter-widgets/controls",
       "_view_module_version": "1.5.0",
       "_view_name": "HBoxView",
       "box_style": "",
       "children": [
        "IPY_MODEL_a5b4dab5d2ce4c2e973b5dad93205df7",
        "IPY_MODEL_97cbf96aa54c4da2aa5a0ae78906a18d",
        "IPY_MODEL_02c221c8da2d49f4be64e81122cc2fd8"
       ],
       "layout": "IPY_MODEL_9accf54453db4a5abb25c848a5054eb2"
      }
     },
     "fdd3ec9c77c74bc08b988b2374780003": {
      "model_module": "@jupyter-widgets/base",
      "model_module_version": "1.2.0",
      "model_name": "LayoutModel",
      "state": {
       "_model_module": "@jupyter-widgets/base",
       "_model_module_version": "1.2.0",
       "_model_name": "LayoutModel",
       "_view_count": null,
       "_view_module": "@jupyter-widgets/base",
       "_view_module_version": "1.2.0",
       "_view_name": "LayoutView",
       "align_content": null,
       "align_items": null,
       "align_self": null,
       "border": null,
       "bottom": null,
       "display": null,
       "flex": null,
       "flex_flow": null,
       "grid_area": null,
       "grid_auto_columns": null,
       "grid_auto_flow": null,
       "grid_auto_rows": null,
       "grid_column": null,
       "grid_gap": null,
       "grid_row": null,
       "grid_template_areas": null,
       "grid_template_columns": null,
       "grid_template_rows": null,
       "height": null,
       "justify_content": null,
       "justify_items": null,
       "left": null,
       "margin": null,
       "max_height": null,
       "max_width": null,
       "min_height": null,
       "min_width": null,
       "object_fit": null,
       "object_position": null,
       "order": null,
       "overflow": null,
       "overflow_x": null,
       "overflow_y": null,
       "padding": null,
       "right": null,
       "top": null,
       "visibility": null,
       "width": null
      }
     },
     "ff14e408e57b4e6f8cd50cf31c411fb0": {
      "model_module": "@jupyter-widgets/controls",
      "model_module_version": "1.5.0",
      "model_name": "DescriptionStyleModel",
      "state": {
       "_model_module": "@jupyter-widgets/controls",
       "_model_module_version": "1.5.0",
       "_model_name": "DescriptionStyleModel",
       "_view_count": null,
       "_view_module": "@jupyter-widgets/base",
       "_view_module_version": "1.2.0",
       "_view_name": "StyleView",
       "description_width": ""
      }
     },
     "ff57aaa835b145838cc5ad2b31f8f68b": {
      "model_module": "@jupyter-widgets/controls",
      "model_module_version": "1.5.0",
      "model_name": "HBoxModel",
      "state": {
       "_dom_classes": [],
       "_model_module": "@jupyter-widgets/controls",
       "_model_module_version": "1.5.0",
       "_model_name": "HBoxModel",
       "_view_count": null,
       "_view_module": "@jupyter-widgets/controls",
       "_view_module_version": "1.5.0",
       "_view_name": "HBoxView",
       "box_style": "",
       "children": [
        "IPY_MODEL_9e9d11140d9143e7823dad4b291b07c7",
        "IPY_MODEL_e2edaaea1e5b4fc6bbe5c771b6900356",
        "IPY_MODEL_10d30f8c07e04511bda7c5462754ba32"
       ],
       "layout": "IPY_MODEL_7b2f7ee9c463446dbf6f148ea12adacc"
      }
     }
    },
    "version_major": 2,
    "version_minor": 0
   }
  }
 },
 "nbformat": 4,
 "nbformat_minor": 5
}
